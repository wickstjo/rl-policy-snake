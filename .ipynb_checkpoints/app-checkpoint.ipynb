{
 "cells": [
  {
   "cell_type": "code",
   "execution_count": 4,
   "metadata": {},
   "outputs": [],
   "source": [
    "import numpy as np\n",
    "import random\n",
    "import time"
   ]
  },
  {
   "cell_type": "code",
   "execution_count": 21,
   "metadata": {},
   "outputs": [],
   "source": [
    "from IPython.display import clear_output"
   ]
  },
  {
   "cell_type": "markdown",
   "metadata": {},
   "source": [
    "### CREATE A SNAKE GAME"
   ]
  },
  {
   "cell_type": "code",
   "execution_count": 561,
   "metadata": {},
   "outputs": [],
   "source": [
    "class create_game:\n",
    "    def __init__(self, dimensions):\n",
    "        \n",
    "        # CREATE A MAZE, SNAKE & FOOD\n",
    "        self.create_maze(dimensions)\n",
    "        self.create_snake()\n",
    "        self.create_food()\n",
    "        \n",
    "        # START AT SCORE ZERO\n",
    "        self.score = 0\n",
    "        \n",
    "        # SHOW THE CURRENT MAZE\n",
    "        self.show()\n",
    "    \n",
    "    # SHOW THE CURRENT MAZE\n",
    "    def show(self):\n",
    "        clear_output(wait=True)\n",
    "        \n",
    "        # LOOP THROUGH MAZE ROWS & COLS\n",
    "        for row in self.maze:\n",
    "            for index, value in enumerate(row):\n",
    "\n",
    "                # SELECT CORRECT SYMBOL\n",
    "                if value == 0:\n",
    "                    symbol = '-'\n",
    "                elif value == 1:\n",
    "                    symbol = '#'\n",
    "                elif value == 2:\n",
    "                    symbol = '@'\n",
    "\n",
    "                # PRINT WITH OR WITHOUT LINEBREAK\n",
    "                if index < len(row) - 1:\n",
    "                    print(symbol, end='')\n",
    "                else:\n",
    "                    print(symbol, end='\\n')\n",
    "        \n",
    "    # END THE GAME\n",
    "    def destroy(self):\n",
    "        clear_output(wait=True)\n",
    "        print('YOU HAVE DIED - SCORE: {}'.format(self.score))\n",
    "        \n",
    "    # CREATE A MAZE\n",
    "    def create_maze(self, dimensions):\n",
    "        self.rows = dimensions[0]\n",
    "        self.cols = dimensions[1]\n",
    "        self.maze = np.zeros((dimensions[0], dimensions[1]))\n",
    "        \n",
    "    # CREATE FOOD AT A RANDOM POSITION\n",
    "    def create_food(self):\n",
    "        \n",
    "        # FIND ALL EMPTY POSITIONS IN THE MATRIX\n",
    "        positions = np.argwhere(self.maze == 0)\n",
    "        \n",
    "        # PICK A RANDOM OPEN INDEX\n",
    "        index = random.randint(0, len(positions) - 1)\n",
    "        \n",
    "        # ADD THE FOOD & UPDATE THE FIGURE\n",
    "        self.maze[positions[index][0]][positions[index][1]] = 2\n",
    "    \n",
    "    # CREATE A SNAKE\n",
    "    def create_snake(self):\n",
    "        self.snake = [(1, 3), (1, 2), (1, 1)]\n",
    "        \n",
    "        # LOOP THROUGH BODYPARTS & ADD THEM\n",
    "        for part in self.snake:\n",
    "            self.maze[part[0]][part[1]] = 1\n",
    "        \n",
    "    # MOVE THE SNAKE\n",
    "    def move_snake(self, direction):\n",
    "\n",
    "        # SNAPSHOT CURRENT HEAD POSITION\n",
    "        next_y = self.snake[0][0]\n",
    "        next_x = self.snake[0][1]\n",
    "\n",
    "        # DECIDE THE NEXT MOVE\n",
    "        if direction == 'DOWN':\n",
    "            next_y += 1\n",
    "\n",
    "        elif direction == 'UP':\n",
    "            next_y -= 1\n",
    "\n",
    "        elif direction == 'RIGHT':\n",
    "            next_x += 1\n",
    "\n",
    "        elif direction == 'LEFT':\n",
    "            next_x -= 1\n",
    "\n",
    "        # THE THE SNAKE HITS ITSELF\n",
    "        if ((next_y, next_x) in self.snake):\n",
    "            self.destroy()\n",
    "\n",
    "        # IF THE UPPER OR LOWER WALL\n",
    "        elif (next_y < 0 or next_y > self.rows - 1):\n",
    "            self.destroy()\n",
    "\n",
    "        # IF THE LEFT OR RIGHT WALL\n",
    "        elif (next_x < 0 or next_x > self.cols - 1):\n",
    "            self.destroy()\n",
    "\n",
    "        # EAT FOOD & GROW\n",
    "        elif (self.maze[next_y][next_x] == 2):\n",
    "\n",
    "            # GROW THE SNAKE BY UPDATING THE HEADS POSITION\n",
    "            self.snake.insert(0, (next_y, next_x))\n",
    "            self.maze[next_y][next_x] = 1\n",
    "\n",
    "            # INCREASE THE SCORE & CREATE NEW FOOD\n",
    "            self.score += 1\n",
    "            self.create_food()\n",
    "\n",
    "            # SHOW UPDATED MAZE\n",
    "            self.show()\n",
    "\n",
    "        # OTHERWISE, MOVE\n",
    "        else:\n",
    "\n",
    "            # MOVE SNAKE HEAD\n",
    "            self.snake.insert(0, (next_y, next_x))\n",
    "\n",
    "            # REMOVE SNAKE TAIL\n",
    "            tail = self.snake.pop()\n",
    "\n",
    "            # RENDER NEW HEAD & REMOVE OLD TAIL\n",
    "            self.maze[next_y][next_x] = 1\n",
    "            self.maze[tail[0]][tail[1]] = 0\n",
    "\n",
    "            # SHOW UPDATED MAZE\n",
    "            self.show()"
   ]
  },
  {
   "cell_type": "markdown",
   "metadata": {},
   "source": [
    "### PLAY THE GAME"
   ]
  },
  {
   "cell_type": "code",
   "execution_count": 562,
   "metadata": {},
   "outputs": [
    {
     "name": "stdout",
     "output_type": "stream",
     "text": [
      "--------------------\n",
      "-###----------------\n",
      "--------------------\n",
      "--------------------\n",
      "--------------------\n",
      "--------@-----------\n",
      "--------------------\n",
      "--------------------\n",
      "--------------------\n",
      "--------------------\n"
     ]
    }
   ],
   "source": [
    "game = create_game([10, 20])"
   ]
  },
  {
   "cell_type": "code",
   "execution_count": 577,
   "metadata": {},
   "outputs": [
    {
     "name": "stdout",
     "output_type": "stream",
     "text": [
      "-----------------@--\n",
      "--------------------\n",
      "--------------------\n",
      "--------------------\n",
      "--------------------\n",
      "--------------------\n",
      "--------#-----------\n",
      "-----####-----------\n",
      "--------------------\n",
      "--------------------\n"
     ]
    }
   ],
   "source": [
    "game.move_snake('LEFT')"
   ]
  },
  {
   "cell_type": "code",
   "execution_count": 565,
   "metadata": {},
   "outputs": [],
   "source": [
    "#for direction in ['RIGHT', 'RIGHT', 'RIGHT', 'RIGHT', 'RIGHT', 'RIGHT', 'RIGHT', 'RIGHT', 'RIGHT', 'RIGHT']:\n",
    "#    game.move_snake(direction)\n",
    "#    time.sleep(1)"
   ]
  },
  {
   "cell_type": "code",
   "execution_count": null,
   "metadata": {},
   "outputs": [],
   "source": []
  }
 ],
 "metadata": {
  "kernelspec": {
   "display_name": "Python 3",
   "language": "python",
   "name": "python3"
  },
  "language_info": {
   "codemirror_mode": {
    "name": "ipython",
    "version": 3
   },
   "file_extension": ".py",
   "mimetype": "text/x-python",
   "name": "python",
   "nbconvert_exporter": "python",
   "pygments_lexer": "ipython3",
   "version": "3.7.9"
  }
 },
 "nbformat": 4,
 "nbformat_minor": 4
}
