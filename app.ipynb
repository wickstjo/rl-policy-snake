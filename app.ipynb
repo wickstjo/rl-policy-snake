{
 "cells": [
  {
   "cell_type": "code",
   "execution_count": 80,
   "metadata": {},
   "outputs": [],
   "source": [
    "import numpy as np\n",
    "import random"
   ]
  },
  {
   "cell_type": "code",
   "execution_count": 81,
   "metadata": {},
   "outputs": [],
   "source": [
    "import matplotlib.pyplot as plt \n",
    "import seaborn as sns"
   ]
  },
  {
   "cell_type": "markdown",
   "metadata": {},
   "source": [
    "### CREATE A MAZE"
   ]
  },
  {
   "cell_type": "code",
   "execution_count": 115,
   "metadata": {},
   "outputs": [],
   "source": [
    "class create_maze:\n",
    "    def __init__(self, dimensions):\n",
    "        self.rows = dimensions[0]\n",
    "        self.cols = dimensions[1]\n",
    "        self.maze = np.zeros((dimensions[0], dimensions[1]))\n",
    "        \n",
    "    # PLOT THE MAZE\n",
    "    def plot(self):\n",
    "        plt.figure(figsize=(6, 6))\n",
    "        plt.show(sns.heatmap(self.maze, cmap='Dark2', cbar=False, linewidths=1))\n",
    "        \n",
    "    # CREATE FOOD AT A RANDOM POSITION\n",
    "    def create_food(self):\n",
    "        \n",
    "        # FIND ALL EMPTY POSITIONS IN THE MATRIX\n",
    "        positions = np.argwhere(self.maze == 0)\n",
    "        \n",
    "        # PICK A RANDOM OPEN INDEX\n",
    "        index = random.randint(0, len(positions) - 1)\n",
    "        \n",
    "        # UPDATE THE MAZE\n",
    "        self.update_maze(positions[index], 2)\n",
    "    \n",
    "    # UPDATE MAZE\n",
    "    def update_maze(self, position, value):\n",
    "        self.maze[position[0]][position[1]] = value"
   ]
  },
  {
   "cell_type": "code",
   "execution_count": 116,
   "metadata": {},
   "outputs": [],
   "source": [
    "maze = create_maze([10, 10])"
   ]
  },
  {
   "cell_type": "code",
   "execution_count": 117,
   "metadata": {
    "scrolled": false
   },
   "outputs": [
    {
     "data": {
      "image/png": "[encoded data removed]",
      "text/plain": [
       "<Figure size 432x432 with 1 Axes>"
      ]
     },
     "metadata": {
      "needs_background": "light"
     },
     "output_type": "display_data"
    }
   ],
   "source": [
    "maze.plot()"
   ]
  },
  {
   "cell_type": "code",
   "execution_count": 118,
   "metadata": {},
   "outputs": [],
   "source": [
    "for index in range(5):\n",
    "    maze.create_food()"
   ]
  },
  {
   "cell_type": "code",
   "execution_count": 120,
   "metadata": {},
   "outputs": [
    {
     "data": {
      "image/png": "[encoded data removed]",
      "text/plain": [
       "<Figure size 432x432 with 1 Axes>"
      ]
     },
     "metadata": {
      "needs_background": "light"
     },
     "output_type": "display_data"
    }
   ],
   "source": [
    "maze.plot()"
   ]
  },
  {
   "cell_type": "code",
   "execution_count": null,
   "metadata": {},
   "outputs": [],
   "source": []
  }
 ],
 "metadata": {
  "kernelspec": {
   "display_name": "Python 3",
   "language": "python",
   "name": "python3"
  },
  "language_info": {
   "codemirror_mode": {
    "name": "ipython",
    "version": 3
   },
   "file_extension": ".py",
   "mimetype": "text/x-python",
   "name": "python",
   "nbconvert_exporter": "python",
   "pygments_lexer": "ipython3",
   "version": "3.7.9"
  }
 },
 "nbformat": 4,
 "nbformat_minor": 4
}
