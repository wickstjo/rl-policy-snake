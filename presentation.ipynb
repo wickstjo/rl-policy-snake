{
 "cells": [
  {
   "cell_type": "code",
   "execution_count": 1,
   "metadata": {},
   "outputs": [],
   "source": [
    "import ipynb.fs.full.utils as utils"
   ]
  },
  {
   "cell_type": "code",
   "execution_count": 2,
   "metadata": {},
   "outputs": [],
   "source": [
    "import ipynb.fs.full.app as app"
   ]
  },
  {
   "cell_type": "code",
   "execution_count": 3,
   "metadata": {},
   "outputs": [],
   "source": [
    "%matplotlib inline"
   ]
  },
  {
   "cell_type": "markdown",
   "metadata": {},
   "source": [
    "### OUR PROJECT OUTLINE"
   ]
  },
  {
   "cell_type": "markdown",
   "metadata": {},
   "source": [
    "- We build and design a simple Snake game and applied reinforcement learning to the game.\n",
    "- Methods that we applied in our RL were **Epsilon-Greedy** and **Decaying Epsilon-Greedy**.\n",
    "- Multiple agents were trained and tested with different hyperparameters.\n",
    "\n",
    "\n",
    "- Environment:\n",
    "    - 0s = empty cell\n",
    "    - 1s = elements of snake\n",
    "    - 2  = apple (food)\n",
    "- Agent:\n",
    "    - The snake (1s)\n",
    "    - The snake has a head which is used for calculations within the game.\n",
    "- Actions:\n",
    "    - Up\n",
    "    - Right\n",
    "    - Down\n",
    "    - Left\n",
    "- Reward:\n",
    "    - Eat apple: 30\n",
    "    - Move towards apple: 1\n",
    "    - Move away from apple: 0\n",
    "    - Out of bounds: -100\n",
    "    - Eat itself: -100\n",
    "- State:\n",
    "    - The state consists of an array containing 8 boolean elements.\n",
    "    - The 4 first elements represent the obstacle state relative to the snake's head.\n",
    "    - The 4 last elements represent the directional state of the snake's head in relation to the apple's current position."
   ]
  },
  {
   "cell_type": "markdown",
   "metadata": {},
   "source": [
    "### OUR IMPLEMENTATION"
   ]
  },
  {
   "cell_type": "markdown",
   "metadata": {},
   "source": [
    "<img src=\"implementation.svg\" alt=\"Drawing\" style=\"width: 700px;\"/>"
   ]
  },
  {
   "cell_type": "markdown",
   "metadata": {},
   "source": [
    "### WHAT TRAINING LOOKS LIKE"
   ]
  },
  {
   "cell_type": "markdown",
   "metadata": {},
   "source": [
    "policy_score, policy, epoch_scores = app.training(**{\n",
    "    'gamma': 0.3,\n",
    "    'epsilon': {\n",
    "        'value': 0.2,\n",
    "        'decay': True\n",
    "    },\n",
    "    'rewards': {\n",
    "        'death': -100,\n",
    "        'direction': 1,\n",
    "        'grow': 30\n",
    "    },\n",
    "    'epochs': 101,\n",
    "    'evaluation': {\n",
    "        'breakpoint': 50,\n",
    "        'epochs': 25\n",
    "    },\n",
    "    'maze_size': [10, 10],\n",
    "    'max_steps': 100,\n",
    "    'delay': 0.001,\n",
    "    'display': True\n",
    "})"
   ]
  },
  {
   "cell_type": "markdown",
   "metadata": {},
   "source": [
    "### OUR HYPOTHESIS"
   ]
  },
  {
   "cell_type": "markdown",
   "metadata": {},
   "source": [
    "- A low **EPSILON** value is probably better than a high one.\n",
    "- A high **GAMMA** value is probably better than a low one.\n",
    "\n",
    "- We want to try a reduce the **EPSILON** value over time."
   ]
  },
  {
   "cell_type": "markdown",
   "metadata": {},
   "source": [
    "### MULTIPLICATIVELY DECAYING EPSILON"
   ]
  },
  {
   "cell_type": "code",
   "execution_count": 79,
   "metadata": {},
   "outputs": [],
   "source": [
    "# EPSILON -= EPSILON / MAXIMUM NUMBER EPOCHS"
   ]
  },
  {
   "cell_type": "code",
   "execution_count": 70,
   "metadata": {},
   "outputs": [],
   "source": [
    "# 0.2 STARTING EPSILON & 1MIL EPOCHS"
   ]
  },
  {
   "cell_type": "code",
   "execution_count": 4,
   "metadata": {},
   "outputs": [],
   "source": [
    "epsilon_decay = utils.load('epsilon')"
   ]
  },
  {
   "cell_type": "code",
   "execution_count": 53,
   "metadata": {},
   "outputs": [
    {
     "data": {
      "application/vnd.plotly.v1+json": {
       "config": {
        "plotlyServerURL": "https://plot.ly"
       },
       "data": [
        {
         "line": {
          "width": 1
         },
         "marker": {
          "color": "#e75f5b"
         },
         "mode": "lines+markers",
         "name": "DECAYING EPSILON",
         "opacity": 0.6,
         "type": "scatter",
         "y": [
          0.19900302700869452,
          0.19702291479065334,
          0.1950625050085747,
          0.19312160162004338,
          0.19120001053329705,
          0.18929753958781603,
          0.18741399853511193,
          0.18554919901970066,
          0.18370295456025978,
          0.18187508053099108,
          0.18006539414315068,
          0.1782737144267725,
          0.17649986221257064,
          0.1747436601140246,
          0.17300493250963456,
          0.17128350552536709,
          0.16957920701725926,
          0.16789186655421223,
          0.16622131540094184,
          0.16456738650110647,
          0.16292991446060404,
          0.1613087355310303,
          0.15970368759330278,
          0.1581146101414517,
          0.15654134426656574,
          0.15498373264090218,
          0.15344161950215843,
          0.15191485063788873,
          0.1504032733700878,
          0.14890673653992043,
          0.14742509049260466,
          0.14595818706244992,
          0.1445058795580386,
          0.14306802274755384,
          0.14164447284425966,
          0.14023508749212169,
          0.13883972575157405,
          0.13745824808541837,
          0.1360905163448732,
          0.13473639375576144,
          0.13339574490483164,
          0.13206843572621607,
          0.13075433348802382,
          0.12945330677906788,
          0.12816522549572168,
          0.12688996082891402,
          0.12562738525124142,
          0.12437737250422065,
          0.1231397975856612,
          0.12191453673716231,
          0.12070146743174123,
          0.1195004683615775,
          0.11831141942588431,
          0.11713420171889534,
          0.11596869751797671,
          0.11481479027185369,
          0.11367236458895584,
          0.11254130622587681,
          0.11142150207595093,
          0.11031284015794188,
          0.1092152096048444,
          0.10812850065279868,
          0.10705260463011242,
          0.1059874139463946,
          0.10493282208179616,
          0.10388872357635637,
          0.10285501401945933,
          0.10183159003939186,
          0.1008183492930051,
          0.09981519045548055,
          0.0988220132101997,
          0.09783871823870928,
          0.09686520721079107,
          0.09590138277462966,
          0.09494714854707306,
          0.09400240910399905,
          0.09306706997077091,
          0.09214103761278888,
          0.09122421942613831,
          0.09031652372832814,
          0.08941785974912299,
          0.0885281376214663,
          0.08764726837249183,
          0.08677516391462968,
          0.08591173703679417,
          0.08505690139566448,
          0.08421057150704969,
          0.08337266273733968,
          0.08254309129504318,
          0.08172177422240852,
          0.08090862938712551,
          0.08010357547411424,
          0.07930653197739332,
          0.07851741919202818,
          0.07773615820616175,
          0.07696267089312295,
          0.07619687990361246,
          0.07543870865797003,
          0.0746880813385154,
          0.07394492288196595
         ],
         "yaxis": "y2"
        }
       ],
       "layout": {
        "margin": {
         "b": 20,
         "l": 20,
         "r": 20,
         "t": 20
        },
        "template": {
         "data": {
          "bar": [
           {
            "error_x": {
             "color": "#2a3f5f"
            },
            "error_y": {
             "color": "#2a3f5f"
            },
            "marker": {
             "line": {
              "color": "#E5ECF6",
              "width": 0.5
             }
            },
            "type": "bar"
           }
          ],
          "barpolar": [
           {
            "marker": {
             "line": {
              "color": "#E5ECF6",
              "width": 0.5
             }
            },
            "type": "barpolar"
           }
          ],
          "carpet": [
           {
            "aaxis": {
             "endlinecolor": "#2a3f5f",
             "gridcolor": "white",
             "linecolor": "white",
             "minorgridcolor": "white",
             "startlinecolor": "#2a3f5f"
            },
            "baxis": {
             "endlinecolor": "#2a3f5f",
             "gridcolor": "white",
             "linecolor": "white",
             "minorgridcolor": "white",
             "startlinecolor": "#2a3f5f"
            },
            "type": "carpet"
           }
          ],
          "choropleth": [
           {
            "colorbar": {
             "outlinewidth": 0,
             "ticks": ""
            },
            "type": "choropleth"
           }
          ],
          "contour": [
           {
            "colorbar": {
             "outlinewidth": 0,
             "ticks": ""
            },
            "colorscale": [
             [
              0,
              "#0d0887"
             ],
             [
              0.1111111111111111,
              "#46039f"
             ],
             [
              0.2222222222222222,
              "#7201a8"
             ],
             [
              0.3333333333333333,
              "#9c179e"
             ],
             [
              0.4444444444444444,
              "#bd3786"
             ],
             [
              0.5555555555555556,
              "#d8576b"
             ],
             [
              0.6666666666666666,
              "#ed7953"
             ],
             [
              0.7777777777777778,
              "#fb9f3a"
             ],
             [
              0.8888888888888888,
              "#fdca26"
             ],
             [
              1,
              "#f0f921"
             ]
            ],
            "type": "contour"
           }
          ],
          "contourcarpet": [
           {
            "colorbar": {
             "outlinewidth": 0,
             "ticks": ""
            },
            "type": "contourcarpet"
           }
          ],
          "heatmap": [
           {
            "colorbar": {
             "outlinewidth": 0,
             "ticks": ""
            },
            "colorscale": [
             [
              0,
              "#0d0887"
             ],
             [
              0.1111111111111111,
              "#46039f"
             ],
             [
              0.2222222222222222,
              "#7201a8"
             ],
             [
              0.3333333333333333,
              "#9c179e"
             ],
             [
              0.4444444444444444,
              "#bd3786"
             ],
             [
              0.5555555555555556,
              "#d8576b"
             ],
             [
              0.6666666666666666,
              "#ed7953"
             ],
             [
              0.7777777777777778,
              "#fb9f3a"
             ],
             [
              0.8888888888888888,
              "#fdca26"
             ],
             [
              1,
              "#f0f921"
             ]
            ],
            "type": "heatmap"
           }
          ],
          "heatmapgl": [
           {
            "colorbar": {
             "outlinewidth": 0,
             "ticks": ""
            },
            "colorscale": [
             [
              0,
              "#0d0887"
             ],
             [
              0.1111111111111111,
              "#46039f"
             ],
             [
              0.2222222222222222,
              "#7201a8"
             ],
             [
              0.3333333333333333,
              "#9c179e"
             ],
             [
              0.4444444444444444,
              "#bd3786"
             ],
             [
              0.5555555555555556,
              "#d8576b"
             ],
             [
              0.6666666666666666,
              "#ed7953"
             ],
             [
              0.7777777777777778,
              "#fb9f3a"
             ],
             [
              0.8888888888888888,
              "#fdca26"
             ],
             [
              1,
              "#f0f921"
             ]
            ],
            "type": "heatmapgl"
           }
          ],
          "histogram": [
           {
            "marker": {
             "colorbar": {
              "outlinewidth": 0,
              "ticks": ""
             }
            },
            "type": "histogram"
           }
          ],
          "histogram2d": [
           {
            "colorbar": {
             "outlinewidth": 0,
             "ticks": ""
            },
            "colorscale": [
             [
              0,
              "#0d0887"
             ],
             [
              0.1111111111111111,
              "#46039f"
             ],
             [
              0.2222222222222222,
              "#7201a8"
             ],
             [
              0.3333333333333333,
              "#9c179e"
             ],
             [
              0.4444444444444444,
              "#bd3786"
             ],
             [
              0.5555555555555556,
              "#d8576b"
             ],
             [
              0.6666666666666666,
              "#ed7953"
             ],
             [
              0.7777777777777778,
              "#fb9f3a"
             ],
             [
              0.8888888888888888,
              "#fdca26"
             ],
             [
              1,
              "#f0f921"
             ]
            ],
            "type": "histogram2d"
           }
          ],
          "histogram2dcontour": [
           {
            "colorbar": {
             "outlinewidth": 0,
             "ticks": ""
            },
            "colorscale": [
             [
              0,
              "#0d0887"
             ],
             [
              0.1111111111111111,
              "#46039f"
             ],
             [
              0.2222222222222222,
              "#7201a8"
             ],
             [
              0.3333333333333333,
              "#9c179e"
             ],
             [
              0.4444444444444444,
              "#bd3786"
             ],
             [
              0.5555555555555556,
              "#d8576b"
             ],
             [
              0.6666666666666666,
              "#ed7953"
             ],
             [
              0.7777777777777778,
              "#fb9f3a"
             ],
             [
              0.8888888888888888,
              "#fdca26"
             ],
             [
              1,
              "#f0f921"
             ]
            ],
            "type": "histogram2dcontour"
           }
          ],
          "mesh3d": [
           {
            "colorbar": {
             "outlinewidth": 0,
             "ticks": ""
            },
            "type": "mesh3d"
           }
          ],
          "parcoords": [
           {
            "line": {
             "colorbar": {
              "outlinewidth": 0,
              "ticks": ""
             }
            },
            "type": "parcoords"
           }
          ],
          "pie": [
           {
            "automargin": true,
            "type": "pie"
           }
          ],
          "scatter": [
           {
            "marker": {
             "colorbar": {
              "outlinewidth": 0,
              "ticks": ""
             }
            },
            "type": "scatter"
           }
          ],
          "scatter3d": [
           {
            "line": {
             "colorbar": {
              "outlinewidth": 0,
              "ticks": ""
             }
            },
            "marker": {
             "colorbar": {
              "outlinewidth": 0,
              "ticks": ""
             }
            },
            "type": "scatter3d"
           }
          ],
          "scattercarpet": [
           {
            "marker": {
             "colorbar": {
              "outlinewidth": 0,
              "ticks": ""
             }
            },
            "type": "scattercarpet"
           }
          ],
          "scattergeo": [
           {
            "marker": {
             "colorbar": {
              "outlinewidth": 0,
              "ticks": ""
             }
            },
            "type": "scattergeo"
           }
          ],
          "scattergl": [
           {
            "marker": {
             "colorbar": {
              "outlinewidth": 0,
              "ticks": ""
             }
            },
            "type": "scattergl"
           }
          ],
          "scattermapbox": [
           {
            "marker": {
             "colorbar": {
              "outlinewidth": 0,
              "ticks": ""
             }
            },
            "type": "scattermapbox"
           }
          ],
          "scatterpolar": [
           {
            "marker": {
             "colorbar": {
              "outlinewidth": 0,
              "ticks": ""
             }
            },
            "type": "scatterpolar"
           }
          ],
          "scatterpolargl": [
           {
            "marker": {
             "colorbar": {
              "outlinewidth": 0,
              "ticks": ""
             }
            },
            "type": "scatterpolargl"
           }
          ],
          "scatterternary": [
           {
            "marker": {
             "colorbar": {
              "outlinewidth": 0,
              "ticks": ""
             }
            },
            "type": "scatterternary"
           }
          ],
          "surface": [
           {
            "colorbar": {
             "outlinewidth": 0,
             "ticks": ""
            },
            "colorscale": [
             [
              0,
              "#0d0887"
             ],
             [
              0.1111111111111111,
              "#46039f"
             ],
             [
              0.2222222222222222,
              "#7201a8"
             ],
             [
              0.3333333333333333,
              "#9c179e"
             ],
             [
              0.4444444444444444,
              "#bd3786"
             ],
             [
              0.5555555555555556,
              "#d8576b"
             ],
             [
              0.6666666666666666,
              "#ed7953"
             ],
             [
              0.7777777777777778,
              "#fb9f3a"
             ],
             [
              0.8888888888888888,
              "#fdca26"
             ],
             [
              1,
              "#f0f921"
             ]
            ],
            "type": "surface"
           }
          ],
          "table": [
           {
            "cells": {
             "fill": {
              "color": "#EBF0F8"
             },
             "line": {
              "color": "white"
             }
            },
            "header": {
             "fill": {
              "color": "#C8D4E3"
             },
             "line": {
              "color": "white"
             }
            },
            "type": "table"
           }
          ]
         },
         "layout": {
          "annotationdefaults": {
           "arrowcolor": "#2a3f5f",
           "arrowhead": 0,
           "arrowwidth": 1
          },
          "coloraxis": {
           "colorbar": {
            "outlinewidth": 0,
            "ticks": ""
           }
          },
          "colorscale": {
           "diverging": [
            [
             0,
             "#8e0152"
            ],
            [
             0.1,
             "#c51b7d"
            ],
            [
             0.2,
             "#de77ae"
            ],
            [
             0.3,
             "#f1b6da"
            ],
            [
             0.4,
             "#fde0ef"
            ],
            [
             0.5,
             "#f7f7f7"
            ],
            [
             0.6,
             "#e6f5d0"
            ],
            [
             0.7,
             "#b8e186"
            ],
            [
             0.8,
             "#7fbc41"
            ],
            [
             0.9,
             "#4d9221"
            ],
            [
             1,
             "#276419"
            ]
           ],
           "sequential": [
            [
             0,
             "#0d0887"
            ],
            [
             0.1111111111111111,
             "#46039f"
            ],
            [
             0.2222222222222222,
             "#7201a8"
            ],
            [
             0.3333333333333333,
             "#9c179e"
            ],
            [
             0.4444444444444444,
             "#bd3786"
            ],
            [
             0.5555555555555556,
             "#d8576b"
            ],
            [
             0.6666666666666666,
             "#ed7953"
            ],
            [
             0.7777777777777778,
             "#fb9f3a"
            ],
            [
             0.8888888888888888,
             "#fdca26"
            ],
            [
             1,
             "#f0f921"
            ]
           ],
           "sequentialminus": [
            [
             0,
             "#0d0887"
            ],
            [
             0.1111111111111111,
             "#46039f"
            ],
            [
             0.2222222222222222,
             "#7201a8"
            ],
            [
             0.3333333333333333,
             "#9c179e"
            ],
            [
             0.4444444444444444,
             "#bd3786"
            ],
            [
             0.5555555555555556,
             "#d8576b"
            ],
            [
             0.6666666666666666,
             "#ed7953"
            ],
            [
             0.7777777777777778,
             "#fb9f3a"
            ],
            [
             0.8888888888888888,
             "#fdca26"
            ],
            [
             1,
             "#f0f921"
            ]
           ]
          },
          "colorway": [
           "#636efa",
           "#EF553B",
           "#00cc96",
           "#ab63fa",
           "#FFA15A",
           "#19d3f3",
           "#FF6692",
           "#B6E880",
           "#FF97FF",
           "#FECB52"
          ],
          "font": {
           "color": "#2a3f5f"
          },
          "geo": {
           "bgcolor": "white",
           "lakecolor": "white",
           "landcolor": "#E5ECF6",
           "showlakes": true,
           "showland": true,
           "subunitcolor": "white"
          },
          "hoverlabel": {
           "align": "left"
          },
          "hovermode": "closest",
          "mapbox": {
           "style": "light"
          },
          "paper_bgcolor": "white",
          "plot_bgcolor": "#E5ECF6",
          "polar": {
           "angularaxis": {
            "gridcolor": "white",
            "linecolor": "white",
            "ticks": ""
           },
           "bgcolor": "#E5ECF6",
           "radialaxis": {
            "gridcolor": "white",
            "linecolor": "white",
            "ticks": ""
           }
          },
          "scene": {
           "xaxis": {
            "backgroundcolor": "#E5ECF6",
            "gridcolor": "white",
            "gridwidth": 2,
            "linecolor": "white",
            "showbackground": true,
            "ticks": "",
            "zerolinecolor": "white"
           },
           "yaxis": {
            "backgroundcolor": "#E5ECF6",
            "gridcolor": "white",
            "gridwidth": 2,
            "linecolor": "white",
            "showbackground": true,
            "ticks": "",
            "zerolinecolor": "white"
           },
           "zaxis": {
            "backgroundcolor": "#E5ECF6",
            "gridcolor": "white",
            "gridwidth": 2,
            "linecolor": "white",
            "showbackground": true,
            "ticks": "",
            "zerolinecolor": "white"
           }
          },
          "shapedefaults": {
           "line": {
            "color": "#2a3f5f"
           }
          },
          "ternary": {
           "aaxis": {
            "gridcolor": "white",
            "linecolor": "white",
            "ticks": ""
           },
           "baxis": {
            "gridcolor": "white",
            "linecolor": "white",
            "ticks": ""
           },
           "bgcolor": "#E5ECF6",
           "caxis": {
            "gridcolor": "white",
            "linecolor": "white",
            "ticks": ""
           }
          },
          "title": {
           "x": 0.05
          },
          "xaxis": {
           "automargin": true,
           "gridcolor": "white",
           "linecolor": "white",
           "ticks": "",
           "title": {
            "standoff": 15
           },
           "zerolinecolor": "white",
           "zerolinewidth": 2
          },
          "yaxis": {
           "automargin": true,
           "gridcolor": "white",
           "linecolor": "white",
           "ticks": "",
           "title": {
            "standoff": 15
           },
           "zerolinecolor": "white",
           "zerolinewidth": 2
          }
         }
        },
        "yaxis": {
         "domain": [
          0,
          0.2
         ],
         "showticklabels": false
        }
       }
      },
      "text/html": [
       "<div>\n",
       "        \n",
       "        \n",
       "            <div id=\"56cf9c1e-10c9-4dfe-8bc9-2902a70b4420\" class=\"plotly-graph-div\" style=\"height:525px; width:100%;\"></div>\n",
       "            <script type=\"text/javascript\">\n",
       "                require([\"plotly\"], function(Plotly) {\n",
       "                    window.PLOTLYENV=window.PLOTLYENV || {};\n",
       "                    \n",
       "                if (document.getElementById(\"56cf9c1e-10c9-4dfe-8bc9-2902a70b4420\")) {\n",
       "                    Plotly.newPlot(\n",
       "                        '56cf9c1e-10c9-4dfe-8bc9-2902a70b4420',\n",
       "                        [{\"line\": {\"width\": 1}, \"marker\": {\"color\": \"#e75f5b\"}, \"mode\": \"lines+markers\", \"name\": \"DECAYING EPSILON\", \"opacity\": 0.6, \"type\": \"scatter\", \"y\": [0.19900302700869452, 0.19702291479065334, 0.1950625050085747, 0.19312160162004338, 0.19120001053329705, 0.18929753958781603, 0.18741399853511193, 0.18554919901970066, 0.18370295456025978, 0.18187508053099108, 0.18006539414315068, 0.1782737144267725, 0.17649986221257064, 0.1747436601140246, 0.17300493250963456, 0.17128350552536709, 0.16957920701725926, 0.16789186655421223, 0.16622131540094184, 0.16456738650110647, 0.16292991446060404, 0.1613087355310303, 0.15970368759330278, 0.1581146101414517, 0.15654134426656574, 0.15498373264090218, 0.15344161950215843, 0.15191485063788873, 0.1504032733700878, 0.14890673653992043, 0.14742509049260466, 0.14595818706244992, 0.1445058795580386, 0.14306802274755384, 0.14164447284425966, 0.14023508749212169, 0.13883972575157405, 0.13745824808541837, 0.1360905163448732, 0.13473639375576144, 0.13339574490483164, 0.13206843572621607, 0.13075433348802382, 0.12945330677906788, 0.12816522549572168, 0.12688996082891402, 0.12562738525124142, 0.12437737250422065, 0.1231397975856612, 0.12191453673716231, 0.12070146743174123, 0.1195004683615775, 0.11831141942588431, 0.11713420171889534, 0.11596869751797671, 0.11481479027185369, 0.11367236458895584, 0.11254130622587681, 0.11142150207595093, 0.11031284015794188, 0.1092152096048444, 0.10812850065279868, 0.10705260463011242, 0.1059874139463946, 0.10493282208179616, 0.10388872357635637, 0.10285501401945933, 0.10183159003939186, 0.1008183492930051, 0.09981519045548055, 0.0988220132101997, 0.09783871823870928, 0.09686520721079107, 0.09590138277462966, 0.09494714854707306, 0.09400240910399905, 0.09306706997077091, 0.09214103761278888, 0.09122421942613831, 0.09031652372832814, 0.08941785974912299, 0.0885281376214663, 0.08764726837249183, 0.08677516391462968, 0.08591173703679417, 0.08505690139566448, 0.08421057150704969, 0.08337266273733968, 0.08254309129504318, 0.08172177422240852, 0.08090862938712551, 0.08010357547411424, 0.07930653197739332, 0.07851741919202818, 0.07773615820616175, 0.07696267089312295, 0.07619687990361246, 0.07543870865797003, 0.0746880813385154, 0.07394492288196595], \"yaxis\": \"y2\"}],\n",
       "                        {\"margin\": {\"b\": 20, \"l\": 20, \"r\": 20, \"t\": 20}, \"template\": {\"data\": {\"bar\": [{\"error_x\": {\"color\": \"#2a3f5f\"}, \"error_y\": {\"color\": \"#2a3f5f\"}, \"marker\": {\"line\": {\"color\": \"#E5ECF6\", \"width\": 0.5}}, \"type\": \"bar\"}], \"barpolar\": [{\"marker\": {\"line\": {\"color\": \"#E5ECF6\", \"width\": 0.5}}, \"type\": \"barpolar\"}], \"carpet\": [{\"aaxis\": {\"endlinecolor\": \"#2a3f5f\", \"gridcolor\": \"white\", \"linecolor\": \"white\", \"minorgridcolor\": \"white\", \"startlinecolor\": \"#2a3f5f\"}, \"baxis\": {\"endlinecolor\": \"#2a3f5f\", \"gridcolor\": \"white\", \"linecolor\": \"white\", \"minorgridcolor\": \"white\", \"startlinecolor\": \"#2a3f5f\"}, \"type\": \"carpet\"}], \"choropleth\": [{\"colorbar\": {\"outlinewidth\": 0, \"ticks\": \"\"}, \"type\": \"choropleth\"}], \"contour\": [{\"colorbar\": {\"outlinewidth\": 0, \"ticks\": \"\"}, \"colorscale\": [[0.0, \"#0d0887\"], [0.1111111111111111, \"#46039f\"], [0.2222222222222222, \"#7201a8\"], [0.3333333333333333, \"#9c179e\"], [0.4444444444444444, \"#bd3786\"], [0.5555555555555556, \"#d8576b\"], [0.6666666666666666, \"#ed7953\"], [0.7777777777777778, \"#fb9f3a\"], [0.8888888888888888, \"#fdca26\"], [1.0, \"#f0f921\"]], \"type\": \"contour\"}], \"contourcarpet\": [{\"colorbar\": {\"outlinewidth\": 0, \"ticks\": \"\"}, \"type\": \"contourcarpet\"}], \"heatmap\": [{\"colorbar\": {\"outlinewidth\": 0, \"ticks\": \"\"}, \"colorscale\": [[0.0, \"#0d0887\"], [0.1111111111111111, \"#46039f\"], [0.2222222222222222, \"#7201a8\"], [0.3333333333333333, \"#9c179e\"], [0.4444444444444444, \"#bd3786\"], [0.5555555555555556, \"#d8576b\"], [0.6666666666666666, \"#ed7953\"], [0.7777777777777778, \"#fb9f3a\"], [0.8888888888888888, \"#fdca26\"], [1.0, \"#f0f921\"]], \"type\": \"heatmap\"}], \"heatmapgl\": [{\"colorbar\": {\"outlinewidth\": 0, \"ticks\": \"\"}, \"colorscale\": [[0.0, \"#0d0887\"], [0.1111111111111111, \"#46039f\"], [0.2222222222222222, \"#7201a8\"], [0.3333333333333333, \"#9c179e\"], [0.4444444444444444, \"#bd3786\"], [0.5555555555555556, \"#d8576b\"], [0.6666666666666666, \"#ed7953\"], [0.7777777777777778, \"#fb9f3a\"], [0.8888888888888888, \"#fdca26\"], [1.0, \"#f0f921\"]], \"type\": \"heatmapgl\"}], \"histogram\": [{\"marker\": {\"colorbar\": {\"outlinewidth\": 0, \"ticks\": \"\"}}, \"type\": \"histogram\"}], \"histogram2d\": [{\"colorbar\": {\"outlinewidth\": 0, \"ticks\": \"\"}, \"colorscale\": [[0.0, \"#0d0887\"], [0.1111111111111111, \"#46039f\"], [0.2222222222222222, \"#7201a8\"], [0.3333333333333333, \"#9c179e\"], [0.4444444444444444, \"#bd3786\"], [0.5555555555555556, \"#d8576b\"], [0.6666666666666666, \"#ed7953\"], [0.7777777777777778, \"#fb9f3a\"], [0.8888888888888888, \"#fdca26\"], [1.0, \"#f0f921\"]], \"type\": \"histogram2d\"}], \"histogram2dcontour\": [{\"colorbar\": {\"outlinewidth\": 0, \"ticks\": \"\"}, \"colorscale\": [[0.0, \"#0d0887\"], [0.1111111111111111, \"#46039f\"], [0.2222222222222222, \"#7201a8\"], [0.3333333333333333, \"#9c179e\"], [0.4444444444444444, \"#bd3786\"], [0.5555555555555556, \"#d8576b\"], [0.6666666666666666, \"#ed7953\"], [0.7777777777777778, \"#fb9f3a\"], [0.8888888888888888, \"#fdca26\"], [1.0, \"#f0f921\"]], \"type\": \"histogram2dcontour\"}], \"mesh3d\": [{\"colorbar\": {\"outlinewidth\": 0, \"ticks\": \"\"}, \"type\": \"mesh3d\"}], \"parcoords\": [{\"line\": {\"colorbar\": {\"outlinewidth\": 0, \"ticks\": \"\"}}, \"type\": \"parcoords\"}], \"pie\": [{\"automargin\": true, \"type\": \"pie\"}], \"scatter\": [{\"marker\": {\"colorbar\": {\"outlinewidth\": 0, \"ticks\": \"\"}}, \"type\": \"scatter\"}], \"scatter3d\": [{\"line\": {\"colorbar\": {\"outlinewidth\": 0, \"ticks\": \"\"}}, \"marker\": {\"colorbar\": {\"outlinewidth\": 0, \"ticks\": \"\"}}, \"type\": \"scatter3d\"}], \"scattercarpet\": [{\"marker\": {\"colorbar\": {\"outlinewidth\": 0, \"ticks\": \"\"}}, \"type\": \"scattercarpet\"}], \"scattergeo\": [{\"marker\": {\"colorbar\": {\"outlinewidth\": 0, \"ticks\": \"\"}}, \"type\": \"scattergeo\"}], \"scattergl\": [{\"marker\": {\"colorbar\": {\"outlinewidth\": 0, \"ticks\": \"\"}}, \"type\": \"scattergl\"}], \"scattermapbox\": [{\"marker\": {\"colorbar\": {\"outlinewidth\": 0, \"ticks\": \"\"}}, \"type\": \"scattermapbox\"}], \"scatterpolar\": [{\"marker\": {\"colorbar\": {\"outlinewidth\": 0, \"ticks\": \"\"}}, \"type\": \"scatterpolar\"}], \"scatterpolargl\": [{\"marker\": {\"colorbar\": {\"outlinewidth\": 0, \"ticks\": \"\"}}, \"type\": \"scatterpolargl\"}], \"scatterternary\": [{\"marker\": {\"colorbar\": {\"outlinewidth\": 0, \"ticks\": \"\"}}, \"type\": \"scatterternary\"}], \"surface\": [{\"colorbar\": {\"outlinewidth\": 0, \"ticks\": \"\"}, \"colorscale\": [[0.0, \"#0d0887\"], [0.1111111111111111, \"#46039f\"], [0.2222222222222222, \"#7201a8\"], [0.3333333333333333, \"#9c179e\"], [0.4444444444444444, \"#bd3786\"], [0.5555555555555556, \"#d8576b\"], [0.6666666666666666, \"#ed7953\"], [0.7777777777777778, \"#fb9f3a\"], [0.8888888888888888, \"#fdca26\"], [1.0, \"#f0f921\"]], \"type\": \"surface\"}], \"table\": [{\"cells\": {\"fill\": {\"color\": \"#EBF0F8\"}, \"line\": {\"color\": \"white\"}}, \"header\": {\"fill\": {\"color\": \"#C8D4E3\"}, \"line\": {\"color\": \"white\"}}, \"type\": \"table\"}]}, \"layout\": {\"annotationdefaults\": {\"arrowcolor\": \"#2a3f5f\", \"arrowhead\": 0, \"arrowwidth\": 1}, \"coloraxis\": {\"colorbar\": {\"outlinewidth\": 0, \"ticks\": \"\"}}, \"colorscale\": {\"diverging\": [[0, \"#8e0152\"], [0.1, \"#c51b7d\"], [0.2, \"#de77ae\"], [0.3, \"#f1b6da\"], [0.4, \"#fde0ef\"], [0.5, \"#f7f7f7\"], [0.6, \"#e6f5d0\"], [0.7, \"#b8e186\"], [0.8, \"#7fbc41\"], [0.9, \"#4d9221\"], [1, \"#276419\"]], \"sequential\": [[0.0, \"#0d0887\"], [0.1111111111111111, \"#46039f\"], [0.2222222222222222, \"#7201a8\"], [0.3333333333333333, \"#9c179e\"], [0.4444444444444444, \"#bd3786\"], [0.5555555555555556, \"#d8576b\"], [0.6666666666666666, \"#ed7953\"], [0.7777777777777778, \"#fb9f3a\"], [0.8888888888888888, \"#fdca26\"], [1.0, \"#f0f921\"]], \"sequentialminus\": [[0.0, \"#0d0887\"], [0.1111111111111111, \"#46039f\"], [0.2222222222222222, \"#7201a8\"], [0.3333333333333333, \"#9c179e\"], [0.4444444444444444, \"#bd3786\"], [0.5555555555555556, \"#d8576b\"], [0.6666666666666666, \"#ed7953\"], [0.7777777777777778, \"#fb9f3a\"], [0.8888888888888888, \"#fdca26\"], [1.0, \"#f0f921\"]]}, \"colorway\": [\"#636efa\", \"#EF553B\", \"#00cc96\", \"#ab63fa\", \"#FFA15A\", \"#19d3f3\", \"#FF6692\", \"#B6E880\", \"#FF97FF\", \"#FECB52\"], \"font\": {\"color\": \"#2a3f5f\"}, \"geo\": {\"bgcolor\": \"white\", \"lakecolor\": \"white\", \"landcolor\": \"#E5ECF6\", \"showlakes\": true, \"showland\": true, \"subunitcolor\": \"white\"}, \"hoverlabel\": {\"align\": \"left\"}, \"hovermode\": \"closest\", \"mapbox\": {\"style\": \"light\"}, \"paper_bgcolor\": \"white\", \"plot_bgcolor\": \"#E5ECF6\", \"polar\": {\"angularaxis\": {\"gridcolor\": \"white\", \"linecolor\": \"white\", \"ticks\": \"\"}, \"bgcolor\": \"#E5ECF6\", \"radialaxis\": {\"gridcolor\": \"white\", \"linecolor\": \"white\", \"ticks\": \"\"}}, \"scene\": {\"xaxis\": {\"backgroundcolor\": \"#E5ECF6\", \"gridcolor\": \"white\", \"gridwidth\": 2, \"linecolor\": \"white\", \"showbackground\": true, \"ticks\": \"\", \"zerolinecolor\": \"white\"}, \"yaxis\": {\"backgroundcolor\": \"#E5ECF6\", \"gridcolor\": \"white\", \"gridwidth\": 2, \"linecolor\": \"white\", \"showbackground\": true, \"ticks\": \"\", \"zerolinecolor\": \"white\"}, \"zaxis\": {\"backgroundcolor\": \"#E5ECF6\", \"gridcolor\": \"white\", \"gridwidth\": 2, \"linecolor\": \"white\", \"showbackground\": true, \"ticks\": \"\", \"zerolinecolor\": \"white\"}}, \"shapedefaults\": {\"line\": {\"color\": \"#2a3f5f\"}}, \"ternary\": {\"aaxis\": {\"gridcolor\": \"white\", \"linecolor\": \"white\", \"ticks\": \"\"}, \"baxis\": {\"gridcolor\": \"white\", \"linecolor\": \"white\", \"ticks\": \"\"}, \"bgcolor\": \"#E5ECF6\", \"caxis\": {\"gridcolor\": \"white\", \"linecolor\": \"white\", \"ticks\": \"\"}}, \"title\": {\"x\": 0.05}, \"xaxis\": {\"automargin\": true, \"gridcolor\": \"white\", \"linecolor\": \"white\", \"ticks\": \"\", \"title\": {\"standoff\": 15}, \"zerolinecolor\": \"white\", \"zerolinewidth\": 2}, \"yaxis\": {\"automargin\": true, \"gridcolor\": \"white\", \"linecolor\": \"white\", \"ticks\": \"\", \"title\": {\"standoff\": 15}, \"zerolinecolor\": \"white\", \"zerolinewidth\": 2}}}, \"yaxis\": {\"domain\": [0, 0.2], \"showticklabels\": false}},\n",
       "                        {\"responsive\": true}\n",
       "                    ).then(function(){\n",
       "                            \n",
       "var gd = document.getElementById('56cf9c1e-10c9-4dfe-8bc9-2902a70b4420');\n",
       "var x = new MutationObserver(function (mutations, observer) {{\n",
       "        var display = window.getComputedStyle(gd).display;\n",
       "        if (!display || display === 'none') {{\n",
       "            console.log([gd, 'removed!']);\n",
       "            Plotly.purge(gd);\n",
       "            observer.disconnect();\n",
       "        }}\n",
       "}});\n",
       "\n",
       "// Listen for the removal of the full notebook cells\n",
       "var notebookContainer = gd.closest('#notebook-container');\n",
       "if (notebookContainer) {{\n",
       "    x.observe(notebookContainer, {childList: true});\n",
       "}}\n",
       "\n",
       "// Listen for the clearing of the current output cell\n",
       "var outputEl = gd.closest('.output');\n",
       "if (outputEl) {{\n",
       "    x.observe(outputEl, {childList: true});\n",
       "}}\n",
       "\n",
       "                        })\n",
       "                };\n",
       "                });\n",
       "            </script>\n",
       "        </div>"
      ]
     },
     "metadata": {},
     "output_type": "display_data"
    }
   ],
   "source": [
    "utils.visualize([\n",
    "    ['DECAYING EPSILON', epsilon_decay]\n",
    "], cluster=10000)"
   ]
  },
  {
   "cell_type": "markdown",
   "metadata": {},
   "source": [
    "### 100K EPOCHS, 0.8 GAMMA, [DYNAMIC / STATIC] 0.2 EPSILON - RUNTIME ~5 SECONDS"
   ]
  },
  {
   "cell_type": "code",
   "execution_count": 64,
   "metadata": {},
   "outputs": [],
   "source": [
    "# HIGH GAMMA = PREFERS A LONG-TERM REWARD"
   ]
  },
  {
   "cell_type": "code",
   "execution_count": 63,
   "metadata": {},
   "outputs": [],
   "source": [
    "# LOW EPSILON = LOW CHANCE OF EXPLORATION"
   ]
  },
  {
   "cell_type": "code",
   "execution_count": 65,
   "metadata": {},
   "outputs": [],
   "source": [
    "dacaying = utils.load('100k_high_gamma_dynamic_epsilon')"
   ]
  },
  {
   "cell_type": "code",
   "execution_count": 66,
   "metadata": {},
   "outputs": [],
   "source": [
    "static = utils.load('100k_high_gamma_static_epsilon')"
   ]
  },
  {
   "cell_type": "code",
   "execution_count": 68,
   "metadata": {},
   "outputs": [
    {
     "data": {
      "application/vnd.plotly.v1+json": {
       "config": {
        "plotlyServerURL": "https://plot.ly"
       },
       "data": [
        {
         "line": {
          "width": 1
         },
         "marker": {
          "color": "#e75f5b"
         },
         "mode": "lines+markers",
         "name": "DECAYING EPSILON",
         "opacity": 0.6,
         "type": "scatter",
         "y": [
          1.196,
          1.378,
          1.268,
          1.418,
          1.522,
          1.304,
          1.338,
          1.31,
          1.608,
          1.388,
          1.518,
          1.342,
          1.38,
          1.526,
          1.468,
          1.48,
          1.416,
          1.614,
          1.49,
          1.56,
          1.492,
          1.624,
          1.704,
          1.418,
          1.544,
          1.352,
          1.654,
          1.46,
          1.53,
          1.54,
          1.576,
          1.624,
          1.464,
          1.842,
          1.772,
          1.526,
          1.658,
          1.63,
          1.58,
          1.812,
          1.548,
          1.692,
          1.732,
          1.554,
          1.652,
          1.608,
          1.744,
          1.654,
          1.754,
          1.686,
          1.6,
          1.752,
          1.538,
          1.754,
          1.554,
          1.842,
          1.65,
          1.762,
          1.732,
          1.686,
          1.658,
          1.658,
          2.002,
          1.858,
          1.848,
          1.708,
          1.804,
          1.792,
          1.706,
          1.776,
          1.838,
          1.876,
          1.878,
          1.798,
          2.13,
          2.034,
          1.968,
          2.152,
          1.796,
          2.034,
          2.008,
          1.782,
          2.018,
          1.97,
          1.934,
          1.874,
          1.744,
          1.818,
          2.212,
          1.882,
          2.084,
          1.984,
          2.028,
          2.226,
          1.746,
          2.06,
          1.936,
          2.098,
          1.91,
          1.776,
          1.942,
          2.366,
          2.166,
          2.024,
          1.986,
          1.986,
          2.202,
          1.98,
          2.298,
          2.038,
          2.404,
          2.058,
          2.144,
          2.34,
          2.134,
          2.338,
          1.95,
          2.096,
          2.14,
          2.208,
          2.272,
          2.52,
          2.174,
          2.142,
          2.224,
          1.982,
          2.196,
          2.32,
          2.042,
          2.088,
          2.26,
          2.418,
          2.244,
          2.096,
          2.336,
          2.242,
          2.022,
          2.338,
          2.232,
          1.934,
          1.99,
          2.356,
          2.03,
          1.882,
          2.046,
          2.174,
          2.428,
          2.03,
          2.274,
          2.096,
          2.178,
          2.366,
          1.932,
          2.086,
          1.696,
          1.97,
          2.298,
          2.098,
          2.544,
          2.186,
          2.428,
          2.236,
          2.14,
          2.46,
          2.31,
          2.016,
          1.94,
          2,
          2.084,
          1.946,
          2.134,
          2.192,
          1.788,
          2.098,
          2.15,
          2.336,
          2.178,
          2.202,
          2.138,
          2.008,
          1.73,
          2.404,
          2.17,
          2.06,
          1.97,
          1.648,
          1.704,
          1.956,
          1.962,
          1.858,
          2.176,
          2.008,
          2.066,
          2.112,
          2.426,
          2.402,
          2.464,
          2.438,
          2.356,
          2.506
         ],
         "yaxis": "y2"
        },
        {
         "line": {
          "width": 1
         },
         "marker": {
          "color": "#52af52"
         },
         "mode": "lines+markers",
         "name": "STATIC EPSILON",
         "opacity": 0.6,
         "type": "scatter",
         "y": [
          1.274,
          1.216,
          1.362,
          1.42,
          1.484,
          1.404,
          1.21,
          1.33,
          1.37,
          1.396,
          1.396,
          1.434,
          1.398,
          1.244,
          1.44,
          1.226,
          1.364,
          1.2,
          1.378,
          1.286,
          1.29,
          1.222,
          1.31,
          1.36,
          1.318,
          1.386,
          1.258,
          1.24,
          1.264,
          1.456,
          1.44,
          1.352,
          1.268,
          1.318,
          1.378,
          1.338,
          1.322,
          1.534,
          1.324,
          1.256,
          1.376,
          1.274,
          1.252,
          1.358,
          1.376,
          1.524,
          1.18,
          1.372,
          1.382,
          1.31,
          1.294,
          1.26,
          1.33,
          1.272,
          1.248,
          1.28,
          1.342,
          1.264,
          1.368,
          1.174,
          1.372,
          1.26,
          1.344,
          1.478,
          1.344,
          1.398,
          1.374,
          1.292,
          1.224,
          1.376,
          1.59,
          1.456,
          1.438,
          1.354,
          1.466,
          1.42,
          1.234,
          1.27,
          1.26,
          1.42,
          1.362,
          1.21,
          1.354,
          1.342,
          1.426,
          1.366,
          1.258,
          1.368,
          1.306,
          1.474,
          1.386,
          1.228,
          1.35,
          1.238,
          1.352,
          1.406,
          1.268,
          1.332,
          1.358,
          1.406,
          1.37,
          1.3,
          1.32,
          1.556,
          1.392,
          1.14,
          1.416,
          1.278,
          1.368,
          1.31,
          1.296,
          1.326,
          1.358,
          1.35,
          1.324,
          1.328,
          1.36,
          1.446,
          1.314,
          1.312,
          1.276,
          1.322,
          1.286,
          1.382,
          1.338,
          1.314,
          1.24,
          1.334,
          1.2,
          1.418,
          1.412,
          1.234,
          1.216,
          1.372,
          1.33,
          1.268,
          1.344,
          1.25,
          1.272,
          1.368,
          1.282,
          1.35,
          1.492,
          1.262,
          1.28,
          1.208,
          1.28,
          1.382,
          1.452,
          1.318,
          1.476,
          1.248,
          1.516,
          1.304,
          1.298,
          1.372,
          1.314,
          1.31,
          1.432,
          1.304,
          1.368,
          1.336,
          1.402,
          1.258,
          1.296,
          1.278,
          1.296,
          1.384,
          1.24,
          1.29,
          1.396,
          1.264,
          1.312,
          1.24,
          1.238,
          1.462,
          1.314,
          1.28,
          1.288,
          1.234,
          1.344,
          1.414,
          1.356,
          1.35,
          1.27,
          1.376,
          1.244,
          1.334,
          1.286,
          1.452,
          1.482,
          1.422,
          1.37,
          1.476,
          1.258,
          1.312,
          1.2,
          1.208,
          1.226,
          1.354
         ],
         "yaxis": "y2"
        }
       ],
       "layout": {
        "margin": {
         "b": 20,
         "l": 20,
         "r": 20,
         "t": 20
        },
        "template": {
         "data": {
          "bar": [
           {
            "error_x": {
             "color": "#2a3f5f"
            },
            "error_y": {
             "color": "#2a3f5f"
            },
            "marker": {
             "line": {
              "color": "#E5ECF6",
              "width": 0.5
             }
            },
            "type": "bar"
           }
          ],
          "barpolar": [
           {
            "marker": {
             "line": {
              "color": "#E5ECF6",
              "width": 0.5
             }
            },
            "type": "barpolar"
           }
          ],
          "carpet": [
           {
            "aaxis": {
             "endlinecolor": "#2a3f5f",
             "gridcolor": "white",
             "linecolor": "white",
             "minorgridcolor": "white",
             "startlinecolor": "#2a3f5f"
            },
            "baxis": {
             "endlinecolor": "#2a3f5f",
             "gridcolor": "white",
             "linecolor": "white",
             "minorgridcolor": "white",
             "startlinecolor": "#2a3f5f"
            },
            "type": "carpet"
           }
          ],
          "choropleth": [
           {
            "colorbar": {
             "outlinewidth": 0,
             "ticks": ""
            },
            "type": "choropleth"
           }
          ],
          "contour": [
           {
            "colorbar": {
             "outlinewidth": 0,
             "ticks": ""
            },
            "colorscale": [
             [
              0,
              "#0d0887"
             ],
             [
              0.1111111111111111,
              "#46039f"
             ],
             [
              0.2222222222222222,
              "#7201a8"
             ],
             [
              0.3333333333333333,
              "#9c179e"
             ],
             [
              0.4444444444444444,
              "#bd3786"
             ],
             [
              0.5555555555555556,
              "#d8576b"
             ],
             [
              0.6666666666666666,
              "#ed7953"
             ],
             [
              0.7777777777777778,
              "#fb9f3a"
             ],
             [
              0.8888888888888888,
              "#fdca26"
             ],
             [
              1,
              "#f0f921"
             ]
            ],
            "type": "contour"
           }
          ],
          "contourcarpet": [
           {
            "colorbar": {
             "outlinewidth": 0,
             "ticks": ""
            },
            "type": "contourcarpet"
           }
          ],
          "heatmap": [
           {
            "colorbar": {
             "outlinewidth": 0,
             "ticks": ""
            },
            "colorscale": [
             [
              0,
              "#0d0887"
             ],
             [
              0.1111111111111111,
              "#46039f"
             ],
             [
              0.2222222222222222,
              "#7201a8"
             ],
             [
              0.3333333333333333,
              "#9c179e"
             ],
             [
              0.4444444444444444,
              "#bd3786"
             ],
             [
              0.5555555555555556,
              "#d8576b"
             ],
             [
              0.6666666666666666,
              "#ed7953"
             ],
             [
              0.7777777777777778,
              "#fb9f3a"
             ],
             [
              0.8888888888888888,
              "#fdca26"
             ],
             [
              1,
              "#f0f921"
             ]
            ],
            "type": "heatmap"
           }
          ],
          "heatmapgl": [
           {
            "colorbar": {
             "outlinewidth": 0,
             "ticks": ""
            },
            "colorscale": [
             [
              0,
              "#0d0887"
             ],
             [
              0.1111111111111111,
              "#46039f"
             ],
             [
              0.2222222222222222,
              "#7201a8"
             ],
             [
              0.3333333333333333,
              "#9c179e"
             ],
             [
              0.4444444444444444,
              "#bd3786"
             ],
             [
              0.5555555555555556,
              "#d8576b"
             ],
             [
              0.6666666666666666,
              "#ed7953"
             ],
             [
              0.7777777777777778,
              "#fb9f3a"
             ],
             [
              0.8888888888888888,
              "#fdca26"
             ],
             [
              1,
              "#f0f921"
             ]
            ],
            "type": "heatmapgl"
           }
          ],
          "histogram": [
           {
            "marker": {
             "colorbar": {
              "outlinewidth": 0,
              "ticks": ""
             }
            },
            "type": "histogram"
           }
          ],
          "histogram2d": [
           {
            "colorbar": {
             "outlinewidth": 0,
             "ticks": ""
            },
            "colorscale": [
             [
              0,
              "#0d0887"
             ],
             [
              0.1111111111111111,
              "#46039f"
             ],
             [
              0.2222222222222222,
              "#7201a8"
             ],
             [
              0.3333333333333333,
              "#9c179e"
             ],
             [
              0.4444444444444444,
              "#bd3786"
             ],
             [
              0.5555555555555556,
              "#d8576b"
             ],
             [
              0.6666666666666666,
              "#ed7953"
             ],
             [
              0.7777777777777778,
              "#fb9f3a"
             ],
             [
              0.8888888888888888,
              "#fdca26"
             ],
             [
              1,
              "#f0f921"
             ]
            ],
            "type": "histogram2d"
           }
          ],
          "histogram2dcontour": [
           {
            "colorbar": {
             "outlinewidth": 0,
             "ticks": ""
            },
            "colorscale": [
             [
              0,
              "#0d0887"
             ],
             [
              0.1111111111111111,
              "#46039f"
             ],
             [
              0.2222222222222222,
              "#7201a8"
             ],
             [
              0.3333333333333333,
              "#9c179e"
             ],
             [
              0.4444444444444444,
              "#bd3786"
             ],
             [
              0.5555555555555556,
              "#d8576b"
             ],
             [
              0.6666666666666666,
              "#ed7953"
             ],
             [
              0.7777777777777778,
              "#fb9f3a"
             ],
             [
              0.8888888888888888,
              "#fdca26"
             ],
             [
              1,
              "#f0f921"
             ]
            ],
            "type": "histogram2dcontour"
           }
          ],
          "mesh3d": [
           {
            "colorbar": {
             "outlinewidth": 0,
             "ticks": ""
            },
            "type": "mesh3d"
           }
          ],
          "parcoords": [
           {
            "line": {
             "colorbar": {
              "outlinewidth": 0,
              "ticks": ""
             }
            },
            "type": "parcoords"
           }
          ],
          "pie": [
           {
            "automargin": true,
            "type": "pie"
           }
          ],
          "scatter": [
           {
            "marker": {
             "colorbar": {
              "outlinewidth": 0,
              "ticks": ""
             }
            },
            "type": "scatter"
           }
          ],
          "scatter3d": [
           {
            "line": {
             "colorbar": {
              "outlinewidth": 0,
              "ticks": ""
             }
            },
            "marker": {
             "colorbar": {
              "outlinewidth": 0,
              "ticks": ""
             }
            },
            "type": "scatter3d"
           }
          ],
          "scattercarpet": [
           {
            "marker": {
             "colorbar": {
              "outlinewidth": 0,
              "ticks": ""
             }
            },
            "type": "scattercarpet"
           }
          ],
          "scattergeo": [
           {
            "marker": {
             "colorbar": {
              "outlinewidth": 0,
              "ticks": ""
             }
            },
            "type": "scattergeo"
           }
          ],
          "scattergl": [
           {
            "marker": {
             "colorbar": {
              "outlinewidth": 0,
              "ticks": ""
             }
            },
            "type": "scattergl"
           }
          ],
          "scattermapbox": [
           {
            "marker": {
             "colorbar": {
              "outlinewidth": 0,
              "ticks": ""
             }
            },
            "type": "scattermapbox"
           }
          ],
          "scatterpolar": [
           {
            "marker": {
             "colorbar": {
              "outlinewidth": 0,
              "ticks": ""
             }
            },
            "type": "scatterpolar"
           }
          ],
          "scatterpolargl": [
           {
            "marker": {
             "colorbar": {
              "outlinewidth": 0,
              "ticks": ""
             }
            },
            "type": "scatterpolargl"
           }
          ],
          "scatterternary": [
           {
            "marker": {
             "colorbar": {
              "outlinewidth": 0,
              "ticks": ""
             }
            },
            "type": "scatterternary"
           }
          ],
          "surface": [
           {
            "colorbar": {
             "outlinewidth": 0,
             "ticks": ""
            },
            "colorscale": [
             [
              0,
              "#0d0887"
             ],
             [
              0.1111111111111111,
              "#46039f"
             ],
             [
              0.2222222222222222,
              "#7201a8"
             ],
             [
              0.3333333333333333,
              "#9c179e"
             ],
             [
              0.4444444444444444,
              "#bd3786"
             ],
             [
              0.5555555555555556,
              "#d8576b"
             ],
             [
              0.6666666666666666,
              "#ed7953"
             ],
             [
              0.7777777777777778,
              "#fb9f3a"
             ],
             [
              0.8888888888888888,
              "#fdca26"
             ],
             [
              1,
              "#f0f921"
             ]
            ],
            "type": "surface"
           }
          ],
          "table": [
           {
            "cells": {
             "fill": {
              "color": "#EBF0F8"
             },
             "line": {
              "color": "white"
             }
            },
            "header": {
             "fill": {
              "color": "#C8D4E3"
             },
             "line": {
              "color": "white"
             }
            },
            "type": "table"
           }
          ]
         },
         "layout": {
          "annotationdefaults": {
           "arrowcolor": "#2a3f5f",
           "arrowhead": 0,
           "arrowwidth": 1
          },
          "coloraxis": {
           "colorbar": {
            "outlinewidth": 0,
            "ticks": ""
           }
          },
          "colorscale": {
           "diverging": [
            [
             0,
             "#8e0152"
            ],
            [
             0.1,
             "#c51b7d"
            ],
            [
             0.2,
             "#de77ae"
            ],
            [
             0.3,
             "#f1b6da"
            ],
            [
             0.4,
             "#fde0ef"
            ],
            [
             0.5,
             "#f7f7f7"
            ],
            [
             0.6,
             "#e6f5d0"
            ],
            [
             0.7,
             "#b8e186"
            ],
            [
             0.8,
             "#7fbc41"
            ],
            [
             0.9,
             "#4d9221"
            ],
            [
             1,
             "#276419"
            ]
           ],
           "sequential": [
            [
             0,
             "#0d0887"
            ],
            [
             0.1111111111111111,
             "#46039f"
            ],
            [
             0.2222222222222222,
             "#7201a8"
            ],
            [
             0.3333333333333333,
             "#9c179e"
            ],
            [
             0.4444444444444444,
             "#bd3786"
            ],
            [
             0.5555555555555556,
             "#d8576b"
            ],
            [
             0.6666666666666666,
             "#ed7953"
            ],
            [
             0.7777777777777778,
             "#fb9f3a"
            ],
            [
             0.8888888888888888,
             "#fdca26"
            ],
            [
             1,
             "#f0f921"
            ]
           ],
           "sequentialminus": [
            [
             0,
             "#0d0887"
            ],
            [
             0.1111111111111111,
             "#46039f"
            ],
            [
             0.2222222222222222,
             "#7201a8"
            ],
            [
             0.3333333333333333,
             "#9c179e"
            ],
            [
             0.4444444444444444,
             "#bd3786"
            ],
            [
             0.5555555555555556,
             "#d8576b"
            ],
            [
             0.6666666666666666,
             "#ed7953"
            ],
            [
             0.7777777777777778,
             "#fb9f3a"
            ],
            [
             0.8888888888888888,
             "#fdca26"
            ],
            [
             1,
             "#f0f921"
            ]
           ]
          },
          "colorway": [
           "#636efa",
           "#EF553B",
           "#00cc96",
           "#ab63fa",
           "#FFA15A",
           "#19d3f3",
           "#FF6692",
           "#B6E880",
           "#FF97FF",
           "#FECB52"
          ],
          "font": {
           "color": "#2a3f5f"
          },
          "geo": {
           "bgcolor": "white",
           "lakecolor": "white",
           "landcolor": "#E5ECF6",
           "showlakes": true,
           "showland": true,
           "subunitcolor": "white"
          },
          "hoverlabel": {
           "align": "left"
          },
          "hovermode": "closest",
          "mapbox": {
           "style": "light"
          },
          "paper_bgcolor": "white",
          "plot_bgcolor": "#E5ECF6",
          "polar": {
           "angularaxis": {
            "gridcolor": "white",
            "linecolor": "white",
            "ticks": ""
           },
           "bgcolor": "#E5ECF6",
           "radialaxis": {
            "gridcolor": "white",
            "linecolor": "white",
            "ticks": ""
           }
          },
          "scene": {
           "xaxis": {
            "backgroundcolor": "#E5ECF6",
            "gridcolor": "white",
            "gridwidth": 2,
            "linecolor": "white",
            "showbackground": true,
            "ticks": "",
            "zerolinecolor": "white"
           },
           "yaxis": {
            "backgroundcolor": "#E5ECF6",
            "gridcolor": "white",
            "gridwidth": 2,
            "linecolor": "white",
            "showbackground": true,
            "ticks": "",
            "zerolinecolor": "white"
           },
           "zaxis": {
            "backgroundcolor": "#E5ECF6",
            "gridcolor": "white",
            "gridwidth": 2,
            "linecolor": "white",
            "showbackground": true,
            "ticks": "",
            "zerolinecolor": "white"
           }
          },
          "shapedefaults": {
           "line": {
            "color": "#2a3f5f"
           }
          },
          "ternary": {
           "aaxis": {
            "gridcolor": "white",
            "linecolor": "white",
            "ticks": ""
           },
           "baxis": {
            "gridcolor": "white",
            "linecolor": "white",
            "ticks": ""
           },
           "bgcolor": "#E5ECF6",
           "caxis": {
            "gridcolor": "white",
            "linecolor": "white",
            "ticks": ""
           }
          },
          "title": {
           "x": 0.05
          },
          "xaxis": {
           "automargin": true,
           "gridcolor": "white",
           "linecolor": "white",
           "ticks": "",
           "title": {
            "standoff": 15
           },
           "zerolinecolor": "white",
           "zerolinewidth": 2
          },
          "yaxis": {
           "automargin": true,
           "gridcolor": "white",
           "linecolor": "white",
           "ticks": "",
           "title": {
            "standoff": 15
           },
           "zerolinecolor": "white",
           "zerolinewidth": 2
          }
         }
        },
        "yaxis": {
         "domain": [
          0,
          0.2
         ],
         "showticklabels": false
        }
       }
      },
      "text/html": [
       "<div>\n",
       "        \n",
       "        \n",
       "            <div id=\"964ac25c-3513-4f19-9e95-5cb04bd75c36\" class=\"plotly-graph-div\" style=\"height:525px; width:100%;\"></div>\n",
       "            <script type=\"text/javascript\">\n",
       "                require([\"plotly\"], function(Plotly) {\n",
       "                    window.PLOTLYENV=window.PLOTLYENV || {};\n",
       "                    \n",
       "                if (document.getElementById(\"964ac25c-3513-4f19-9e95-5cb04bd75c36\")) {\n",
       "                    Plotly.newPlot(\n",
       "                        '964ac25c-3513-4f19-9e95-5cb04bd75c36',\n",
       "                        [{\"line\": {\"width\": 1}, \"marker\": {\"color\": \"#e75f5b\"}, \"mode\": \"lines+markers\", \"name\": \"DECAYING EPSILON\", \"opacity\": 0.6, \"type\": \"scatter\", \"y\": [1.196, 1.378, 1.268, 1.418, 1.522, 1.304, 1.338, 1.31, 1.608, 1.388, 1.518, 1.342, 1.38, 1.526, 1.468, 1.48, 1.416, 1.614, 1.49, 1.56, 1.492, 1.624, 1.704, 1.418, 1.544, 1.352, 1.654, 1.46, 1.53, 1.54, 1.576, 1.624, 1.464, 1.842, 1.772, 1.526, 1.658, 1.63, 1.58, 1.812, 1.548, 1.692, 1.732, 1.554, 1.652, 1.608, 1.744, 1.654, 1.754, 1.686, 1.6, 1.752, 1.538, 1.754, 1.554, 1.842, 1.65, 1.762, 1.732, 1.686, 1.658, 1.658, 2.002, 1.858, 1.848, 1.708, 1.804, 1.792, 1.706, 1.776, 1.838, 1.876, 1.878, 1.798, 2.13, 2.034, 1.968, 2.152, 1.796, 2.034, 2.008, 1.782, 2.018, 1.97, 1.934, 1.874, 1.744, 1.818, 2.212, 1.882, 2.084, 1.984, 2.028, 2.226, 1.746, 2.06, 1.936, 2.098, 1.91, 1.776, 1.942, 2.366, 2.166, 2.024, 1.986, 1.986, 2.202, 1.98, 2.298, 2.038, 2.404, 2.058, 2.144, 2.34, 2.134, 2.338, 1.95, 2.096, 2.14, 2.208, 2.272, 2.52, 2.174, 2.142, 2.224, 1.982, 2.196, 2.32, 2.042, 2.088, 2.26, 2.418, 2.244, 2.096, 2.336, 2.242, 2.022, 2.338, 2.232, 1.934, 1.99, 2.356, 2.03, 1.882, 2.046, 2.174, 2.428, 2.03, 2.274, 2.096, 2.178, 2.366, 1.932, 2.086, 1.696, 1.97, 2.298, 2.098, 2.544, 2.186, 2.428, 2.236, 2.14, 2.46, 2.31, 2.016, 1.94, 2.0, 2.084, 1.946, 2.134, 2.192, 1.788, 2.098, 2.15, 2.336, 2.178, 2.202, 2.138, 2.008, 1.73, 2.404, 2.17, 2.06, 1.97, 1.648, 1.704, 1.956, 1.962, 1.858, 2.176, 2.008, 2.066, 2.112, 2.426, 2.402, 2.464, 2.438, 2.356, 2.506], \"yaxis\": \"y2\"}, {\"line\": {\"width\": 1}, \"marker\": {\"color\": \"#52af52\"}, \"mode\": \"lines+markers\", \"name\": \"STATIC EPSILON\", \"opacity\": 0.6, \"type\": \"scatter\", \"y\": [1.274, 1.216, 1.362, 1.42, 1.484, 1.404, 1.21, 1.33, 1.37, 1.396, 1.396, 1.434, 1.398, 1.244, 1.44, 1.226, 1.364, 1.2, 1.378, 1.286, 1.29, 1.222, 1.31, 1.36, 1.318, 1.386, 1.258, 1.24, 1.264, 1.456, 1.44, 1.352, 1.268, 1.318, 1.378, 1.338, 1.322, 1.534, 1.324, 1.256, 1.376, 1.274, 1.252, 1.358, 1.376, 1.524, 1.18, 1.372, 1.382, 1.31, 1.294, 1.26, 1.33, 1.272, 1.248, 1.28, 1.342, 1.264, 1.368, 1.174, 1.372, 1.26, 1.344, 1.478, 1.344, 1.398, 1.374, 1.292, 1.224, 1.376, 1.59, 1.456, 1.438, 1.354, 1.466, 1.42, 1.234, 1.27, 1.26, 1.42, 1.362, 1.21, 1.354, 1.342, 1.426, 1.366, 1.258, 1.368, 1.306, 1.474, 1.386, 1.228, 1.35, 1.238, 1.352, 1.406, 1.268, 1.332, 1.358, 1.406, 1.37, 1.3, 1.32, 1.556, 1.392, 1.14, 1.416, 1.278, 1.368, 1.31, 1.296, 1.326, 1.358, 1.35, 1.324, 1.328, 1.36, 1.446, 1.314, 1.312, 1.276, 1.322, 1.286, 1.382, 1.338, 1.314, 1.24, 1.334, 1.2, 1.418, 1.412, 1.234, 1.216, 1.372, 1.33, 1.268, 1.344, 1.25, 1.272, 1.368, 1.282, 1.35, 1.492, 1.262, 1.28, 1.208, 1.28, 1.382, 1.452, 1.318, 1.476, 1.248, 1.516, 1.304, 1.298, 1.372, 1.314, 1.31, 1.432, 1.304, 1.368, 1.336, 1.402, 1.258, 1.296, 1.278, 1.296, 1.384, 1.24, 1.29, 1.396, 1.264, 1.312, 1.24, 1.238, 1.462, 1.314, 1.28, 1.288, 1.234, 1.344, 1.414, 1.356, 1.35, 1.27, 1.376, 1.244, 1.334, 1.286, 1.452, 1.482, 1.422, 1.37, 1.476, 1.258, 1.312, 1.2, 1.208, 1.226, 1.354], \"yaxis\": \"y2\"}],\n",
       "                        {\"margin\": {\"b\": 20, \"l\": 20, \"r\": 20, \"t\": 20}, \"template\": {\"data\": {\"bar\": [{\"error_x\": {\"color\": \"#2a3f5f\"}, \"error_y\": {\"color\": \"#2a3f5f\"}, \"marker\": {\"line\": {\"color\": \"#E5ECF6\", \"width\": 0.5}}, \"type\": \"bar\"}], \"barpolar\": [{\"marker\": {\"line\": {\"color\": \"#E5ECF6\", \"width\": 0.5}}, \"type\": \"barpolar\"}], \"carpet\": [{\"aaxis\": {\"endlinecolor\": \"#2a3f5f\", \"gridcolor\": \"white\", \"linecolor\": \"white\", \"minorgridcolor\": \"white\", \"startlinecolor\": \"#2a3f5f\"}, \"baxis\": {\"endlinecolor\": \"#2a3f5f\", \"gridcolor\": \"white\", \"linecolor\": \"white\", \"minorgridcolor\": \"white\", \"startlinecolor\": \"#2a3f5f\"}, \"type\": \"carpet\"}], \"choropleth\": [{\"colorbar\": {\"outlinewidth\": 0, \"ticks\": \"\"}, \"type\": \"choropleth\"}], \"contour\": [{\"colorbar\": {\"outlinewidth\": 0, \"ticks\": \"\"}, \"colorscale\": [[0.0, \"#0d0887\"], [0.1111111111111111, \"#46039f\"], [0.2222222222222222, \"#7201a8\"], [0.3333333333333333, \"#9c179e\"], [0.4444444444444444, \"#bd3786\"], [0.5555555555555556, \"#d8576b\"], [0.6666666666666666, \"#ed7953\"], [0.7777777777777778, \"#fb9f3a\"], [0.8888888888888888, \"#fdca26\"], [1.0, \"#f0f921\"]], \"type\": \"contour\"}], \"contourcarpet\": [{\"colorbar\": {\"outlinewidth\": 0, \"ticks\": \"\"}, \"type\": \"contourcarpet\"}], \"heatmap\": [{\"colorbar\": {\"outlinewidth\": 0, \"ticks\": \"\"}, \"colorscale\": [[0.0, \"#0d0887\"], [0.1111111111111111, \"#46039f\"], [0.2222222222222222, \"#7201a8\"], [0.3333333333333333, \"#9c179e\"], [0.4444444444444444, \"#bd3786\"], [0.5555555555555556, \"#d8576b\"], [0.6666666666666666, \"#ed7953\"], [0.7777777777777778, \"#fb9f3a\"], [0.8888888888888888, \"#fdca26\"], [1.0, \"#f0f921\"]], \"type\": \"heatmap\"}], \"heatmapgl\": [{\"colorbar\": {\"outlinewidth\": 0, \"ticks\": \"\"}, \"colorscale\": [[0.0, \"#0d0887\"], [0.1111111111111111, \"#46039f\"], [0.2222222222222222, \"#7201a8\"], [0.3333333333333333, \"#9c179e\"], [0.4444444444444444, \"#bd3786\"], [0.5555555555555556, \"#d8576b\"], [0.6666666666666666, \"#ed7953\"], [0.7777777777777778, \"#fb9f3a\"], [0.8888888888888888, \"#fdca26\"], [1.0, \"#f0f921\"]], \"type\": \"heatmapgl\"}], \"histogram\": [{\"marker\": {\"colorbar\": {\"outlinewidth\": 0, \"ticks\": \"\"}}, \"type\": \"histogram\"}], \"histogram2d\": [{\"colorbar\": {\"outlinewidth\": 0, \"ticks\": \"\"}, \"colorscale\": [[0.0, \"#0d0887\"], [0.1111111111111111, \"#46039f\"], [0.2222222222222222, \"#7201a8\"], [0.3333333333333333, \"#9c179e\"], [0.4444444444444444, \"#bd3786\"], [0.5555555555555556, \"#d8576b\"], [0.6666666666666666, \"#ed7953\"], [0.7777777777777778, \"#fb9f3a\"], [0.8888888888888888, \"#fdca26\"], [1.0, \"#f0f921\"]], \"type\": \"histogram2d\"}], \"histogram2dcontour\": [{\"colorbar\": {\"outlinewidth\": 0, \"ticks\": \"\"}, \"colorscale\": [[0.0, \"#0d0887\"], [0.1111111111111111, \"#46039f\"], [0.2222222222222222, \"#7201a8\"], [0.3333333333333333, \"#9c179e\"], [0.4444444444444444, \"#bd3786\"], [0.5555555555555556, \"#d8576b\"], [0.6666666666666666, \"#ed7953\"], [0.7777777777777778, \"#fb9f3a\"], [0.8888888888888888, \"#fdca26\"], [1.0, \"#f0f921\"]], \"type\": \"histogram2dcontour\"}], \"mesh3d\": [{\"colorbar\": {\"outlinewidth\": 0, \"ticks\": \"\"}, \"type\": \"mesh3d\"}], \"parcoords\": [{\"line\": {\"colorbar\": {\"outlinewidth\": 0, \"ticks\": \"\"}}, \"type\": \"parcoords\"}], \"pie\": [{\"automargin\": true, \"type\": \"pie\"}], \"scatter\": [{\"marker\": {\"colorbar\": {\"outlinewidth\": 0, \"ticks\": \"\"}}, \"type\": \"scatter\"}], \"scatter3d\": [{\"line\": {\"colorbar\": {\"outlinewidth\": 0, \"ticks\": \"\"}}, \"marker\": {\"colorbar\": {\"outlinewidth\": 0, \"ticks\": \"\"}}, \"type\": \"scatter3d\"}], \"scattercarpet\": [{\"marker\": {\"colorbar\": {\"outlinewidth\": 0, \"ticks\": \"\"}}, \"type\": \"scattercarpet\"}], \"scattergeo\": [{\"marker\": {\"colorbar\": {\"outlinewidth\": 0, \"ticks\": \"\"}}, \"type\": \"scattergeo\"}], \"scattergl\": [{\"marker\": {\"colorbar\": {\"outlinewidth\": 0, \"ticks\": \"\"}}, \"type\": \"scattergl\"}], \"scattermapbox\": [{\"marker\": {\"colorbar\": {\"outlinewidth\": 0, \"ticks\": \"\"}}, \"type\": \"scattermapbox\"}], \"scatterpolar\": [{\"marker\": {\"colorbar\": {\"outlinewidth\": 0, \"ticks\": \"\"}}, \"type\": \"scatterpolar\"}], \"scatterpolargl\": [{\"marker\": {\"colorbar\": {\"outlinewidth\": 0, \"ticks\": \"\"}}, \"type\": \"scatterpolargl\"}], \"scatterternary\": [{\"marker\": {\"colorbar\": {\"outlinewidth\": 0, \"ticks\": \"\"}}, \"type\": \"scatterternary\"}], \"surface\": [{\"colorbar\": {\"outlinewidth\": 0, \"ticks\": \"\"}, \"colorscale\": [[0.0, \"#0d0887\"], [0.1111111111111111, \"#46039f\"], [0.2222222222222222, \"#7201a8\"], [0.3333333333333333, \"#9c179e\"], [0.4444444444444444, \"#bd3786\"], [0.5555555555555556, \"#d8576b\"], [0.6666666666666666, \"#ed7953\"], [0.7777777777777778, \"#fb9f3a\"], [0.8888888888888888, \"#fdca26\"], [1.0, \"#f0f921\"]], \"type\": \"surface\"}], \"table\": [{\"cells\": {\"fill\": {\"color\": \"#EBF0F8\"}, \"line\": {\"color\": \"white\"}}, \"header\": {\"fill\": {\"color\": \"#C8D4E3\"}, \"line\": {\"color\": \"white\"}}, \"type\": \"table\"}]}, \"layout\": {\"annotationdefaults\": {\"arrowcolor\": \"#2a3f5f\", \"arrowhead\": 0, \"arrowwidth\": 1}, \"coloraxis\": {\"colorbar\": {\"outlinewidth\": 0, \"ticks\": \"\"}}, \"colorscale\": {\"diverging\": [[0, \"#8e0152\"], [0.1, \"#c51b7d\"], [0.2, \"#de77ae\"], [0.3, \"#f1b6da\"], [0.4, \"#fde0ef\"], [0.5, \"#f7f7f7\"], [0.6, \"#e6f5d0\"], [0.7, \"#b8e186\"], [0.8, \"#7fbc41\"], [0.9, \"#4d9221\"], [1, \"#276419\"]], \"sequential\": [[0.0, \"#0d0887\"], [0.1111111111111111, \"#46039f\"], [0.2222222222222222, \"#7201a8\"], [0.3333333333333333, \"#9c179e\"], [0.4444444444444444, \"#bd3786\"], [0.5555555555555556, \"#d8576b\"], [0.6666666666666666, \"#ed7953\"], [0.7777777777777778, \"#fb9f3a\"], [0.8888888888888888, \"#fdca26\"], [1.0, \"#f0f921\"]], \"sequentialminus\": [[0.0, \"#0d0887\"], [0.1111111111111111, \"#46039f\"], [0.2222222222222222, \"#7201a8\"], [0.3333333333333333, \"#9c179e\"], [0.4444444444444444, \"#bd3786\"], [0.5555555555555556, \"#d8576b\"], [0.6666666666666666, \"#ed7953\"], [0.7777777777777778, \"#fb9f3a\"], [0.8888888888888888, \"#fdca26\"], [1.0, \"#f0f921\"]]}, \"colorway\": [\"#636efa\", \"#EF553B\", \"#00cc96\", \"#ab63fa\", \"#FFA15A\", \"#19d3f3\", \"#FF6692\", \"#B6E880\", \"#FF97FF\", \"#FECB52\"], \"font\": {\"color\": \"#2a3f5f\"}, \"geo\": {\"bgcolor\": \"white\", \"lakecolor\": \"white\", \"landcolor\": \"#E5ECF6\", \"showlakes\": true, \"showland\": true, \"subunitcolor\": \"white\"}, \"hoverlabel\": {\"align\": \"left\"}, \"hovermode\": \"closest\", \"mapbox\": {\"style\": \"light\"}, \"paper_bgcolor\": \"white\", \"plot_bgcolor\": \"#E5ECF6\", \"polar\": {\"angularaxis\": {\"gridcolor\": \"white\", \"linecolor\": \"white\", \"ticks\": \"\"}, \"bgcolor\": \"#E5ECF6\", \"radialaxis\": {\"gridcolor\": \"white\", \"linecolor\": \"white\", \"ticks\": \"\"}}, \"scene\": {\"xaxis\": {\"backgroundcolor\": \"#E5ECF6\", \"gridcolor\": \"white\", \"gridwidth\": 2, \"linecolor\": \"white\", \"showbackground\": true, \"ticks\": \"\", \"zerolinecolor\": \"white\"}, \"yaxis\": {\"backgroundcolor\": \"#E5ECF6\", \"gridcolor\": \"white\", \"gridwidth\": 2, \"linecolor\": \"white\", \"showbackground\": true, \"ticks\": \"\", \"zerolinecolor\": \"white\"}, \"zaxis\": {\"backgroundcolor\": \"#E5ECF6\", \"gridcolor\": \"white\", \"gridwidth\": 2, \"linecolor\": \"white\", \"showbackground\": true, \"ticks\": \"\", \"zerolinecolor\": \"white\"}}, \"shapedefaults\": {\"line\": {\"color\": \"#2a3f5f\"}}, \"ternary\": {\"aaxis\": {\"gridcolor\": \"white\", \"linecolor\": \"white\", \"ticks\": \"\"}, \"baxis\": {\"gridcolor\": \"white\", \"linecolor\": \"white\", \"ticks\": \"\"}, \"bgcolor\": \"#E5ECF6\", \"caxis\": {\"gridcolor\": \"white\", \"linecolor\": \"white\", \"ticks\": \"\"}}, \"title\": {\"x\": 0.05}, \"xaxis\": {\"automargin\": true, \"gridcolor\": \"white\", \"linecolor\": \"white\", \"ticks\": \"\", \"title\": {\"standoff\": 15}, \"zerolinecolor\": \"white\", \"zerolinewidth\": 2}, \"yaxis\": {\"automargin\": true, \"gridcolor\": \"white\", \"linecolor\": \"white\", \"ticks\": \"\", \"title\": {\"standoff\": 15}, \"zerolinecolor\": \"white\", \"zerolinewidth\": 2}}}, \"yaxis\": {\"domain\": [0, 0.2], \"showticklabels\": false}},\n",
       "                        {\"responsive\": true}\n",
       "                    ).then(function(){\n",
       "                            \n",
       "var gd = document.getElementById('964ac25c-3513-4f19-9e95-5cb04bd75c36');\n",
       "var x = new MutationObserver(function (mutations, observer) {{\n",
       "        var display = window.getComputedStyle(gd).display;\n",
       "        if (!display || display === 'none') {{\n",
       "            console.log([gd, 'removed!']);\n",
       "            Plotly.purge(gd);\n",
       "            observer.disconnect();\n",
       "        }}\n",
       "}});\n",
       "\n",
       "// Listen for the removal of the full notebook cells\n",
       "var notebookContainer = gd.closest('#notebook-container');\n",
       "if (notebookContainer) {{\n",
       "    x.observe(notebookContainer, {childList: true});\n",
       "}}\n",
       "\n",
       "// Listen for the clearing of the current output cell\n",
       "var outputEl = gd.closest('.output');\n",
       "if (outputEl) {{\n",
       "    x.observe(outputEl, {childList: true});\n",
       "}}\n",
       "\n",
       "                        })\n",
       "                };\n",
       "                });\n",
       "            </script>\n",
       "        </div>"
      ]
     },
     "metadata": {},
     "output_type": "display_data"
    }
   ],
   "source": [
    "utils.visualize([\n",
    "    ['DECAYING EPSILON', dacaying],\n",
    "    ['STATIC EPSILON', static]\n",
    "], cluster=500)"
   ]
  },
  {
   "cell_type": "markdown",
   "metadata": {},
   "source": [
    "### 1M EPOCHS, DECAYING 0.2 EPSILON & [0.8 / 0.3] GAMMA - RUNTIME ~10 MINUTES"
   ]
  },
  {
   "cell_type": "code",
   "execution_count": 60,
   "metadata": {},
   "outputs": [],
   "source": [
    "# HIGH GAMMA = PREFERS LONG-TERM REWARD"
   ]
  },
  {
   "cell_type": "code",
   "execution_count": 61,
   "metadata": {},
   "outputs": [],
   "source": [
    "# LOW GAMMA = PREFERS SHORT-TERM REWARD"
   ]
  },
  {
   "cell_type": "code",
   "execution_count": 7,
   "metadata": {},
   "outputs": [],
   "source": [
    "high_gamma = utils.load('1m_high_gamma_dynamic_epsilon')"
   ]
  },
  {
   "cell_type": "code",
   "execution_count": 8,
   "metadata": {},
   "outputs": [],
   "source": [
    "low_gamma = utils.load('1m_low_gamma_dynamic_epsilon')"
   ]
  },
  {
   "cell_type": "code",
   "execution_count": 9,
   "metadata": {},
   "outputs": [
    {
     "data": {
      "application/vnd.plotly.v1+json": {
       "config": {
        "plotlyServerURL": "https://plot.ly"
       },
       "data": [
        {
         "line": {
          "width": 1
         },
         "marker": {
          "color": "#e75f5b"
         },
         "mode": "lines+markers",
         "name": "HIGH GAMMA",
         "opacity": 0.6,
         "type": "scatter",
         "y": [
          1.6375,
          1.5728,
          1.6417,
          1.6258,
          1.6607,
          1.6663,
          1.6765,
          1.7245,
          1.7172,
          1.7586,
          1.7515,
          1.7743,
          1.792,
          1.7972,
          1.8184,
          1.8063,
          1.8167,
          1.8465,
          1.8681,
          1.9395,
          1.8727,
          1.9822,
          1.9443,
          1.9368,
          1.9905,
          1.9586,
          1.9818,
          2.0263,
          2.04,
          2.0914,
          2.0736,
          2.0906,
          2.1401,
          2.1505,
          2.1324,
          2.2011,
          2.1621,
          2.1819,
          2.1905,
          2.2719,
          2.2374,
          2.2755,
          2.2667,
          2.2218,
          2.3211,
          2.2515,
          2.2973,
          2.326,
          2.2924,
          2.3979,
          2.3687,
          2.3828,
          2.3916,
          2.3723,
          2.4146,
          2.4172,
          2.4628,
          2.4672,
          2.4877,
          2.4864,
          2.5078,
          2.5258,
          2.5606,
          2.5563,
          2.5064,
          2.5692,
          2.5723,
          2.6183,
          2.4555,
          2.4868,
          2.7468,
          2.541,
          2.6503,
          2.6301,
          2.5824,
          2.6426,
          2.7484,
          2.6479,
          2.7343,
          2.7211,
          2.7041,
          2.6915,
          2.7338,
          2.8833,
          2.8091,
          2.8305,
          2.8338,
          2.7591,
          2.7588,
          2.783,
          2.9355,
          2.8442,
          2.6556,
          2.8264,
          2.8126,
          2.8394,
          2.8396,
          2.8301,
          2.8606,
          2.782
         ],
         "yaxis": "y2"
        },
        {
         "line": {
          "width": 1
         },
         "marker": {
          "color": "#52af52"
         },
         "mode": "lines+markers",
         "name": "LOW GAMMA",
         "opacity": 0.6,
         "type": "scatter",
         "y": [
          2.314,
          2.3741,
          2.3836,
          2.4113,
          2.4061,
          2.4516,
          2.4287,
          2.4998,
          2.5254,
          2.498,
          2.5444,
          2.5569,
          2.6001,
          2.6308,
          2.5819,
          2.6426,
          2.6332,
          2.7065,
          2.7331,
          2.7311,
          2.7886,
          2.8063,
          2.8203,
          2.887,
          2.8856,
          2.9426,
          2.9512,
          2.9742,
          2.9948,
          2.9989,
          3.0205,
          3.104,
          3.084,
          3.1327,
          3.1399,
          3.1702,
          3.1768,
          3.1648,
          3.2995,
          3.2775,
          3.3055,
          3.346,
          3.3613,
          3.3689,
          3.4369,
          3.4837,
          3.4595,
          3.4949,
          3.5379,
          3.5702,
          3.6165,
          3.6052,
          3.6013,
          3.7057,
          3.7117,
          3.7503,
          3.7432,
          3.7645,
          3.9354,
          3.8417,
          3.9569,
          3.9245,
          3.8659,
          3.962,
          3.9822,
          4.0954,
          4.1375,
          4.1485,
          4.0934,
          4.1612,
          4.2203,
          4.2964,
          4.2743,
          4.3564,
          4.3423,
          4.3525,
          4.39,
          4.4939,
          4.4358,
          4.4657,
          4.4978,
          4.5933,
          4.6004,
          4.6104,
          4.6532,
          4.7179,
          4.7231,
          4.8097,
          4.7917,
          4.8592,
          4.8842,
          4.9861,
          4.967,
          5.0771,
          5.0695,
          5.0243,
          5.0881,
          5.1092,
          5.1428,
          5.173
         ],
         "yaxis": "y2"
        }
       ],
       "layout": {
        "margin": {
         "b": 20,
         "l": 20,
         "r": 20,
         "t": 20
        },
        "template": {
         "data": {
          "bar": [
           {
            "error_x": {
             "color": "#2a3f5f"
            },
            "error_y": {
             "color": "#2a3f5f"
            },
            "marker": {
             "line": {
              "color": "#E5ECF6",
              "width": 0.5
             }
            },
            "type": "bar"
           }
          ],
          "barpolar": [
           {
            "marker": {
             "line": {
              "color": "#E5ECF6",
              "width": 0.5
             }
            },
            "type": "barpolar"
           }
          ],
          "carpet": [
           {
            "aaxis": {
             "endlinecolor": "#2a3f5f",
             "gridcolor": "white",
             "linecolor": "white",
             "minorgridcolor": "white",
             "startlinecolor": "#2a3f5f"
            },
            "baxis": {
             "endlinecolor": "#2a3f5f",
             "gridcolor": "white",
             "linecolor": "white",
             "minorgridcolor": "white",
             "startlinecolor": "#2a3f5f"
            },
            "type": "carpet"
           }
          ],
          "choropleth": [
           {
            "colorbar": {
             "outlinewidth": 0,
             "ticks": ""
            },
            "type": "choropleth"
           }
          ],
          "contour": [
           {
            "colorbar": {
             "outlinewidth": 0,
             "ticks": ""
            },
            "colorscale": [
             [
              0,
              "#0d0887"
             ],
             [
              0.1111111111111111,
              "#46039f"
             ],
             [
              0.2222222222222222,
              "#7201a8"
             ],
             [
              0.3333333333333333,
              "#9c179e"
             ],
             [
              0.4444444444444444,
              "#bd3786"
             ],
             [
              0.5555555555555556,
              "#d8576b"
             ],
             [
              0.6666666666666666,
              "#ed7953"
             ],
             [
              0.7777777777777778,
              "#fb9f3a"
             ],
             [
              0.8888888888888888,
              "#fdca26"
             ],
             [
              1,
              "#f0f921"
             ]
            ],
            "type": "contour"
           }
          ],
          "contourcarpet": [
           {
            "colorbar": {
             "outlinewidth": 0,
             "ticks": ""
            },
            "type": "contourcarpet"
           }
          ],
          "heatmap": [
           {
            "colorbar": {
             "outlinewidth": 0,
             "ticks": ""
            },
            "colorscale": [
             [
              0,
              "#0d0887"
             ],
             [
              0.1111111111111111,
              "#46039f"
             ],
             [
              0.2222222222222222,
              "#7201a8"
             ],
             [
              0.3333333333333333,
              "#9c179e"
             ],
             [
              0.4444444444444444,
              "#bd3786"
             ],
             [
              0.5555555555555556,
              "#d8576b"
             ],
             [
              0.6666666666666666,
              "#ed7953"
             ],
             [
              0.7777777777777778,
              "#fb9f3a"
             ],
             [
              0.8888888888888888,
              "#fdca26"
             ],
             [
              1,
              "#f0f921"
             ]
            ],
            "type": "heatmap"
           }
          ],
          "heatmapgl": [
           {
            "colorbar": {
             "outlinewidth": 0,
             "ticks": ""
            },
            "colorscale": [
             [
              0,
              "#0d0887"
             ],
             [
              0.1111111111111111,
              "#46039f"
             ],
             [
              0.2222222222222222,
              "#7201a8"
             ],
             [
              0.3333333333333333,
              "#9c179e"
             ],
             [
              0.4444444444444444,
              "#bd3786"
             ],
             [
              0.5555555555555556,
              "#d8576b"
             ],
             [
              0.6666666666666666,
              "#ed7953"
             ],
             [
              0.7777777777777778,
              "#fb9f3a"
             ],
             [
              0.8888888888888888,
              "#fdca26"
             ],
             [
              1,
              "#f0f921"
             ]
            ],
            "type": "heatmapgl"
           }
          ],
          "histogram": [
           {
            "marker": {
             "colorbar": {
              "outlinewidth": 0,
              "ticks": ""
             }
            },
            "type": "histogram"
           }
          ],
          "histogram2d": [
           {
            "colorbar": {
             "outlinewidth": 0,
             "ticks": ""
            },
            "colorscale": [
             [
              0,
              "#0d0887"
             ],
             [
              0.1111111111111111,
              "#46039f"
             ],
             [
              0.2222222222222222,
              "#7201a8"
             ],
             [
              0.3333333333333333,
              "#9c179e"
             ],
             [
              0.4444444444444444,
              "#bd3786"
             ],
             [
              0.5555555555555556,
              "#d8576b"
             ],
             [
              0.6666666666666666,
              "#ed7953"
             ],
             [
              0.7777777777777778,
              "#fb9f3a"
             ],
             [
              0.8888888888888888,
              "#fdca26"
             ],
             [
              1,
              "#f0f921"
             ]
            ],
            "type": "histogram2d"
           }
          ],
          "histogram2dcontour": [
           {
            "colorbar": {
             "outlinewidth": 0,
             "ticks": ""
            },
            "colorscale": [
             [
              0,
              "#0d0887"
             ],
             [
              0.1111111111111111,
              "#46039f"
             ],
             [
              0.2222222222222222,
              "#7201a8"
             ],
             [
              0.3333333333333333,
              "#9c179e"
             ],
             [
              0.4444444444444444,
              "#bd3786"
             ],
             [
              0.5555555555555556,
              "#d8576b"
             ],
             [
              0.6666666666666666,
              "#ed7953"
             ],
             [
              0.7777777777777778,
              "#fb9f3a"
             ],
             [
              0.8888888888888888,
              "#fdca26"
             ],
             [
              1,
              "#f0f921"
             ]
            ],
            "type": "histogram2dcontour"
           }
          ],
          "mesh3d": [
           {
            "colorbar": {
             "outlinewidth": 0,
             "ticks": ""
            },
            "type": "mesh3d"
           }
          ],
          "parcoords": [
           {
            "line": {
             "colorbar": {
              "outlinewidth": 0,
              "ticks": ""
             }
            },
            "type": "parcoords"
           }
          ],
          "pie": [
           {
            "automargin": true,
            "type": "pie"
           }
          ],
          "scatter": [
           {
            "marker": {
             "colorbar": {
              "outlinewidth": 0,
              "ticks": ""
             }
            },
            "type": "scatter"
           }
          ],
          "scatter3d": [
           {
            "line": {
             "colorbar": {
              "outlinewidth": 0,
              "ticks": ""
             }
            },
            "marker": {
             "colorbar": {
              "outlinewidth": 0,
              "ticks": ""
             }
            },
            "type": "scatter3d"
           }
          ],
          "scattercarpet": [
           {
            "marker": {
             "colorbar": {
              "outlinewidth": 0,
              "ticks": ""
             }
            },
            "type": "scattercarpet"
           }
          ],
          "scattergeo": [
           {
            "marker": {
             "colorbar": {
              "outlinewidth": 0,
              "ticks": ""
             }
            },
            "type": "scattergeo"
           }
          ],
          "scattergl": [
           {
            "marker": {
             "colorbar": {
              "outlinewidth": 0,
              "ticks": ""
             }
            },
            "type": "scattergl"
           }
          ],
          "scattermapbox": [
           {
            "marker": {
             "colorbar": {
              "outlinewidth": 0,
              "ticks": ""
             }
            },
            "type": "scattermapbox"
           }
          ],
          "scatterpolar": [
           {
            "marker": {
             "colorbar": {
              "outlinewidth": 0,
              "ticks": ""
             }
            },
            "type": "scatterpolar"
           }
          ],
          "scatterpolargl": [
           {
            "marker": {
             "colorbar": {
              "outlinewidth": 0,
              "ticks": ""
             }
            },
            "type": "scatterpolargl"
           }
          ],
          "scatterternary": [
           {
            "marker": {
             "colorbar": {
              "outlinewidth": 0,
              "ticks": ""
             }
            },
            "type": "scatterternary"
           }
          ],
          "surface": [
           {
            "colorbar": {
             "outlinewidth": 0,
             "ticks": ""
            },
            "colorscale": [
             [
              0,
              "#0d0887"
             ],
             [
              0.1111111111111111,
              "#46039f"
             ],
             [
              0.2222222222222222,
              "#7201a8"
             ],
             [
              0.3333333333333333,
              "#9c179e"
             ],
             [
              0.4444444444444444,
              "#bd3786"
             ],
             [
              0.5555555555555556,
              "#d8576b"
             ],
             [
              0.6666666666666666,
              "#ed7953"
             ],
             [
              0.7777777777777778,
              "#fb9f3a"
             ],
             [
              0.8888888888888888,
              "#fdca26"
             ],
             [
              1,
              "#f0f921"
             ]
            ],
            "type": "surface"
           }
          ],
          "table": [
           {
            "cells": {
             "fill": {
              "color": "#EBF0F8"
             },
             "line": {
              "color": "white"
             }
            },
            "header": {
             "fill": {
              "color": "#C8D4E3"
             },
             "line": {
              "color": "white"
             }
            },
            "type": "table"
           }
          ]
         },
         "layout": {
          "annotationdefaults": {
           "arrowcolor": "#2a3f5f",
           "arrowhead": 0,
           "arrowwidth": 1
          },
          "coloraxis": {
           "colorbar": {
            "outlinewidth": 0,
            "ticks": ""
           }
          },
          "colorscale": {
           "diverging": [
            [
             0,
             "#8e0152"
            ],
            [
             0.1,
             "#c51b7d"
            ],
            [
             0.2,
             "#de77ae"
            ],
            [
             0.3,
             "#f1b6da"
            ],
            [
             0.4,
             "#fde0ef"
            ],
            [
             0.5,
             "#f7f7f7"
            ],
            [
             0.6,
             "#e6f5d0"
            ],
            [
             0.7,
             "#b8e186"
            ],
            [
             0.8,
             "#7fbc41"
            ],
            [
             0.9,
             "#4d9221"
            ],
            [
             1,
             "#276419"
            ]
           ],
           "sequential": [
            [
             0,
             "#0d0887"
            ],
            [
             0.1111111111111111,
             "#46039f"
            ],
            [
             0.2222222222222222,
             "#7201a8"
            ],
            [
             0.3333333333333333,
             "#9c179e"
            ],
            [
             0.4444444444444444,
             "#bd3786"
            ],
            [
             0.5555555555555556,
             "#d8576b"
            ],
            [
             0.6666666666666666,
             "#ed7953"
            ],
            [
             0.7777777777777778,
             "#fb9f3a"
            ],
            [
             0.8888888888888888,
             "#fdca26"
            ],
            [
             1,
             "#f0f921"
            ]
           ],
           "sequentialminus": [
            [
             0,
             "#0d0887"
            ],
            [
             0.1111111111111111,
             "#46039f"
            ],
            [
             0.2222222222222222,
             "#7201a8"
            ],
            [
             0.3333333333333333,
             "#9c179e"
            ],
            [
             0.4444444444444444,
             "#bd3786"
            ],
            [
             0.5555555555555556,
             "#d8576b"
            ],
            [
             0.6666666666666666,
             "#ed7953"
            ],
            [
             0.7777777777777778,
             "#fb9f3a"
            ],
            [
             0.8888888888888888,
             "#fdca26"
            ],
            [
             1,
             "#f0f921"
            ]
           ]
          },
          "colorway": [
           "#636efa",
           "#EF553B",
           "#00cc96",
           "#ab63fa",
           "#FFA15A",
           "#19d3f3",
           "#FF6692",
           "#B6E880",
           "#FF97FF",
           "#FECB52"
          ],
          "font": {
           "color": "#2a3f5f"
          },
          "geo": {
           "bgcolor": "white",
           "lakecolor": "white",
           "landcolor": "#E5ECF6",
           "showlakes": true,
           "showland": true,
           "subunitcolor": "white"
          },
          "hoverlabel": {
           "align": "left"
          },
          "hovermode": "closest",
          "mapbox": {
           "style": "light"
          },
          "paper_bgcolor": "white",
          "plot_bgcolor": "#E5ECF6",
          "polar": {
           "angularaxis": {
            "gridcolor": "white",
            "linecolor": "white",
            "ticks": ""
           },
           "bgcolor": "#E5ECF6",
           "radialaxis": {
            "gridcolor": "white",
            "linecolor": "white",
            "ticks": ""
           }
          },
          "scene": {
           "xaxis": {
            "backgroundcolor": "#E5ECF6",
            "gridcolor": "white",
            "gridwidth": 2,
            "linecolor": "white",
            "showbackground": true,
            "ticks": "",
            "zerolinecolor": "white"
           },
           "yaxis": {
            "backgroundcolor": "#E5ECF6",
            "gridcolor": "white",
            "gridwidth": 2,
            "linecolor": "white",
            "showbackground": true,
            "ticks": "",
            "zerolinecolor": "white"
           },
           "zaxis": {
            "backgroundcolor": "#E5ECF6",
            "gridcolor": "white",
            "gridwidth": 2,
            "linecolor": "white",
            "showbackground": true,
            "ticks": "",
            "zerolinecolor": "white"
           }
          },
          "shapedefaults": {
           "line": {
            "color": "#2a3f5f"
           }
          },
          "ternary": {
           "aaxis": {
            "gridcolor": "white",
            "linecolor": "white",
            "ticks": ""
           },
           "baxis": {
            "gridcolor": "white",
            "linecolor": "white",
            "ticks": ""
           },
           "bgcolor": "#E5ECF6",
           "caxis": {
            "gridcolor": "white",
            "linecolor": "white",
            "ticks": ""
           }
          },
          "title": {
           "x": 0.05
          },
          "xaxis": {
           "automargin": true,
           "gridcolor": "white",
           "linecolor": "white",
           "ticks": "",
           "title": {
            "standoff": 15
           },
           "zerolinecolor": "white",
           "zerolinewidth": 2
          },
          "yaxis": {
           "automargin": true,
           "gridcolor": "white",
           "linecolor": "white",
           "ticks": "",
           "title": {
            "standoff": 15
           },
           "zerolinecolor": "white",
           "zerolinewidth": 2
          }
         }
        },
        "yaxis": {
         "domain": [
          0,
          0.2
         ],
         "showticklabels": false
        }
       }
      },
      "text/html": [
       "<div>\n",
       "        \n",
       "        \n",
       "            <div id=\"c6e2f00f-f967-45ec-ad50-b0c22125a0ad\" class=\"plotly-graph-div\" style=\"height:525px; width:100%;\"></div>\n",
       "            <script type=\"text/javascript\">\n",
       "                require([\"plotly\"], function(Plotly) {\n",
       "                    window.PLOTLYENV=window.PLOTLYENV || {};\n",
       "                    \n",
       "                if (document.getElementById(\"c6e2f00f-f967-45ec-ad50-b0c22125a0ad\")) {\n",
       "                    Plotly.newPlot(\n",
       "                        'c6e2f00f-f967-45ec-ad50-b0c22125a0ad',\n",
       "                        [{\"line\": {\"width\": 1}, \"marker\": {\"color\": \"#e75f5b\"}, \"mode\": \"lines+markers\", \"name\": \"HIGH GAMMA\", \"opacity\": 0.6, \"type\": \"scatter\", \"y\": [1.6375, 1.5728, 1.6417, 1.6258, 1.6607, 1.6663, 1.6765, 1.7245, 1.7172, 1.7586, 1.7515, 1.7743, 1.792, 1.7972, 1.8184, 1.8063, 1.8167, 1.8465, 1.8681, 1.9395, 1.8727, 1.9822, 1.9443, 1.9368, 1.9905, 1.9586, 1.9818, 2.0263, 2.04, 2.0914, 2.0736, 2.0906, 2.1401, 2.1505, 2.1324, 2.2011, 2.1621, 2.1819, 2.1905, 2.2719, 2.2374, 2.2755, 2.2667, 2.2218, 2.3211, 2.2515, 2.2973, 2.326, 2.2924, 2.3979, 2.3687, 2.3828, 2.3916, 2.3723, 2.4146, 2.4172, 2.4628, 2.4672, 2.4877, 2.4864, 2.5078, 2.5258, 2.5606, 2.5563, 2.5064, 2.5692, 2.5723, 2.6183, 2.4555, 2.4868, 2.7468, 2.541, 2.6503, 2.6301, 2.5824, 2.6426, 2.7484, 2.6479, 2.7343, 2.7211, 2.7041, 2.6915, 2.7338, 2.8833, 2.8091, 2.8305, 2.8338, 2.7591, 2.7588, 2.783, 2.9355, 2.8442, 2.6556, 2.8264, 2.8126, 2.8394, 2.8396, 2.8301, 2.8606, 2.782], \"yaxis\": \"y2\"}, {\"line\": {\"width\": 1}, \"marker\": {\"color\": \"#52af52\"}, \"mode\": \"lines+markers\", \"name\": \"LOW GAMMA\", \"opacity\": 0.6, \"type\": \"scatter\", \"y\": [2.314, 2.3741, 2.3836, 2.4113, 2.4061, 2.4516, 2.4287, 2.4998, 2.5254, 2.498, 2.5444, 2.5569, 2.6001, 2.6308, 2.5819, 2.6426, 2.6332, 2.7065, 2.7331, 2.7311, 2.7886, 2.8063, 2.8203, 2.887, 2.8856, 2.9426, 2.9512, 2.9742, 2.9948, 2.9989, 3.0205, 3.104, 3.084, 3.1327, 3.1399, 3.1702, 3.1768, 3.1648, 3.2995, 3.2775, 3.3055, 3.346, 3.3613, 3.3689, 3.4369, 3.4837, 3.4595, 3.4949, 3.5379, 3.5702, 3.6165, 3.6052, 3.6013, 3.7057, 3.7117, 3.7503, 3.7432, 3.7645, 3.9354, 3.8417, 3.9569, 3.9245, 3.8659, 3.962, 3.9822, 4.0954, 4.1375, 4.1485, 4.0934, 4.1612, 4.2203, 4.2964, 4.2743, 4.3564, 4.3423, 4.3525, 4.39, 4.4939, 4.4358, 4.4657, 4.4978, 4.5933, 4.6004, 4.6104, 4.6532, 4.7179, 4.7231, 4.8097, 4.7917, 4.8592, 4.8842, 4.9861, 4.967, 5.0771, 5.0695, 5.0243, 5.0881, 5.1092, 5.1428, 5.173], \"yaxis\": \"y2\"}],\n",
       "                        {\"margin\": {\"b\": 20, \"l\": 20, \"r\": 20, \"t\": 20}, \"template\": {\"data\": {\"bar\": [{\"error_x\": {\"color\": \"#2a3f5f\"}, \"error_y\": {\"color\": \"#2a3f5f\"}, \"marker\": {\"line\": {\"color\": \"#E5ECF6\", \"width\": 0.5}}, \"type\": \"bar\"}], \"barpolar\": [{\"marker\": {\"line\": {\"color\": \"#E5ECF6\", \"width\": 0.5}}, \"type\": \"barpolar\"}], \"carpet\": [{\"aaxis\": {\"endlinecolor\": \"#2a3f5f\", \"gridcolor\": \"white\", \"linecolor\": \"white\", \"minorgridcolor\": \"white\", \"startlinecolor\": \"#2a3f5f\"}, \"baxis\": {\"endlinecolor\": \"#2a3f5f\", \"gridcolor\": \"white\", \"linecolor\": \"white\", \"minorgridcolor\": \"white\", \"startlinecolor\": \"#2a3f5f\"}, \"type\": \"carpet\"}], \"choropleth\": [{\"colorbar\": {\"outlinewidth\": 0, \"ticks\": \"\"}, \"type\": \"choropleth\"}], \"contour\": [{\"colorbar\": {\"outlinewidth\": 0, \"ticks\": \"\"}, \"colorscale\": [[0.0, \"#0d0887\"], [0.1111111111111111, \"#46039f\"], [0.2222222222222222, \"#7201a8\"], [0.3333333333333333, \"#9c179e\"], [0.4444444444444444, \"#bd3786\"], [0.5555555555555556, \"#d8576b\"], [0.6666666666666666, \"#ed7953\"], [0.7777777777777778, \"#fb9f3a\"], [0.8888888888888888, \"#fdca26\"], [1.0, \"#f0f921\"]], \"type\": \"contour\"}], \"contourcarpet\": [{\"colorbar\": {\"outlinewidth\": 0, \"ticks\": \"\"}, \"type\": \"contourcarpet\"}], \"heatmap\": [{\"colorbar\": {\"outlinewidth\": 0, \"ticks\": \"\"}, \"colorscale\": [[0.0, \"#0d0887\"], [0.1111111111111111, \"#46039f\"], [0.2222222222222222, \"#7201a8\"], [0.3333333333333333, \"#9c179e\"], [0.4444444444444444, \"#bd3786\"], [0.5555555555555556, \"#d8576b\"], [0.6666666666666666, \"#ed7953\"], [0.7777777777777778, \"#fb9f3a\"], [0.8888888888888888, \"#fdca26\"], [1.0, \"#f0f921\"]], \"type\": \"heatmap\"}], \"heatmapgl\": [{\"colorbar\": {\"outlinewidth\": 0, \"ticks\": \"\"}, \"colorscale\": [[0.0, \"#0d0887\"], [0.1111111111111111, \"#46039f\"], [0.2222222222222222, \"#7201a8\"], [0.3333333333333333, \"#9c179e\"], [0.4444444444444444, \"#bd3786\"], [0.5555555555555556, \"#d8576b\"], [0.6666666666666666, \"#ed7953\"], [0.7777777777777778, \"#fb9f3a\"], [0.8888888888888888, \"#fdca26\"], [1.0, \"#f0f921\"]], \"type\": \"heatmapgl\"}], \"histogram\": [{\"marker\": {\"colorbar\": {\"outlinewidth\": 0, \"ticks\": \"\"}}, \"type\": \"histogram\"}], \"histogram2d\": [{\"colorbar\": {\"outlinewidth\": 0, \"ticks\": \"\"}, \"colorscale\": [[0.0, \"#0d0887\"], [0.1111111111111111, \"#46039f\"], [0.2222222222222222, \"#7201a8\"], [0.3333333333333333, \"#9c179e\"], [0.4444444444444444, \"#bd3786\"], [0.5555555555555556, \"#d8576b\"], [0.6666666666666666, \"#ed7953\"], [0.7777777777777778, \"#fb9f3a\"], [0.8888888888888888, \"#fdca26\"], [1.0, \"#f0f921\"]], \"type\": \"histogram2d\"}], \"histogram2dcontour\": [{\"colorbar\": {\"outlinewidth\": 0, \"ticks\": \"\"}, \"colorscale\": [[0.0, \"#0d0887\"], [0.1111111111111111, \"#46039f\"], [0.2222222222222222, \"#7201a8\"], [0.3333333333333333, \"#9c179e\"], [0.4444444444444444, \"#bd3786\"], [0.5555555555555556, \"#d8576b\"], [0.6666666666666666, \"#ed7953\"], [0.7777777777777778, \"#fb9f3a\"], [0.8888888888888888, \"#fdca26\"], [1.0, \"#f0f921\"]], \"type\": \"histogram2dcontour\"}], \"mesh3d\": [{\"colorbar\": {\"outlinewidth\": 0, \"ticks\": \"\"}, \"type\": \"mesh3d\"}], \"parcoords\": [{\"line\": {\"colorbar\": {\"outlinewidth\": 0, \"ticks\": \"\"}}, \"type\": \"parcoords\"}], \"pie\": [{\"automargin\": true, \"type\": \"pie\"}], \"scatter\": [{\"marker\": {\"colorbar\": {\"outlinewidth\": 0, \"ticks\": \"\"}}, \"type\": \"scatter\"}], \"scatter3d\": [{\"line\": {\"colorbar\": {\"outlinewidth\": 0, \"ticks\": \"\"}}, \"marker\": {\"colorbar\": {\"outlinewidth\": 0, \"ticks\": \"\"}}, \"type\": \"scatter3d\"}], \"scattercarpet\": [{\"marker\": {\"colorbar\": {\"outlinewidth\": 0, \"ticks\": \"\"}}, \"type\": \"scattercarpet\"}], \"scattergeo\": [{\"marker\": {\"colorbar\": {\"outlinewidth\": 0, \"ticks\": \"\"}}, \"type\": \"scattergeo\"}], \"scattergl\": [{\"marker\": {\"colorbar\": {\"outlinewidth\": 0, \"ticks\": \"\"}}, \"type\": \"scattergl\"}], \"scattermapbox\": [{\"marker\": {\"colorbar\": {\"outlinewidth\": 0, \"ticks\": \"\"}}, \"type\": \"scattermapbox\"}], \"scatterpolar\": [{\"marker\": {\"colorbar\": {\"outlinewidth\": 0, \"ticks\": \"\"}}, \"type\": \"scatterpolar\"}], \"scatterpolargl\": [{\"marker\": {\"colorbar\": {\"outlinewidth\": 0, \"ticks\": \"\"}}, \"type\": \"scatterpolargl\"}], \"scatterternary\": [{\"marker\": {\"colorbar\": {\"outlinewidth\": 0, \"ticks\": \"\"}}, \"type\": \"scatterternary\"}], \"surface\": [{\"colorbar\": {\"outlinewidth\": 0, \"ticks\": \"\"}, \"colorscale\": [[0.0, \"#0d0887\"], [0.1111111111111111, \"#46039f\"], [0.2222222222222222, \"#7201a8\"], [0.3333333333333333, \"#9c179e\"], [0.4444444444444444, \"#bd3786\"], [0.5555555555555556, \"#d8576b\"], [0.6666666666666666, \"#ed7953\"], [0.7777777777777778, \"#fb9f3a\"], [0.8888888888888888, \"#fdca26\"], [1.0, \"#f0f921\"]], \"type\": \"surface\"}], \"table\": [{\"cells\": {\"fill\": {\"color\": \"#EBF0F8\"}, \"line\": {\"color\": \"white\"}}, \"header\": {\"fill\": {\"color\": \"#C8D4E3\"}, \"line\": {\"color\": \"white\"}}, \"type\": \"table\"}]}, \"layout\": {\"annotationdefaults\": {\"arrowcolor\": \"#2a3f5f\", \"arrowhead\": 0, \"arrowwidth\": 1}, \"coloraxis\": {\"colorbar\": {\"outlinewidth\": 0, \"ticks\": \"\"}}, \"colorscale\": {\"diverging\": [[0, \"#8e0152\"], [0.1, \"#c51b7d\"], [0.2, \"#de77ae\"], [0.3, \"#f1b6da\"], [0.4, \"#fde0ef\"], [0.5, \"#f7f7f7\"], [0.6, \"#e6f5d0\"], [0.7, \"#b8e186\"], [0.8, \"#7fbc41\"], [0.9, \"#4d9221\"], [1, \"#276419\"]], \"sequential\": [[0.0, \"#0d0887\"], [0.1111111111111111, \"#46039f\"], [0.2222222222222222, \"#7201a8\"], [0.3333333333333333, \"#9c179e\"], [0.4444444444444444, \"#bd3786\"], [0.5555555555555556, \"#d8576b\"], [0.6666666666666666, \"#ed7953\"], [0.7777777777777778, \"#fb9f3a\"], [0.8888888888888888, \"#fdca26\"], [1.0, \"#f0f921\"]], \"sequentialminus\": [[0.0, \"#0d0887\"], [0.1111111111111111, \"#46039f\"], [0.2222222222222222, \"#7201a8\"], [0.3333333333333333, \"#9c179e\"], [0.4444444444444444, \"#bd3786\"], [0.5555555555555556, \"#d8576b\"], [0.6666666666666666, \"#ed7953\"], [0.7777777777777778, \"#fb9f3a\"], [0.8888888888888888, \"#fdca26\"], [1.0, \"#f0f921\"]]}, \"colorway\": [\"#636efa\", \"#EF553B\", \"#00cc96\", \"#ab63fa\", \"#FFA15A\", \"#19d3f3\", \"#FF6692\", \"#B6E880\", \"#FF97FF\", \"#FECB52\"], \"font\": {\"color\": \"#2a3f5f\"}, \"geo\": {\"bgcolor\": \"white\", \"lakecolor\": \"white\", \"landcolor\": \"#E5ECF6\", \"showlakes\": true, \"showland\": true, \"subunitcolor\": \"white\"}, \"hoverlabel\": {\"align\": \"left\"}, \"hovermode\": \"closest\", \"mapbox\": {\"style\": \"light\"}, \"paper_bgcolor\": \"white\", \"plot_bgcolor\": \"#E5ECF6\", \"polar\": {\"angularaxis\": {\"gridcolor\": \"white\", \"linecolor\": \"white\", \"ticks\": \"\"}, \"bgcolor\": \"#E5ECF6\", \"radialaxis\": {\"gridcolor\": \"white\", \"linecolor\": \"white\", \"ticks\": \"\"}}, \"scene\": {\"xaxis\": {\"backgroundcolor\": \"#E5ECF6\", \"gridcolor\": \"white\", \"gridwidth\": 2, \"linecolor\": \"white\", \"showbackground\": true, \"ticks\": \"\", \"zerolinecolor\": \"white\"}, \"yaxis\": {\"backgroundcolor\": \"#E5ECF6\", \"gridcolor\": \"white\", \"gridwidth\": 2, \"linecolor\": \"white\", \"showbackground\": true, \"ticks\": \"\", \"zerolinecolor\": \"white\"}, \"zaxis\": {\"backgroundcolor\": \"#E5ECF6\", \"gridcolor\": \"white\", \"gridwidth\": 2, \"linecolor\": \"white\", \"showbackground\": true, \"ticks\": \"\", \"zerolinecolor\": \"white\"}}, \"shapedefaults\": {\"line\": {\"color\": \"#2a3f5f\"}}, \"ternary\": {\"aaxis\": {\"gridcolor\": \"white\", \"linecolor\": \"white\", \"ticks\": \"\"}, \"baxis\": {\"gridcolor\": \"white\", \"linecolor\": \"white\", \"ticks\": \"\"}, \"bgcolor\": \"#E5ECF6\", \"caxis\": {\"gridcolor\": \"white\", \"linecolor\": \"white\", \"ticks\": \"\"}}, \"title\": {\"x\": 0.05}, \"xaxis\": {\"automargin\": true, \"gridcolor\": \"white\", \"linecolor\": \"white\", \"ticks\": \"\", \"title\": {\"standoff\": 15}, \"zerolinecolor\": \"white\", \"zerolinewidth\": 2}, \"yaxis\": {\"automargin\": true, \"gridcolor\": \"white\", \"linecolor\": \"white\", \"ticks\": \"\", \"title\": {\"standoff\": 15}, \"zerolinecolor\": \"white\", \"zerolinewidth\": 2}}}, \"yaxis\": {\"domain\": [0, 0.2], \"showticklabels\": false}},\n",
       "                        {\"responsive\": true}\n",
       "                    ).then(function(){\n",
       "                            \n",
       "var gd = document.getElementById('c6e2f00f-f967-45ec-ad50-b0c22125a0ad');\n",
       "var x = new MutationObserver(function (mutations, observer) {{\n",
       "        var display = window.getComputedStyle(gd).display;\n",
       "        if (!display || display === 'none') {{\n",
       "            console.log([gd, 'removed!']);\n",
       "            Plotly.purge(gd);\n",
       "            observer.disconnect();\n",
       "        }}\n",
       "}});\n",
       "\n",
       "// Listen for the removal of the full notebook cells\n",
       "var notebookContainer = gd.closest('#notebook-container');\n",
       "if (notebookContainer) {{\n",
       "    x.observe(notebookContainer, {childList: true});\n",
       "}}\n",
       "\n",
       "// Listen for the clearing of the current output cell\n",
       "var outputEl = gd.closest('.output');\n",
       "if (outputEl) {{\n",
       "    x.observe(outputEl, {childList: true});\n",
       "}}\n",
       "\n",
       "                        })\n",
       "                };\n",
       "                });\n",
       "            </script>\n",
       "        </div>"
      ]
     },
     "metadata": {},
     "output_type": "display_data"
    }
   ],
   "source": [
    "utils.visualize([\n",
    "    ['HIGH GAMMA', high_gamma],\n",
    "    ['LOW GAMMA', low_gamma],\n",
    "], cluster=10000)"
   ]
  },
  {
   "cell_type": "markdown",
   "metadata": {},
   "source": [
    "### 100K EPOCHS, 0.3 GAMMA & [0.2, 0.5, 0.8] DECAYING EPSILON - RUNTIME ~5 SECONDS"
   ]
  },
  {
   "cell_type": "code",
   "execution_count": 13,
   "metadata": {},
   "outputs": [],
   "source": [
    "low_eps = utils.load('100k_low_gamma_dynamic_0.2_epsilon')"
   ]
  },
  {
   "cell_type": "code",
   "execution_count": 14,
   "metadata": {},
   "outputs": [],
   "source": [
    "med_eps = utils.load('100k_low_gamma_dynamic_0.5_epsilon')"
   ]
  },
  {
   "cell_type": "code",
   "execution_count": 15,
   "metadata": {},
   "outputs": [],
   "source": [
    "hig_eps = utils.load('100k_low_gamma_dynamic_0.8_epsilon')"
   ]
  },
  {
   "cell_type": "code",
   "execution_count": 16,
   "metadata": {
    "scrolled": false
   },
   "outputs": [
    {
     "data": {
      "application/vnd.plotly.v1+json": {
       "config": {
        "plotlyServerURL": "https://plot.ly"
       },
       "data": [
        {
         "line": {
          "width": 1
         },
         "marker": {
          "color": "#e75f5b"
         },
         "mode": "lines+markers",
         "name": "0.2 EPSILON",
         "opacity": 0.6,
         "type": "scatter",
         "y": [
          2.013,
          2.34,
          2.414,
          2.359,
          2.384,
          2.494,
          2.475,
          2.481,
          2.561,
          2.627,
          2.623,
          2.711,
          2.632,
          2.588,
          2.655,
          2.631,
          2.772,
          2.733,
          2.751,
          2.75,
          2.762,
          2.832,
          2.944,
          2.834,
          2.867,
          2.957,
          2.914,
          2.952,
          3.01,
          3.082,
          2.959,
          3.081,
          3.065,
          3.177,
          3.317,
          3.127,
          3.172,
          3.188,
          3.394,
          3.23,
          3.232,
          3.185,
          3.311,
          3.304,
          3.572,
          3.272,
          3.531,
          3.413,
          3.601,
          3.459,
          3.638,
          3.738,
          3.495,
          3.767,
          3.737,
          3.659,
          3.842,
          3.556,
          3.761,
          4.152,
          3.851,
          3.952,
          3.906,
          3.804,
          4.091,
          4.09,
          4.097,
          3.934,
          4.262,
          4.022,
          4.329,
          4.452,
          4.24,
          4.21,
          4.282,
          4.55,
          4.339,
          4.391,
          4.557,
          4.355,
          4.524,
          4.655,
          4.868,
          4.63,
          4.744,
          4.778,
          4.613,
          4.525,
          4.705,
          4.946,
          4.821,
          5.025,
          5.01,
          5.01,
          5.012,
          4.966,
          5.299,
          5.018,
          4.997,
          5.166
         ],
         "yaxis": "y2"
        },
        {
         "line": {
          "width": 1
         },
         "marker": {
          "color": "#52af52"
         },
         "mode": "lines+markers",
         "name": "0.5 EPSILON",
         "opacity": 0.6,
         "type": "scatter",
         "y": [
          0.91,
          0.966,
          0.951,
          0.962,
          0.975,
          0.969,
          1.029,
          0.995,
          1.051,
          1.087,
          1.015,
          1.073,
          1.082,
          1.101,
          1.122,
          1.105,
          1.109,
          1.107,
          1.163,
          1.168,
          1.17,
          1.178,
          1.157,
          1.13,
          1.22,
          1.283,
          1.263,
          1.22,
          1.265,
          1.266,
          1.336,
          1.303,
          1.281,
          1.392,
          1.344,
          1.43,
          1.406,
          1.428,
          1.41,
          1.42,
          1.48,
          1.443,
          1.444,
          1.497,
          1.524,
          1.447,
          1.553,
          1.501,
          1.558,
          1.556,
          1.576,
          1.588,
          1.649,
          1.61,
          1.685,
          1.599,
          1.63,
          1.753,
          1.683,
          1.705,
          1.815,
          1.789,
          1.842,
          1.716,
          1.8,
          1.799,
          1.837,
          1.859,
          1.849,
          1.829,
          1.986,
          1.921,
          1.878,
          2.015,
          1.941,
          2.004,
          1.986,
          1.968,
          2.055,
          2.137,
          2.105,
          2.029,
          2.134,
          2.194,
          2.261,
          2.156,
          2.22,
          2.177,
          2.218,
          2.162,
          2.324,
          2.174,
          2.299,
          2.439,
          2.349,
          2.412,
          2.453,
          2.519,
          2.446,
          2.613
         ],
         "yaxis": "y2"
        },
        {
         "line": {
          "width": 1
         },
         "marker": {
          "color": "#f2ae42"
         },
         "mode": "lines+markers",
         "name": "0.8 EPSILON",
         "opacity": 0.6,
         "type": "scatter",
         "y": [
          0.367,
          0.389,
          0.376,
          0.445,
          0.426,
          0.392,
          0.452,
          0.428,
          0.481,
          0.487,
          0.512,
          0.526,
          0.519,
          0.57,
          0.521,
          0.571,
          0.57,
          0.594,
          0.609,
          0.626,
          0.612,
          0.608,
          0.653,
          0.629,
          0.671,
          0.699,
          0.697,
          0.713,
          0.744,
          0.724,
          0.734,
          0.75,
          0.744,
          0.786,
          0.795,
          0.816,
          0.829,
          0.828,
          0.832,
          0.885,
          0.85,
          0.857,
          0.851,
          0.863,
          0.912,
          0.881,
          0.928,
          0.952,
          0.941,
          0.951,
          0.996,
          1.006,
          1.02,
          0.995,
          0.992,
          1.027,
          1.084,
          1.014,
          1.074,
          1.046,
          1.014,
          1.125,
          1.126,
          1.098,
          1.103,
          1.143,
          1.146,
          1.134,
          1.218,
          1.185,
          1.223,
          1.26,
          1.23,
          1.256,
          1.248,
          1.31,
          1.305,
          1.318,
          1.286,
          1.338,
          1.278,
          1.358,
          1.339,
          1.328,
          1.403,
          1.429,
          1.37,
          1.402,
          1.446,
          1.42,
          1.516,
          1.454,
          1.432,
          1.521,
          1.522,
          1.584,
          1.532,
          1.567,
          1.568,
          1.62
         ],
         "yaxis": "y2"
        }
       ],
       "layout": {
        "margin": {
         "b": 20,
         "l": 20,
         "r": 20,
         "t": 20
        },
        "template": {
         "data": {
          "bar": [
           {
            "error_x": {
             "color": "#2a3f5f"
            },
            "error_y": {
             "color": "#2a3f5f"
            },
            "marker": {
             "line": {
              "color": "#E5ECF6",
              "width": 0.5
             }
            },
            "type": "bar"
           }
          ],
          "barpolar": [
           {
            "marker": {
             "line": {
              "color": "#E5ECF6",
              "width": 0.5
             }
            },
            "type": "barpolar"
           }
          ],
          "carpet": [
           {
            "aaxis": {
             "endlinecolor": "#2a3f5f",
             "gridcolor": "white",
             "linecolor": "white",
             "minorgridcolor": "white",
             "startlinecolor": "#2a3f5f"
            },
            "baxis": {
             "endlinecolor": "#2a3f5f",
             "gridcolor": "white",
             "linecolor": "white",
             "minorgridcolor": "white",
             "startlinecolor": "#2a3f5f"
            },
            "type": "carpet"
           }
          ],
          "choropleth": [
           {
            "colorbar": {
             "outlinewidth": 0,
             "ticks": ""
            },
            "type": "choropleth"
           }
          ],
          "contour": [
           {
            "colorbar": {
             "outlinewidth": 0,
             "ticks": ""
            },
            "colorscale": [
             [
              0,
              "#0d0887"
             ],
             [
              0.1111111111111111,
              "#46039f"
             ],
             [
              0.2222222222222222,
              "#7201a8"
             ],
             [
              0.3333333333333333,
              "#9c179e"
             ],
             [
              0.4444444444444444,
              "#bd3786"
             ],
             [
              0.5555555555555556,
              "#d8576b"
             ],
             [
              0.6666666666666666,
              "#ed7953"
             ],
             [
              0.7777777777777778,
              "#fb9f3a"
             ],
             [
              0.8888888888888888,
              "#fdca26"
             ],
             [
              1,
              "#f0f921"
             ]
            ],
            "type": "contour"
           }
          ],
          "contourcarpet": [
           {
            "colorbar": {
             "outlinewidth": 0,
             "ticks": ""
            },
            "type": "contourcarpet"
           }
          ],
          "heatmap": [
           {
            "colorbar": {
             "outlinewidth": 0,
             "ticks": ""
            },
            "colorscale": [
             [
              0,
              "#0d0887"
             ],
             [
              0.1111111111111111,
              "#46039f"
             ],
             [
              0.2222222222222222,
              "#7201a8"
             ],
             [
              0.3333333333333333,
              "#9c179e"
             ],
             [
              0.4444444444444444,
              "#bd3786"
             ],
             [
              0.5555555555555556,
              "#d8576b"
             ],
             [
              0.6666666666666666,
              "#ed7953"
             ],
             [
              0.7777777777777778,
              "#fb9f3a"
             ],
             [
              0.8888888888888888,
              "#fdca26"
             ],
             [
              1,
              "#f0f921"
             ]
            ],
            "type": "heatmap"
           }
          ],
          "heatmapgl": [
           {
            "colorbar": {
             "outlinewidth": 0,
             "ticks": ""
            },
            "colorscale": [
             [
              0,
              "#0d0887"
             ],
             [
              0.1111111111111111,
              "#46039f"
             ],
             [
              0.2222222222222222,
              "#7201a8"
             ],
             [
              0.3333333333333333,
              "#9c179e"
             ],
             [
              0.4444444444444444,
              "#bd3786"
             ],
             [
              0.5555555555555556,
              "#d8576b"
             ],
             [
              0.6666666666666666,
              "#ed7953"
             ],
             [
              0.7777777777777778,
              "#fb9f3a"
             ],
             [
              0.8888888888888888,
              "#fdca26"
             ],
             [
              1,
              "#f0f921"
             ]
            ],
            "type": "heatmapgl"
           }
          ],
          "histogram": [
           {
            "marker": {
             "colorbar": {
              "outlinewidth": 0,
              "ticks": ""
             }
            },
            "type": "histogram"
           }
          ],
          "histogram2d": [
           {
            "colorbar": {
             "outlinewidth": 0,
             "ticks": ""
            },
            "colorscale": [
             [
              0,
              "#0d0887"
             ],
             [
              0.1111111111111111,
              "#46039f"
             ],
             [
              0.2222222222222222,
              "#7201a8"
             ],
             [
              0.3333333333333333,
              "#9c179e"
             ],
             [
              0.4444444444444444,
              "#bd3786"
             ],
             [
              0.5555555555555556,
              "#d8576b"
             ],
             [
              0.6666666666666666,
              "#ed7953"
             ],
             [
              0.7777777777777778,
              "#fb9f3a"
             ],
             [
              0.8888888888888888,
              "#fdca26"
             ],
             [
              1,
              "#f0f921"
             ]
            ],
            "type": "histogram2d"
           }
          ],
          "histogram2dcontour": [
           {
            "colorbar": {
             "outlinewidth": 0,
             "ticks": ""
            },
            "colorscale": [
             [
              0,
              "#0d0887"
             ],
             [
              0.1111111111111111,
              "#46039f"
             ],
             [
              0.2222222222222222,
              "#7201a8"
             ],
             [
              0.3333333333333333,
              "#9c179e"
             ],
             [
              0.4444444444444444,
              "#bd3786"
             ],
             [
              0.5555555555555556,
              "#d8576b"
             ],
             [
              0.6666666666666666,
              "#ed7953"
             ],
             [
              0.7777777777777778,
              "#fb9f3a"
             ],
             [
              0.8888888888888888,
              "#fdca26"
             ],
             [
              1,
              "#f0f921"
             ]
            ],
            "type": "histogram2dcontour"
           }
          ],
          "mesh3d": [
           {
            "colorbar": {
             "outlinewidth": 0,
             "ticks": ""
            },
            "type": "mesh3d"
           }
          ],
          "parcoords": [
           {
            "line": {
             "colorbar": {
              "outlinewidth": 0,
              "ticks": ""
             }
            },
            "type": "parcoords"
           }
          ],
          "pie": [
           {
            "automargin": true,
            "type": "pie"
           }
          ],
          "scatter": [
           {
            "marker": {
             "colorbar": {
              "outlinewidth": 0,
              "ticks": ""
             }
            },
            "type": "scatter"
           }
          ],
          "scatter3d": [
           {
            "line": {
             "colorbar": {
              "outlinewidth": 0,
              "ticks": ""
             }
            },
            "marker": {
             "colorbar": {
              "outlinewidth": 0,
              "ticks": ""
             }
            },
            "type": "scatter3d"
           }
          ],
          "scattercarpet": [
           {
            "marker": {
             "colorbar": {
              "outlinewidth": 0,
              "ticks": ""
             }
            },
            "type": "scattercarpet"
           }
          ],
          "scattergeo": [
           {
            "marker": {
             "colorbar": {
              "outlinewidth": 0,
              "ticks": ""
             }
            },
            "type": "scattergeo"
           }
          ],
          "scattergl": [
           {
            "marker": {
             "colorbar": {
              "outlinewidth": 0,
              "ticks": ""
             }
            },
            "type": "scattergl"
           }
          ],
          "scattermapbox": [
           {
            "marker": {
             "colorbar": {
              "outlinewidth": 0,
              "ticks": ""
             }
            },
            "type": "scattermapbox"
           }
          ],
          "scatterpolar": [
           {
            "marker": {
             "colorbar": {
              "outlinewidth": 0,
              "ticks": ""
             }
            },
            "type": "scatterpolar"
           }
          ],
          "scatterpolargl": [
           {
            "marker": {
             "colorbar": {
              "outlinewidth": 0,
              "ticks": ""
             }
            },
            "type": "scatterpolargl"
           }
          ],
          "scatterternary": [
           {
            "marker": {
             "colorbar": {
              "outlinewidth": 0,
              "ticks": ""
             }
            },
            "type": "scatterternary"
           }
          ],
          "surface": [
           {
            "colorbar": {
             "outlinewidth": 0,
             "ticks": ""
            },
            "colorscale": [
             [
              0,
              "#0d0887"
             ],
             [
              0.1111111111111111,
              "#46039f"
             ],
             [
              0.2222222222222222,
              "#7201a8"
             ],
             [
              0.3333333333333333,
              "#9c179e"
             ],
             [
              0.4444444444444444,
              "#bd3786"
             ],
             [
              0.5555555555555556,
              "#d8576b"
             ],
             [
              0.6666666666666666,
              "#ed7953"
             ],
             [
              0.7777777777777778,
              "#fb9f3a"
             ],
             [
              0.8888888888888888,
              "#fdca26"
             ],
             [
              1,
              "#f0f921"
             ]
            ],
            "type": "surface"
           }
          ],
          "table": [
           {
            "cells": {
             "fill": {
              "color": "#EBF0F8"
             },
             "line": {
              "color": "white"
             }
            },
            "header": {
             "fill": {
              "color": "#C8D4E3"
             },
             "line": {
              "color": "white"
             }
            },
            "type": "table"
           }
          ]
         },
         "layout": {
          "annotationdefaults": {
           "arrowcolor": "#2a3f5f",
           "arrowhead": 0,
           "arrowwidth": 1
          },
          "coloraxis": {
           "colorbar": {
            "outlinewidth": 0,
            "ticks": ""
           }
          },
          "colorscale": {
           "diverging": [
            [
             0,
             "#8e0152"
            ],
            [
             0.1,
             "#c51b7d"
            ],
            [
             0.2,
             "#de77ae"
            ],
            [
             0.3,
             "#f1b6da"
            ],
            [
             0.4,
             "#fde0ef"
            ],
            [
             0.5,
             "#f7f7f7"
            ],
            [
             0.6,
             "#e6f5d0"
            ],
            [
             0.7,
             "#b8e186"
            ],
            [
             0.8,
             "#7fbc41"
            ],
            [
             0.9,
             "#4d9221"
            ],
            [
             1,
             "#276419"
            ]
           ],
           "sequential": [
            [
             0,
             "#0d0887"
            ],
            [
             0.1111111111111111,
             "#46039f"
            ],
            [
             0.2222222222222222,
             "#7201a8"
            ],
            [
             0.3333333333333333,
             "#9c179e"
            ],
            [
             0.4444444444444444,
             "#bd3786"
            ],
            [
             0.5555555555555556,
             "#d8576b"
            ],
            [
             0.6666666666666666,
             "#ed7953"
            ],
            [
             0.7777777777777778,
             "#fb9f3a"
            ],
            [
             0.8888888888888888,
             "#fdca26"
            ],
            [
             1,
             "#f0f921"
            ]
           ],
           "sequentialminus": [
            [
             0,
             "#0d0887"
            ],
            [
             0.1111111111111111,
             "#46039f"
            ],
            [
             0.2222222222222222,
             "#7201a8"
            ],
            [
             0.3333333333333333,
             "#9c179e"
            ],
            [
             0.4444444444444444,
             "#bd3786"
            ],
            [
             0.5555555555555556,
             "#d8576b"
            ],
            [
             0.6666666666666666,
             "#ed7953"
            ],
            [
             0.7777777777777778,
             "#fb9f3a"
            ],
            [
             0.8888888888888888,
             "#fdca26"
            ],
            [
             1,
             "#f0f921"
            ]
           ]
          },
          "colorway": [
           "#636efa",
           "#EF553B",
           "#00cc96",
           "#ab63fa",
           "#FFA15A",
           "#19d3f3",
           "#FF6692",
           "#B6E880",
           "#FF97FF",
           "#FECB52"
          ],
          "font": {
           "color": "#2a3f5f"
          },
          "geo": {
           "bgcolor": "white",
           "lakecolor": "white",
           "landcolor": "#E5ECF6",
           "showlakes": true,
           "showland": true,
           "subunitcolor": "white"
          },
          "hoverlabel": {
           "align": "left"
          },
          "hovermode": "closest",
          "mapbox": {
           "style": "light"
          },
          "paper_bgcolor": "white",
          "plot_bgcolor": "#E5ECF6",
          "polar": {
           "angularaxis": {
            "gridcolor": "white",
            "linecolor": "white",
            "ticks": ""
           },
           "bgcolor": "#E5ECF6",
           "radialaxis": {
            "gridcolor": "white",
            "linecolor": "white",
            "ticks": ""
           }
          },
          "scene": {
           "xaxis": {
            "backgroundcolor": "#E5ECF6",
            "gridcolor": "white",
            "gridwidth": 2,
            "linecolor": "white",
            "showbackground": true,
            "ticks": "",
            "zerolinecolor": "white"
           },
           "yaxis": {
            "backgroundcolor": "#E5ECF6",
            "gridcolor": "white",
            "gridwidth": 2,
            "linecolor": "white",
            "showbackground": true,
            "ticks": "",
            "zerolinecolor": "white"
           },
           "zaxis": {
            "backgroundcolor": "#E5ECF6",
            "gridcolor": "white",
            "gridwidth": 2,
            "linecolor": "white",
            "showbackground": true,
            "ticks": "",
            "zerolinecolor": "white"
           }
          },
          "shapedefaults": {
           "line": {
            "color": "#2a3f5f"
           }
          },
          "ternary": {
           "aaxis": {
            "gridcolor": "white",
            "linecolor": "white",
            "ticks": ""
           },
           "baxis": {
            "gridcolor": "white",
            "linecolor": "white",
            "ticks": ""
           },
           "bgcolor": "#E5ECF6",
           "caxis": {
            "gridcolor": "white",
            "linecolor": "white",
            "ticks": ""
           }
          },
          "title": {
           "x": 0.05
          },
          "xaxis": {
           "automargin": true,
           "gridcolor": "white",
           "linecolor": "white",
           "ticks": "",
           "title": {
            "standoff": 15
           },
           "zerolinecolor": "white",
           "zerolinewidth": 2
          },
          "yaxis": {
           "automargin": true,
           "gridcolor": "white",
           "linecolor": "white",
           "ticks": "",
           "title": {
            "standoff": 15
           },
           "zerolinecolor": "white",
           "zerolinewidth": 2
          }
         }
        },
        "yaxis": {
         "domain": [
          0,
          0.2
         ],
         "showticklabels": false
        }
       }
      },
      "text/html": [
       "<div>\n",
       "        \n",
       "        \n",
       "            <div id=\"a072f5c9-8acc-48aa-b5c5-12d377c3ae95\" class=\"plotly-graph-div\" style=\"height:525px; width:100%;\"></div>\n",
       "            <script type=\"text/javascript\">\n",
       "                require([\"plotly\"], function(Plotly) {\n",
       "                    window.PLOTLYENV=window.PLOTLYENV || {};\n",
       "                    \n",
       "                if (document.getElementById(\"a072f5c9-8acc-48aa-b5c5-12d377c3ae95\")) {\n",
       "                    Plotly.newPlot(\n",
       "                        'a072f5c9-8acc-48aa-b5c5-12d377c3ae95',\n",
       "                        [{\"line\": {\"width\": 1}, \"marker\": {\"color\": \"#e75f5b\"}, \"mode\": \"lines+markers\", \"name\": \"0.2 EPSILON\", \"opacity\": 0.6, \"type\": \"scatter\", \"y\": [2.013, 2.34, 2.414, 2.359, 2.384, 2.494, 2.475, 2.481, 2.561, 2.627, 2.623, 2.711, 2.632, 2.588, 2.655, 2.631, 2.772, 2.733, 2.751, 2.75, 2.762, 2.832, 2.944, 2.834, 2.867, 2.957, 2.914, 2.952, 3.01, 3.082, 2.959, 3.081, 3.065, 3.177, 3.317, 3.127, 3.172, 3.188, 3.394, 3.23, 3.232, 3.185, 3.311, 3.304, 3.572, 3.272, 3.531, 3.413, 3.601, 3.459, 3.638, 3.738, 3.495, 3.767, 3.737, 3.659, 3.842, 3.556, 3.761, 4.152, 3.851, 3.952, 3.906, 3.804, 4.091, 4.09, 4.097, 3.934, 4.262, 4.022, 4.329, 4.452, 4.24, 4.21, 4.282, 4.55, 4.339, 4.391, 4.557, 4.355, 4.524, 4.655, 4.868, 4.63, 4.744, 4.778, 4.613, 4.525, 4.705, 4.946, 4.821, 5.025, 5.01, 5.01, 5.012, 4.966, 5.299, 5.018, 4.997, 5.166], \"yaxis\": \"y2\"}, {\"line\": {\"width\": 1}, \"marker\": {\"color\": \"#52af52\"}, \"mode\": \"lines+markers\", \"name\": \"0.5 EPSILON\", \"opacity\": 0.6, \"type\": \"scatter\", \"y\": [0.91, 0.966, 0.951, 0.962, 0.975, 0.969, 1.029, 0.995, 1.051, 1.087, 1.015, 1.073, 1.082, 1.101, 1.122, 1.105, 1.109, 1.107, 1.163, 1.168, 1.17, 1.178, 1.157, 1.13, 1.22, 1.283, 1.263, 1.22, 1.265, 1.266, 1.336, 1.303, 1.281, 1.392, 1.344, 1.43, 1.406, 1.428, 1.41, 1.42, 1.48, 1.443, 1.444, 1.497, 1.524, 1.447, 1.553, 1.501, 1.558, 1.556, 1.576, 1.588, 1.649, 1.61, 1.685, 1.599, 1.63, 1.753, 1.683, 1.705, 1.815, 1.789, 1.842, 1.716, 1.8, 1.799, 1.837, 1.859, 1.849, 1.829, 1.986, 1.921, 1.878, 2.015, 1.941, 2.004, 1.986, 1.968, 2.055, 2.137, 2.105, 2.029, 2.134, 2.194, 2.261, 2.156, 2.22, 2.177, 2.218, 2.162, 2.324, 2.174, 2.299, 2.439, 2.349, 2.412, 2.453, 2.519, 2.446, 2.613], \"yaxis\": \"y2\"}, {\"line\": {\"width\": 1}, \"marker\": {\"color\": \"#f2ae42\"}, \"mode\": \"lines+markers\", \"name\": \"0.8 EPSILON\", \"opacity\": 0.6, \"type\": \"scatter\", \"y\": [0.367, 0.389, 0.376, 0.445, 0.426, 0.392, 0.452, 0.428, 0.481, 0.487, 0.512, 0.526, 0.519, 0.57, 0.521, 0.571, 0.57, 0.594, 0.609, 0.626, 0.612, 0.608, 0.653, 0.629, 0.671, 0.699, 0.697, 0.713, 0.744, 0.724, 0.734, 0.75, 0.744, 0.786, 0.795, 0.816, 0.829, 0.828, 0.832, 0.885, 0.85, 0.857, 0.851, 0.863, 0.912, 0.881, 0.928, 0.952, 0.941, 0.951, 0.996, 1.006, 1.02, 0.995, 0.992, 1.027, 1.084, 1.014, 1.074, 1.046, 1.014, 1.125, 1.126, 1.098, 1.103, 1.143, 1.146, 1.134, 1.218, 1.185, 1.223, 1.26, 1.23, 1.256, 1.248, 1.31, 1.305, 1.318, 1.286, 1.338, 1.278, 1.358, 1.339, 1.328, 1.403, 1.429, 1.37, 1.402, 1.446, 1.42, 1.516, 1.454, 1.432, 1.521, 1.522, 1.584, 1.532, 1.567, 1.568, 1.62], \"yaxis\": \"y2\"}],\n",
       "                        {\"margin\": {\"b\": 20, \"l\": 20, \"r\": 20, \"t\": 20}, \"template\": {\"data\": {\"bar\": [{\"error_x\": {\"color\": \"#2a3f5f\"}, \"error_y\": {\"color\": \"#2a3f5f\"}, \"marker\": {\"line\": {\"color\": \"#E5ECF6\", \"width\": 0.5}}, \"type\": \"bar\"}], \"barpolar\": [{\"marker\": {\"line\": {\"color\": \"#E5ECF6\", \"width\": 0.5}}, \"type\": \"barpolar\"}], \"carpet\": [{\"aaxis\": {\"endlinecolor\": \"#2a3f5f\", \"gridcolor\": \"white\", \"linecolor\": \"white\", \"minorgridcolor\": \"white\", \"startlinecolor\": \"#2a3f5f\"}, \"baxis\": {\"endlinecolor\": \"#2a3f5f\", \"gridcolor\": \"white\", \"linecolor\": \"white\", \"minorgridcolor\": \"white\", \"startlinecolor\": \"#2a3f5f\"}, \"type\": \"carpet\"}], \"choropleth\": [{\"colorbar\": {\"outlinewidth\": 0, \"ticks\": \"\"}, \"type\": \"choropleth\"}], \"contour\": [{\"colorbar\": {\"outlinewidth\": 0, \"ticks\": \"\"}, \"colorscale\": [[0.0, \"#0d0887\"], [0.1111111111111111, \"#46039f\"], [0.2222222222222222, \"#7201a8\"], [0.3333333333333333, \"#9c179e\"], [0.4444444444444444, \"#bd3786\"], [0.5555555555555556, \"#d8576b\"], [0.6666666666666666, \"#ed7953\"], [0.7777777777777778, \"#fb9f3a\"], [0.8888888888888888, \"#fdca26\"], [1.0, \"#f0f921\"]], \"type\": \"contour\"}], \"contourcarpet\": [{\"colorbar\": {\"outlinewidth\": 0, \"ticks\": \"\"}, \"type\": \"contourcarpet\"}], \"heatmap\": [{\"colorbar\": {\"outlinewidth\": 0, \"ticks\": \"\"}, \"colorscale\": [[0.0, \"#0d0887\"], [0.1111111111111111, \"#46039f\"], [0.2222222222222222, \"#7201a8\"], [0.3333333333333333, \"#9c179e\"], [0.4444444444444444, \"#bd3786\"], [0.5555555555555556, \"#d8576b\"], [0.6666666666666666, \"#ed7953\"], [0.7777777777777778, \"#fb9f3a\"], [0.8888888888888888, \"#fdca26\"], [1.0, \"#f0f921\"]], \"type\": \"heatmap\"}], \"heatmapgl\": [{\"colorbar\": {\"outlinewidth\": 0, \"ticks\": \"\"}, \"colorscale\": [[0.0, \"#0d0887\"], [0.1111111111111111, \"#46039f\"], [0.2222222222222222, \"#7201a8\"], [0.3333333333333333, \"#9c179e\"], [0.4444444444444444, \"#bd3786\"], [0.5555555555555556, \"#d8576b\"], [0.6666666666666666, \"#ed7953\"], [0.7777777777777778, \"#fb9f3a\"], [0.8888888888888888, \"#fdca26\"], [1.0, \"#f0f921\"]], \"type\": \"heatmapgl\"}], \"histogram\": [{\"marker\": {\"colorbar\": {\"outlinewidth\": 0, \"ticks\": \"\"}}, \"type\": \"histogram\"}], \"histogram2d\": [{\"colorbar\": {\"outlinewidth\": 0, \"ticks\": \"\"}, \"colorscale\": [[0.0, \"#0d0887\"], [0.1111111111111111, \"#46039f\"], [0.2222222222222222, \"#7201a8\"], [0.3333333333333333, \"#9c179e\"], [0.4444444444444444, \"#bd3786\"], [0.5555555555555556, \"#d8576b\"], [0.6666666666666666, \"#ed7953\"], [0.7777777777777778, \"#fb9f3a\"], [0.8888888888888888, \"#fdca26\"], [1.0, \"#f0f921\"]], \"type\": \"histogram2d\"}], \"histogram2dcontour\": [{\"colorbar\": {\"outlinewidth\": 0, \"ticks\": \"\"}, \"colorscale\": [[0.0, \"#0d0887\"], [0.1111111111111111, \"#46039f\"], [0.2222222222222222, \"#7201a8\"], [0.3333333333333333, \"#9c179e\"], [0.4444444444444444, \"#bd3786\"], [0.5555555555555556, \"#d8576b\"], [0.6666666666666666, \"#ed7953\"], [0.7777777777777778, \"#fb9f3a\"], [0.8888888888888888, \"#fdca26\"], [1.0, \"#f0f921\"]], \"type\": \"histogram2dcontour\"}], \"mesh3d\": [{\"colorbar\": {\"outlinewidth\": 0, \"ticks\": \"\"}, \"type\": \"mesh3d\"}], \"parcoords\": [{\"line\": {\"colorbar\": {\"outlinewidth\": 0, \"ticks\": \"\"}}, \"type\": \"parcoords\"}], \"pie\": [{\"automargin\": true, \"type\": \"pie\"}], \"scatter\": [{\"marker\": {\"colorbar\": {\"outlinewidth\": 0, \"ticks\": \"\"}}, \"type\": \"scatter\"}], \"scatter3d\": [{\"line\": {\"colorbar\": {\"outlinewidth\": 0, \"ticks\": \"\"}}, \"marker\": {\"colorbar\": {\"outlinewidth\": 0, \"ticks\": \"\"}}, \"type\": \"scatter3d\"}], \"scattercarpet\": [{\"marker\": {\"colorbar\": {\"outlinewidth\": 0, \"ticks\": \"\"}}, \"type\": \"scattercarpet\"}], \"scattergeo\": [{\"marker\": {\"colorbar\": {\"outlinewidth\": 0, \"ticks\": \"\"}}, \"type\": \"scattergeo\"}], \"scattergl\": [{\"marker\": {\"colorbar\": {\"outlinewidth\": 0, \"ticks\": \"\"}}, \"type\": \"scattergl\"}], \"scattermapbox\": [{\"marker\": {\"colorbar\": {\"outlinewidth\": 0, \"ticks\": \"\"}}, \"type\": \"scattermapbox\"}], \"scatterpolar\": [{\"marker\": {\"colorbar\": {\"outlinewidth\": 0, \"ticks\": \"\"}}, \"type\": \"scatterpolar\"}], \"scatterpolargl\": [{\"marker\": {\"colorbar\": {\"outlinewidth\": 0, \"ticks\": \"\"}}, \"type\": \"scatterpolargl\"}], \"scatterternary\": [{\"marker\": {\"colorbar\": {\"outlinewidth\": 0, \"ticks\": \"\"}}, \"type\": \"scatterternary\"}], \"surface\": [{\"colorbar\": {\"outlinewidth\": 0, \"ticks\": \"\"}, \"colorscale\": [[0.0, \"#0d0887\"], [0.1111111111111111, \"#46039f\"], [0.2222222222222222, \"#7201a8\"], [0.3333333333333333, \"#9c179e\"], [0.4444444444444444, \"#bd3786\"], [0.5555555555555556, \"#d8576b\"], [0.6666666666666666, \"#ed7953\"], [0.7777777777777778, \"#fb9f3a\"], [0.8888888888888888, \"#fdca26\"], [1.0, \"#f0f921\"]], \"type\": \"surface\"}], \"table\": [{\"cells\": {\"fill\": {\"color\": \"#EBF0F8\"}, \"line\": {\"color\": \"white\"}}, \"header\": {\"fill\": {\"color\": \"#C8D4E3\"}, \"line\": {\"color\": \"white\"}}, \"type\": \"table\"}]}, \"layout\": {\"annotationdefaults\": {\"arrowcolor\": \"#2a3f5f\", \"arrowhead\": 0, \"arrowwidth\": 1}, \"coloraxis\": {\"colorbar\": {\"outlinewidth\": 0, \"ticks\": \"\"}}, \"colorscale\": {\"diverging\": [[0, \"#8e0152\"], [0.1, \"#c51b7d\"], [0.2, \"#de77ae\"], [0.3, \"#f1b6da\"], [0.4, \"#fde0ef\"], [0.5, \"#f7f7f7\"], [0.6, \"#e6f5d0\"], [0.7, \"#b8e186\"], [0.8, \"#7fbc41\"], [0.9, \"#4d9221\"], [1, \"#276419\"]], \"sequential\": [[0.0, \"#0d0887\"], [0.1111111111111111, \"#46039f\"], [0.2222222222222222, \"#7201a8\"], [0.3333333333333333, \"#9c179e\"], [0.4444444444444444, \"#bd3786\"], [0.5555555555555556, \"#d8576b\"], [0.6666666666666666, \"#ed7953\"], [0.7777777777777778, \"#fb9f3a\"], [0.8888888888888888, \"#fdca26\"], [1.0, \"#f0f921\"]], \"sequentialminus\": [[0.0, \"#0d0887\"], [0.1111111111111111, \"#46039f\"], [0.2222222222222222, \"#7201a8\"], [0.3333333333333333, \"#9c179e\"], [0.4444444444444444, \"#bd3786\"], [0.5555555555555556, \"#d8576b\"], [0.6666666666666666, \"#ed7953\"], [0.7777777777777778, \"#fb9f3a\"], [0.8888888888888888, \"#fdca26\"], [1.0, \"#f0f921\"]]}, \"colorway\": [\"#636efa\", \"#EF553B\", \"#00cc96\", \"#ab63fa\", \"#FFA15A\", \"#19d3f3\", \"#FF6692\", \"#B6E880\", \"#FF97FF\", \"#FECB52\"], \"font\": {\"color\": \"#2a3f5f\"}, \"geo\": {\"bgcolor\": \"white\", \"lakecolor\": \"white\", \"landcolor\": \"#E5ECF6\", \"showlakes\": true, \"showland\": true, \"subunitcolor\": \"white\"}, \"hoverlabel\": {\"align\": \"left\"}, \"hovermode\": \"closest\", \"mapbox\": {\"style\": \"light\"}, \"paper_bgcolor\": \"white\", \"plot_bgcolor\": \"#E5ECF6\", \"polar\": {\"angularaxis\": {\"gridcolor\": \"white\", \"linecolor\": \"white\", \"ticks\": \"\"}, \"bgcolor\": \"#E5ECF6\", \"radialaxis\": {\"gridcolor\": \"white\", \"linecolor\": \"white\", \"ticks\": \"\"}}, \"scene\": {\"xaxis\": {\"backgroundcolor\": \"#E5ECF6\", \"gridcolor\": \"white\", \"gridwidth\": 2, \"linecolor\": \"white\", \"showbackground\": true, \"ticks\": \"\", \"zerolinecolor\": \"white\"}, \"yaxis\": {\"backgroundcolor\": \"#E5ECF6\", \"gridcolor\": \"white\", \"gridwidth\": 2, \"linecolor\": \"white\", \"showbackground\": true, \"ticks\": \"\", \"zerolinecolor\": \"white\"}, \"zaxis\": {\"backgroundcolor\": \"#E5ECF6\", \"gridcolor\": \"white\", \"gridwidth\": 2, \"linecolor\": \"white\", \"showbackground\": true, \"ticks\": \"\", \"zerolinecolor\": \"white\"}}, \"shapedefaults\": {\"line\": {\"color\": \"#2a3f5f\"}}, \"ternary\": {\"aaxis\": {\"gridcolor\": \"white\", \"linecolor\": \"white\", \"ticks\": \"\"}, \"baxis\": {\"gridcolor\": \"white\", \"linecolor\": \"white\", \"ticks\": \"\"}, \"bgcolor\": \"#E5ECF6\", \"caxis\": {\"gridcolor\": \"white\", \"linecolor\": \"white\", \"ticks\": \"\"}}, \"title\": {\"x\": 0.05}, \"xaxis\": {\"automargin\": true, \"gridcolor\": \"white\", \"linecolor\": \"white\", \"ticks\": \"\", \"title\": {\"standoff\": 15}, \"zerolinecolor\": \"white\", \"zerolinewidth\": 2}, \"yaxis\": {\"automargin\": true, \"gridcolor\": \"white\", \"linecolor\": \"white\", \"ticks\": \"\", \"title\": {\"standoff\": 15}, \"zerolinecolor\": \"white\", \"zerolinewidth\": 2}}}, \"yaxis\": {\"domain\": [0, 0.2], \"showticklabels\": false}},\n",
       "                        {\"responsive\": true}\n",
       "                    ).then(function(){\n",
       "                            \n",
       "var gd = document.getElementById('a072f5c9-8acc-48aa-b5c5-12d377c3ae95');\n",
       "var x = new MutationObserver(function (mutations, observer) {{\n",
       "        var display = window.getComputedStyle(gd).display;\n",
       "        if (!display || display === 'none') {{\n",
       "            console.log([gd, 'removed!']);\n",
       "            Plotly.purge(gd);\n",
       "            observer.disconnect();\n",
       "        }}\n",
       "}});\n",
       "\n",
       "// Listen for the removal of the full notebook cells\n",
       "var notebookContainer = gd.closest('#notebook-container');\n",
       "if (notebookContainer) {{\n",
       "    x.observe(notebookContainer, {childList: true});\n",
       "}}\n",
       "\n",
       "// Listen for the clearing of the current output cell\n",
       "var outputEl = gd.closest('.output');\n",
       "if (outputEl) {{\n",
       "    x.observe(outputEl, {childList: true});\n",
       "}}\n",
       "\n",
       "                        })\n",
       "                };\n",
       "                });\n",
       "            </script>\n",
       "        </div>"
      ]
     },
     "metadata": {},
     "output_type": "display_data"
    }
   ],
   "source": [
    "utils.visualize([\n",
    "    ['0.2 EPSILON', low_eps],\n",
    "    ['0.5 EPSILON', med_eps],\n",
    "    ['0.8 EPSILON', hig_eps],\n",
    "], cluster=1000)"
   ]
  },
  {
   "cell_type": "markdown",
   "metadata": {},
   "source": [
    "### THREE IDENTICAL RUNS - 7M EPOCHS, 0.3 GAMMA & 0.2 DECAYING EPSILON - RUNTIME ~80 MIN EACH"
   ]
  },
  {
   "cell_type": "code",
   "execution_count": 21,
   "metadata": {},
   "outputs": [],
   "source": [
    "first = utils.load('7mil_low_gamma_low_dynamic_epsilon_0')"
   ]
  },
  {
   "cell_type": "code",
   "execution_count": 22,
   "metadata": {},
   "outputs": [],
   "source": [
    "second = utils.load('7mil_low_gamma_low_dynamic_epsilon_1')"
   ]
  },
  {
   "cell_type": "code",
   "execution_count": 23,
   "metadata": {},
   "outputs": [],
   "source": [
    "third = utils.load('7mil_low_gamma_low_dynamic_epsilon_2')"
   ]
  },
  {
   "cell_type": "code",
   "execution_count": 29,
   "metadata": {},
   "outputs": [
    {
     "data": {
      "application/vnd.plotly.v1+json": {
       "config": {
        "plotlyServerURL": "https://plot.ly"
       },
       "data": [
        {
         "line": {
          "width": 1
         },
         "marker": {
          "color": "#e75f5b"
         },
         "mode": "lines+markers",
         "name": "FIRST",
         "opacity": 0.6,
         "type": "scatter",
         "y": [
          2.32674,
          2.32924,
          2.34992,
          2.3544,
          2.36488,
          2.40536,
          2.41408,
          2.42036,
          2.44304,
          2.45178,
          2.46948,
          2.5002,
          2.49284,
          2.53244,
          2.53048,
          2.5325,
          2.57356,
          2.58984,
          2.6026,
          2.6006,
          2.63258,
          2.64068,
          2.65918,
          2.69312,
          2.68826,
          2.71112,
          2.74128,
          2.7747,
          2.76676,
          2.7743,
          2.8182,
          2.83776,
          2.82694,
          2.84444,
          2.8627,
          2.88766,
          2.93018,
          2.92564,
          2.95044,
          2.95294,
          2.96652,
          3.0076,
          3.0266,
          3.0467,
          3.06934,
          3.08198,
          3.07258,
          3.13146,
          3.11698,
          3.14916,
          3.16832,
          3.1821,
          3.21104,
          3.2303,
          3.24412,
          3.27588,
          3.29818,
          3.30974,
          3.34518,
          3.35922,
          3.38204,
          3.40114,
          3.40898,
          3.42976,
          3.4215,
          3.47612,
          3.48302,
          3.51656,
          3.53594,
          3.55442,
          3.591,
          3.5908,
          3.60804,
          3.63862,
          3.66658,
          3.67188,
          3.69186,
          3.72992,
          3.73488,
          3.77318,
          3.77634,
          3.80758,
          3.83482,
          3.87284,
          3.88916,
          3.88956,
          3.93152,
          3.94768,
          3.9343,
          3.99616,
          3.99594,
          4.09308,
          4.04158,
          4.1135,
          4.10632,
          4.10352,
          4.13848,
          4.14356,
          4.1861,
          4.20226,
          4.23528,
          4.27902,
          4.29362,
          4.34812,
          4.33524,
          4.37616,
          4.4285,
          4.42838,
          4.42536,
          4.43366,
          4.4842,
          4.4976,
          4.56436,
          4.5648,
          4.59468,
          4.5835,
          4.60286,
          4.67672,
          4.6952,
          4.71844,
          4.73118,
          4.75566,
          4.78626,
          4.81212,
          4.80366,
          4.88872,
          4.91434,
          4.8974,
          4.9104,
          4.94526,
          4.97132,
          4.99536,
          5.05146,
          5.05244,
          5.10126,
          5.12852,
          5.1656,
          5.1516,
          5.1538,
          5.21844
         ],
         "yaxis": "y2"
        },
        {
         "line": {
          "width": 1
         },
         "marker": {
          "color": "#52af52"
         },
         "mode": "lines+markers",
         "name": "SECOND",
         "opacity": 0.6,
         "type": "scatter",
         "y": [
          2.32438,
          2.33086,
          2.35578,
          2.36972,
          2.38612,
          2.39392,
          2.4155,
          2.42078,
          2.45796,
          2.45242,
          2.46292,
          2.49616,
          2.48682,
          2.52048,
          2.52478,
          2.55778,
          2.5862,
          2.59412,
          2.595,
          2.61508,
          2.63242,
          2.6723,
          2.67906,
          2.68674,
          2.69908,
          2.71662,
          2.7497,
          2.77402,
          2.7813,
          2.79792,
          2.79112,
          2.82384,
          2.85802,
          2.86466,
          2.8794,
          2.87916,
          2.88344,
          2.92554,
          2.94452,
          2.9744,
          3.00298,
          3.00132,
          2.99892,
          3.03292,
          3.05992,
          3.07004,
          3.12188,
          3.115,
          3.13256,
          3.15128,
          3.17028,
          3.19936,
          3.21742,
          3.22098,
          3.2752,
          3.26,
          3.28432,
          3.34008,
          3.32826,
          3.36292,
          3.38662,
          3.41806,
          3.41128,
          3.40606,
          3.45982,
          3.44656,
          3.4983,
          3.49492,
          3.5209,
          3.5576,
          3.59532,
          3.5987,
          3.61126,
          3.6446,
          3.64248,
          3.6818,
          3.74634,
          3.74158,
          3.74822,
          3.7737,
          3.79388,
          3.83836,
          3.8442,
          3.86838,
          3.89998,
          3.89676,
          3.9577,
          3.94856,
          3.97144,
          3.99214,
          4.01016,
          4.02154,
          4.04786,
          4.08318,
          4.10914,
          4.1108,
          4.12644,
          4.20596,
          4.22518,
          4.2134,
          4.2513,
          4.2304,
          4.29076,
          4.30614,
          4.33594,
          4.39018,
          4.39944,
          4.42682,
          4.44728,
          4.45506,
          4.45948,
          4.53216,
          4.5316,
          4.54352,
          4.55224,
          4.58744,
          4.65732,
          4.68312,
          4.6838,
          4.73186,
          4.71842,
          4.73758,
          4.78358,
          4.82592,
          4.8305,
          4.84196,
          4.89238,
          4.9078,
          4.90696,
          4.97496,
          4.9514,
          5.03032,
          5.02684,
          5.11788,
          5.0814,
          5.10904,
          5.15424,
          5.16112,
          5.18566,
          5.24298
         ],
         "yaxis": "y2"
        },
        {
         "line": {
          "width": 1
         },
         "marker": {
          "color": "#f2ae42"
         },
         "mode": "lines+markers",
         "name": "THIRD",
         "opacity": 0.6,
         "type": "scatter",
         "y": [
          2.31284,
          2.34712,
          2.35788,
          2.37174,
          2.3665,
          2.4039,
          2.42282,
          2.4287,
          2.4534,
          2.45716,
          2.47848,
          2.4838,
          2.49976,
          2.52824,
          2.54572,
          2.56448,
          2.57504,
          2.59534,
          2.5907,
          2.61192,
          2.62972,
          2.64276,
          2.6577,
          2.68698,
          2.68832,
          2.73788,
          2.72694,
          2.74718,
          2.76592,
          2.79366,
          2.7858,
          2.82806,
          2.84298,
          2.87028,
          2.8772,
          2.90156,
          2.9217,
          2.93502,
          2.94762,
          2.98494,
          2.99494,
          2.98652,
          3.0221,
          3.04284,
          3.07714,
          3.08646,
          3.09982,
          3.13106,
          3.1189,
          3.1686,
          3.17608,
          3.1805,
          3.21,
          3.23124,
          3.25088,
          3.24764,
          3.29988,
          3.31442,
          3.33426,
          3.36258,
          3.39042,
          3.4085,
          3.40082,
          3.44954,
          3.46008,
          3.4823,
          3.49984,
          3.55542,
          3.56086,
          3.54008,
          3.57844,
          3.58,
          3.6437,
          3.63898,
          3.65298,
          3.69516,
          3.6821,
          3.72864,
          3.75272,
          3.77158,
          3.80984,
          3.82132,
          3.83754,
          3.86018,
          3.89338,
          3.87402,
          3.91524,
          3.95504,
          3.97494,
          4.00592,
          4.00978,
          4.05744,
          4.05592,
          4.0693,
          4.11742,
          4.12512,
          4.16344,
          4.16512,
          4.18118,
          4.21368,
          4.26916,
          4.27098,
          4.31656,
          4.32394,
          4.35216,
          4.35866,
          4.3732,
          4.41976,
          4.40198,
          4.46392,
          4.5063,
          4.48364,
          4.51642,
          4.52264,
          4.5914,
          4.63616,
          4.63974,
          4.65032,
          4.691,
          4.73178,
          4.76898,
          4.76306,
          4.81456,
          4.7821,
          4.81572,
          4.83436,
          4.84668,
          4.90926,
          4.9338,
          4.95218,
          5.00772,
          5.04694,
          5.02978,
          5.07992,
          5.09824,
          5.12292,
          5.14366,
          5.17,
          5.2161,
          5.24106
         ],
         "yaxis": "y2"
        }
       ],
       "layout": {
        "margin": {
         "b": 20,
         "l": 20,
         "r": 20,
         "t": 20
        },
        "template": {
         "data": {
          "bar": [
           {
            "error_x": {
             "color": "#2a3f5f"
            },
            "error_y": {
             "color": "#2a3f5f"
            },
            "marker": {
             "line": {
              "color": "#E5ECF6",
              "width": 0.5
             }
            },
            "type": "bar"
           }
          ],
          "barpolar": [
           {
            "marker": {
             "line": {
              "color": "#E5ECF6",
              "width": 0.5
             }
            },
            "type": "barpolar"
           }
          ],
          "carpet": [
           {
            "aaxis": {
             "endlinecolor": "#2a3f5f",
             "gridcolor": "white",
             "linecolor": "white",
             "minorgridcolor": "white",
             "startlinecolor": "#2a3f5f"
            },
            "baxis": {
             "endlinecolor": "#2a3f5f",
             "gridcolor": "white",
             "linecolor": "white",
             "minorgridcolor": "white",
             "startlinecolor": "#2a3f5f"
            },
            "type": "carpet"
           }
          ],
          "choropleth": [
           {
            "colorbar": {
             "outlinewidth": 0,
             "ticks": ""
            },
            "type": "choropleth"
           }
          ],
          "contour": [
           {
            "colorbar": {
             "outlinewidth": 0,
             "ticks": ""
            },
            "colorscale": [
             [
              0,
              "#0d0887"
             ],
             [
              0.1111111111111111,
              "#46039f"
             ],
             [
              0.2222222222222222,
              "#7201a8"
             ],
             [
              0.3333333333333333,
              "#9c179e"
             ],
             [
              0.4444444444444444,
              "#bd3786"
             ],
             [
              0.5555555555555556,
              "#d8576b"
             ],
             [
              0.6666666666666666,
              "#ed7953"
             ],
             [
              0.7777777777777778,
              "#fb9f3a"
             ],
             [
              0.8888888888888888,
              "#fdca26"
             ],
             [
              1,
              "#f0f921"
             ]
            ],
            "type": "contour"
           }
          ],
          "contourcarpet": [
           {
            "colorbar": {
             "outlinewidth": 0,
             "ticks": ""
            },
            "type": "contourcarpet"
           }
          ],
          "heatmap": [
           {
            "colorbar": {
             "outlinewidth": 0,
             "ticks": ""
            },
            "colorscale": [
             [
              0,
              "#0d0887"
             ],
             [
              0.1111111111111111,
              "#46039f"
             ],
             [
              0.2222222222222222,
              "#7201a8"
             ],
             [
              0.3333333333333333,
              "#9c179e"
             ],
             [
              0.4444444444444444,
              "#bd3786"
             ],
             [
              0.5555555555555556,
              "#d8576b"
             ],
             [
              0.6666666666666666,
              "#ed7953"
             ],
             [
              0.7777777777777778,
              "#fb9f3a"
             ],
             [
              0.8888888888888888,
              "#fdca26"
             ],
             [
              1,
              "#f0f921"
             ]
            ],
            "type": "heatmap"
           }
          ],
          "heatmapgl": [
           {
            "colorbar": {
             "outlinewidth": 0,
             "ticks": ""
            },
            "colorscale": [
             [
              0,
              "#0d0887"
             ],
             [
              0.1111111111111111,
              "#46039f"
             ],
             [
              0.2222222222222222,
              "#7201a8"
             ],
             [
              0.3333333333333333,
              "#9c179e"
             ],
             [
              0.4444444444444444,
              "#bd3786"
             ],
             [
              0.5555555555555556,
              "#d8576b"
             ],
             [
              0.6666666666666666,
              "#ed7953"
             ],
             [
              0.7777777777777778,
              "#fb9f3a"
             ],
             [
              0.8888888888888888,
              "#fdca26"
             ],
             [
              1,
              "#f0f921"
             ]
            ],
            "type": "heatmapgl"
           }
          ],
          "histogram": [
           {
            "marker": {
             "colorbar": {
              "outlinewidth": 0,
              "ticks": ""
             }
            },
            "type": "histogram"
           }
          ],
          "histogram2d": [
           {
            "colorbar": {
             "outlinewidth": 0,
             "ticks": ""
            },
            "colorscale": [
             [
              0,
              "#0d0887"
             ],
             [
              0.1111111111111111,
              "#46039f"
             ],
             [
              0.2222222222222222,
              "#7201a8"
             ],
             [
              0.3333333333333333,
              "#9c179e"
             ],
             [
              0.4444444444444444,
              "#bd3786"
             ],
             [
              0.5555555555555556,
              "#d8576b"
             ],
             [
              0.6666666666666666,
              "#ed7953"
             ],
             [
              0.7777777777777778,
              "#fb9f3a"
             ],
             [
              0.8888888888888888,
              "#fdca26"
             ],
             [
              1,
              "#f0f921"
             ]
            ],
            "type": "histogram2d"
           }
          ],
          "histogram2dcontour": [
           {
            "colorbar": {
             "outlinewidth": 0,
             "ticks": ""
            },
            "colorscale": [
             [
              0,
              "#0d0887"
             ],
             [
              0.1111111111111111,
              "#46039f"
             ],
             [
              0.2222222222222222,
              "#7201a8"
             ],
             [
              0.3333333333333333,
              "#9c179e"
             ],
             [
              0.4444444444444444,
              "#bd3786"
             ],
             [
              0.5555555555555556,
              "#d8576b"
             ],
             [
              0.6666666666666666,
              "#ed7953"
             ],
             [
              0.7777777777777778,
              "#fb9f3a"
             ],
             [
              0.8888888888888888,
              "#fdca26"
             ],
             [
              1,
              "#f0f921"
             ]
            ],
            "type": "histogram2dcontour"
           }
          ],
          "mesh3d": [
           {
            "colorbar": {
             "outlinewidth": 0,
             "ticks": ""
            },
            "type": "mesh3d"
           }
          ],
          "parcoords": [
           {
            "line": {
             "colorbar": {
              "outlinewidth": 0,
              "ticks": ""
             }
            },
            "type": "parcoords"
           }
          ],
          "pie": [
           {
            "automargin": true,
            "type": "pie"
           }
          ],
          "scatter": [
           {
            "marker": {
             "colorbar": {
              "outlinewidth": 0,
              "ticks": ""
             }
            },
            "type": "scatter"
           }
          ],
          "scatter3d": [
           {
            "line": {
             "colorbar": {
              "outlinewidth": 0,
              "ticks": ""
             }
            },
            "marker": {
             "colorbar": {
              "outlinewidth": 0,
              "ticks": ""
             }
            },
            "type": "scatter3d"
           }
          ],
          "scattercarpet": [
           {
            "marker": {
             "colorbar": {
              "outlinewidth": 0,
              "ticks": ""
             }
            },
            "type": "scattercarpet"
           }
          ],
          "scattergeo": [
           {
            "marker": {
             "colorbar": {
              "outlinewidth": 0,
              "ticks": ""
             }
            },
            "type": "scattergeo"
           }
          ],
          "scattergl": [
           {
            "marker": {
             "colorbar": {
              "outlinewidth": 0,
              "ticks": ""
             }
            },
            "type": "scattergl"
           }
          ],
          "scattermapbox": [
           {
            "marker": {
             "colorbar": {
              "outlinewidth": 0,
              "ticks": ""
             }
            },
            "type": "scattermapbox"
           }
          ],
          "scatterpolar": [
           {
            "marker": {
             "colorbar": {
              "outlinewidth": 0,
              "ticks": ""
             }
            },
            "type": "scatterpolar"
           }
          ],
          "scatterpolargl": [
           {
            "marker": {
             "colorbar": {
              "outlinewidth": 0,
              "ticks": ""
             }
            },
            "type": "scatterpolargl"
           }
          ],
          "scatterternary": [
           {
            "marker": {
             "colorbar": {
              "outlinewidth": 0,
              "ticks": ""
             }
            },
            "type": "scatterternary"
           }
          ],
          "surface": [
           {
            "colorbar": {
             "outlinewidth": 0,
             "ticks": ""
            },
            "colorscale": [
             [
              0,
              "#0d0887"
             ],
             [
              0.1111111111111111,
              "#46039f"
             ],
             [
              0.2222222222222222,
              "#7201a8"
             ],
             [
              0.3333333333333333,
              "#9c179e"
             ],
             [
              0.4444444444444444,
              "#bd3786"
             ],
             [
              0.5555555555555556,
              "#d8576b"
             ],
             [
              0.6666666666666666,
              "#ed7953"
             ],
             [
              0.7777777777777778,
              "#fb9f3a"
             ],
             [
              0.8888888888888888,
              "#fdca26"
             ],
             [
              1,
              "#f0f921"
             ]
            ],
            "type": "surface"
           }
          ],
          "table": [
           {
            "cells": {
             "fill": {
              "color": "#EBF0F8"
             },
             "line": {
              "color": "white"
             }
            },
            "header": {
             "fill": {
              "color": "#C8D4E3"
             },
             "line": {
              "color": "white"
             }
            },
            "type": "table"
           }
          ]
         },
         "layout": {
          "annotationdefaults": {
           "arrowcolor": "#2a3f5f",
           "arrowhead": 0,
           "arrowwidth": 1
          },
          "coloraxis": {
           "colorbar": {
            "outlinewidth": 0,
            "ticks": ""
           }
          },
          "colorscale": {
           "diverging": [
            [
             0,
             "#8e0152"
            ],
            [
             0.1,
             "#c51b7d"
            ],
            [
             0.2,
             "#de77ae"
            ],
            [
             0.3,
             "#f1b6da"
            ],
            [
             0.4,
             "#fde0ef"
            ],
            [
             0.5,
             "#f7f7f7"
            ],
            [
             0.6,
             "#e6f5d0"
            ],
            [
             0.7,
             "#b8e186"
            ],
            [
             0.8,
             "#7fbc41"
            ],
            [
             0.9,
             "#4d9221"
            ],
            [
             1,
             "#276419"
            ]
           ],
           "sequential": [
            [
             0,
             "#0d0887"
            ],
            [
             0.1111111111111111,
             "#46039f"
            ],
            [
             0.2222222222222222,
             "#7201a8"
            ],
            [
             0.3333333333333333,
             "#9c179e"
            ],
            [
             0.4444444444444444,
             "#bd3786"
            ],
            [
             0.5555555555555556,
             "#d8576b"
            ],
            [
             0.6666666666666666,
             "#ed7953"
            ],
            [
             0.7777777777777778,
             "#fb9f3a"
            ],
            [
             0.8888888888888888,
             "#fdca26"
            ],
            [
             1,
             "#f0f921"
            ]
           ],
           "sequentialminus": [
            [
             0,
             "#0d0887"
            ],
            [
             0.1111111111111111,
             "#46039f"
            ],
            [
             0.2222222222222222,
             "#7201a8"
            ],
            [
             0.3333333333333333,
             "#9c179e"
            ],
            [
             0.4444444444444444,
             "#bd3786"
            ],
            [
             0.5555555555555556,
             "#d8576b"
            ],
            [
             0.6666666666666666,
             "#ed7953"
            ],
            [
             0.7777777777777778,
             "#fb9f3a"
            ],
            [
             0.8888888888888888,
             "#fdca26"
            ],
            [
             1,
             "#f0f921"
            ]
           ]
          },
          "colorway": [
           "#636efa",
           "#EF553B",
           "#00cc96",
           "#ab63fa",
           "#FFA15A",
           "#19d3f3",
           "#FF6692",
           "#B6E880",
           "#FF97FF",
           "#FECB52"
          ],
          "font": {
           "color": "#2a3f5f"
          },
          "geo": {
           "bgcolor": "white",
           "lakecolor": "white",
           "landcolor": "#E5ECF6",
           "showlakes": true,
           "showland": true,
           "subunitcolor": "white"
          },
          "hoverlabel": {
           "align": "left"
          },
          "hovermode": "closest",
          "mapbox": {
           "style": "light"
          },
          "paper_bgcolor": "white",
          "plot_bgcolor": "#E5ECF6",
          "polar": {
           "angularaxis": {
            "gridcolor": "white",
            "linecolor": "white",
            "ticks": ""
           },
           "bgcolor": "#E5ECF6",
           "radialaxis": {
            "gridcolor": "white",
            "linecolor": "white",
            "ticks": ""
           }
          },
          "scene": {
           "xaxis": {
            "backgroundcolor": "#E5ECF6",
            "gridcolor": "white",
            "gridwidth": 2,
            "linecolor": "white",
            "showbackground": true,
            "ticks": "",
            "zerolinecolor": "white"
           },
           "yaxis": {
            "backgroundcolor": "#E5ECF6",
            "gridcolor": "white",
            "gridwidth": 2,
            "linecolor": "white",
            "showbackground": true,
            "ticks": "",
            "zerolinecolor": "white"
           },
           "zaxis": {
            "backgroundcolor": "#E5ECF6",
            "gridcolor": "white",
            "gridwidth": 2,
            "linecolor": "white",
            "showbackground": true,
            "ticks": "",
            "zerolinecolor": "white"
           }
          },
          "shapedefaults": {
           "line": {
            "color": "#2a3f5f"
           }
          },
          "ternary": {
           "aaxis": {
            "gridcolor": "white",
            "linecolor": "white",
            "ticks": ""
           },
           "baxis": {
            "gridcolor": "white",
            "linecolor": "white",
            "ticks": ""
           },
           "bgcolor": "#E5ECF6",
           "caxis": {
            "gridcolor": "white",
            "linecolor": "white",
            "ticks": ""
           }
          },
          "title": {
           "x": 0.05
          },
          "xaxis": {
           "automargin": true,
           "gridcolor": "white",
           "linecolor": "white",
           "ticks": "",
           "title": {
            "standoff": 15
           },
           "zerolinecolor": "white",
           "zerolinewidth": 2
          },
          "yaxis": {
           "automargin": true,
           "gridcolor": "white",
           "linecolor": "white",
           "ticks": "",
           "title": {
            "standoff": 15
           },
           "zerolinecolor": "white",
           "zerolinewidth": 2
          }
         }
        },
        "yaxis": {
         "domain": [
          0,
          0.2
         ],
         "showticklabels": false
        }
       }
      },
      "text/html": [
       "<div>\n",
       "        \n",
       "        \n",
       "            <div id=\"4c5220c4-db59-46c3-9759-0df11b921cfc\" class=\"plotly-graph-div\" style=\"height:525px; width:100%;\"></div>\n",
       "            <script type=\"text/javascript\">\n",
       "                require([\"plotly\"], function(Plotly) {\n",
       "                    window.PLOTLYENV=window.PLOTLYENV || {};\n",
       "                    \n",
       "                if (document.getElementById(\"4c5220c4-db59-46c3-9759-0df11b921cfc\")) {\n",
       "                    Plotly.newPlot(\n",
       "                        '4c5220c4-db59-46c3-9759-0df11b921cfc',\n",
       "                        [{\"line\": {\"width\": 1}, \"marker\": {\"color\": \"#e75f5b\"}, \"mode\": \"lines+markers\", \"name\": \"FIRST\", \"opacity\": 0.6, \"type\": \"scatter\", \"y\": [2.32674, 2.32924, 2.34992, 2.3544, 2.36488, 2.40536, 2.41408, 2.42036, 2.44304, 2.45178, 2.46948, 2.5002, 2.49284, 2.53244, 2.53048, 2.5325, 2.57356, 2.58984, 2.6026, 2.6006, 2.63258, 2.64068, 2.65918, 2.69312, 2.68826, 2.71112, 2.74128, 2.7747, 2.76676, 2.7743, 2.8182, 2.83776, 2.82694, 2.84444, 2.8627, 2.88766, 2.93018, 2.92564, 2.95044, 2.95294, 2.96652, 3.0076, 3.0266, 3.0467, 3.06934, 3.08198, 3.07258, 3.13146, 3.11698, 3.14916, 3.16832, 3.1821, 3.21104, 3.2303, 3.24412, 3.27588, 3.29818, 3.30974, 3.34518, 3.35922, 3.38204, 3.40114, 3.40898, 3.42976, 3.4215, 3.47612, 3.48302, 3.51656, 3.53594, 3.55442, 3.591, 3.5908, 3.60804, 3.63862, 3.66658, 3.67188, 3.69186, 3.72992, 3.73488, 3.77318, 3.77634, 3.80758, 3.83482, 3.87284, 3.88916, 3.88956, 3.93152, 3.94768, 3.9343, 3.99616, 3.99594, 4.09308, 4.04158, 4.1135, 4.10632, 4.10352, 4.13848, 4.14356, 4.1861, 4.20226, 4.23528, 4.27902, 4.29362, 4.34812, 4.33524, 4.37616, 4.4285, 4.42838, 4.42536, 4.43366, 4.4842, 4.4976, 4.56436, 4.5648, 4.59468, 4.5835, 4.60286, 4.67672, 4.6952, 4.71844, 4.73118, 4.75566, 4.78626, 4.81212, 4.80366, 4.88872, 4.91434, 4.8974, 4.9104, 4.94526, 4.97132, 4.99536, 5.05146, 5.05244, 5.10126, 5.12852, 5.1656, 5.1516, 5.1538, 5.21844], \"yaxis\": \"y2\"}, {\"line\": {\"width\": 1}, \"marker\": {\"color\": \"#52af52\"}, \"mode\": \"lines+markers\", \"name\": \"SECOND\", \"opacity\": 0.6, \"type\": \"scatter\", \"y\": [2.32438, 2.33086, 2.35578, 2.36972, 2.38612, 2.39392, 2.4155, 2.42078, 2.45796, 2.45242, 2.46292, 2.49616, 2.48682, 2.52048, 2.52478, 2.55778, 2.5862, 2.59412, 2.595, 2.61508, 2.63242, 2.6723, 2.67906, 2.68674, 2.69908, 2.71662, 2.7497, 2.77402, 2.7813, 2.79792, 2.79112, 2.82384, 2.85802, 2.86466, 2.8794, 2.87916, 2.88344, 2.92554, 2.94452, 2.9744, 3.00298, 3.00132, 2.99892, 3.03292, 3.05992, 3.07004, 3.12188, 3.115, 3.13256, 3.15128, 3.17028, 3.19936, 3.21742, 3.22098, 3.2752, 3.26, 3.28432, 3.34008, 3.32826, 3.36292, 3.38662, 3.41806, 3.41128, 3.40606, 3.45982, 3.44656, 3.4983, 3.49492, 3.5209, 3.5576, 3.59532, 3.5987, 3.61126, 3.6446, 3.64248, 3.6818, 3.74634, 3.74158, 3.74822, 3.7737, 3.79388, 3.83836, 3.8442, 3.86838, 3.89998, 3.89676, 3.9577, 3.94856, 3.97144, 3.99214, 4.01016, 4.02154, 4.04786, 4.08318, 4.10914, 4.1108, 4.12644, 4.20596, 4.22518, 4.2134, 4.2513, 4.2304, 4.29076, 4.30614, 4.33594, 4.39018, 4.39944, 4.42682, 4.44728, 4.45506, 4.45948, 4.53216, 4.5316, 4.54352, 4.55224, 4.58744, 4.65732, 4.68312, 4.6838, 4.73186, 4.71842, 4.73758, 4.78358, 4.82592, 4.8305, 4.84196, 4.89238, 4.9078, 4.90696, 4.97496, 4.9514, 5.03032, 5.02684, 5.11788, 5.0814, 5.10904, 5.15424, 5.16112, 5.18566, 5.24298], \"yaxis\": \"y2\"}, {\"line\": {\"width\": 1}, \"marker\": {\"color\": \"#f2ae42\"}, \"mode\": \"lines+markers\", \"name\": \"THIRD\", \"opacity\": 0.6, \"type\": \"scatter\", \"y\": [2.31284, 2.34712, 2.35788, 2.37174, 2.3665, 2.4039, 2.42282, 2.4287, 2.4534, 2.45716, 2.47848, 2.4838, 2.49976, 2.52824, 2.54572, 2.56448, 2.57504, 2.59534, 2.5907, 2.61192, 2.62972, 2.64276, 2.6577, 2.68698, 2.68832, 2.73788, 2.72694, 2.74718, 2.76592, 2.79366, 2.7858, 2.82806, 2.84298, 2.87028, 2.8772, 2.90156, 2.9217, 2.93502, 2.94762, 2.98494, 2.99494, 2.98652, 3.0221, 3.04284, 3.07714, 3.08646, 3.09982, 3.13106, 3.1189, 3.1686, 3.17608, 3.1805, 3.21, 3.23124, 3.25088, 3.24764, 3.29988, 3.31442, 3.33426, 3.36258, 3.39042, 3.4085, 3.40082, 3.44954, 3.46008, 3.4823, 3.49984, 3.55542, 3.56086, 3.54008, 3.57844, 3.58, 3.6437, 3.63898, 3.65298, 3.69516, 3.6821, 3.72864, 3.75272, 3.77158, 3.80984, 3.82132, 3.83754, 3.86018, 3.89338, 3.87402, 3.91524, 3.95504, 3.97494, 4.00592, 4.00978, 4.05744, 4.05592, 4.0693, 4.11742, 4.12512, 4.16344, 4.16512, 4.18118, 4.21368, 4.26916, 4.27098, 4.31656, 4.32394, 4.35216, 4.35866, 4.3732, 4.41976, 4.40198, 4.46392, 4.5063, 4.48364, 4.51642, 4.52264, 4.5914, 4.63616, 4.63974, 4.65032, 4.691, 4.73178, 4.76898, 4.76306, 4.81456, 4.7821, 4.81572, 4.83436, 4.84668, 4.90926, 4.9338, 4.95218, 5.00772, 5.04694, 5.02978, 5.07992, 5.09824, 5.12292, 5.14366, 5.17, 5.2161, 5.24106], \"yaxis\": \"y2\"}],\n",
       "                        {\"margin\": {\"b\": 20, \"l\": 20, \"r\": 20, \"t\": 20}, \"template\": {\"data\": {\"bar\": [{\"error_x\": {\"color\": \"#2a3f5f\"}, \"error_y\": {\"color\": \"#2a3f5f\"}, \"marker\": {\"line\": {\"color\": \"#E5ECF6\", \"width\": 0.5}}, \"type\": \"bar\"}], \"barpolar\": [{\"marker\": {\"line\": {\"color\": \"#E5ECF6\", \"width\": 0.5}}, \"type\": \"barpolar\"}], \"carpet\": [{\"aaxis\": {\"endlinecolor\": \"#2a3f5f\", \"gridcolor\": \"white\", \"linecolor\": \"white\", \"minorgridcolor\": \"white\", \"startlinecolor\": \"#2a3f5f\"}, \"baxis\": {\"endlinecolor\": \"#2a3f5f\", \"gridcolor\": \"white\", \"linecolor\": \"white\", \"minorgridcolor\": \"white\", \"startlinecolor\": \"#2a3f5f\"}, \"type\": \"carpet\"}], \"choropleth\": [{\"colorbar\": {\"outlinewidth\": 0, \"ticks\": \"\"}, \"type\": \"choropleth\"}], \"contour\": [{\"colorbar\": {\"outlinewidth\": 0, \"ticks\": \"\"}, \"colorscale\": [[0.0, \"#0d0887\"], [0.1111111111111111, \"#46039f\"], [0.2222222222222222, \"#7201a8\"], [0.3333333333333333, \"#9c179e\"], [0.4444444444444444, \"#bd3786\"], [0.5555555555555556, \"#d8576b\"], [0.6666666666666666, \"#ed7953\"], [0.7777777777777778, \"#fb9f3a\"], [0.8888888888888888, \"#fdca26\"], [1.0, \"#f0f921\"]], \"type\": \"contour\"}], \"contourcarpet\": [{\"colorbar\": {\"outlinewidth\": 0, \"ticks\": \"\"}, \"type\": \"contourcarpet\"}], \"heatmap\": [{\"colorbar\": {\"outlinewidth\": 0, \"ticks\": \"\"}, \"colorscale\": [[0.0, \"#0d0887\"], [0.1111111111111111, \"#46039f\"], [0.2222222222222222, \"#7201a8\"], [0.3333333333333333, \"#9c179e\"], [0.4444444444444444, \"#bd3786\"], [0.5555555555555556, \"#d8576b\"], [0.6666666666666666, \"#ed7953\"], [0.7777777777777778, \"#fb9f3a\"], [0.8888888888888888, \"#fdca26\"], [1.0, \"#f0f921\"]], \"type\": \"heatmap\"}], \"heatmapgl\": [{\"colorbar\": {\"outlinewidth\": 0, \"ticks\": \"\"}, \"colorscale\": [[0.0, \"#0d0887\"], [0.1111111111111111, \"#46039f\"], [0.2222222222222222, \"#7201a8\"], [0.3333333333333333, \"#9c179e\"], [0.4444444444444444, \"#bd3786\"], [0.5555555555555556, \"#d8576b\"], [0.6666666666666666, \"#ed7953\"], [0.7777777777777778, \"#fb9f3a\"], [0.8888888888888888, \"#fdca26\"], [1.0, \"#f0f921\"]], \"type\": \"heatmapgl\"}], \"histogram\": [{\"marker\": {\"colorbar\": {\"outlinewidth\": 0, \"ticks\": \"\"}}, \"type\": \"histogram\"}], \"histogram2d\": [{\"colorbar\": {\"outlinewidth\": 0, \"ticks\": \"\"}, \"colorscale\": [[0.0, \"#0d0887\"], [0.1111111111111111, \"#46039f\"], [0.2222222222222222, \"#7201a8\"], [0.3333333333333333, \"#9c179e\"], [0.4444444444444444, \"#bd3786\"], [0.5555555555555556, \"#d8576b\"], [0.6666666666666666, \"#ed7953\"], [0.7777777777777778, \"#fb9f3a\"], [0.8888888888888888, \"#fdca26\"], [1.0, \"#f0f921\"]], \"type\": \"histogram2d\"}], \"histogram2dcontour\": [{\"colorbar\": {\"outlinewidth\": 0, \"ticks\": \"\"}, \"colorscale\": [[0.0, \"#0d0887\"], [0.1111111111111111, \"#46039f\"], [0.2222222222222222, \"#7201a8\"], [0.3333333333333333, \"#9c179e\"], [0.4444444444444444, \"#bd3786\"], [0.5555555555555556, \"#d8576b\"], [0.6666666666666666, \"#ed7953\"], [0.7777777777777778, \"#fb9f3a\"], [0.8888888888888888, \"#fdca26\"], [1.0, \"#f0f921\"]], \"type\": \"histogram2dcontour\"}], \"mesh3d\": [{\"colorbar\": {\"outlinewidth\": 0, \"ticks\": \"\"}, \"type\": \"mesh3d\"}], \"parcoords\": [{\"line\": {\"colorbar\": {\"outlinewidth\": 0, \"ticks\": \"\"}}, \"type\": \"parcoords\"}], \"pie\": [{\"automargin\": true, \"type\": \"pie\"}], \"scatter\": [{\"marker\": {\"colorbar\": {\"outlinewidth\": 0, \"ticks\": \"\"}}, \"type\": \"scatter\"}], \"scatter3d\": [{\"line\": {\"colorbar\": {\"outlinewidth\": 0, \"ticks\": \"\"}}, \"marker\": {\"colorbar\": {\"outlinewidth\": 0, \"ticks\": \"\"}}, \"type\": \"scatter3d\"}], \"scattercarpet\": [{\"marker\": {\"colorbar\": {\"outlinewidth\": 0, \"ticks\": \"\"}}, \"type\": \"scattercarpet\"}], \"scattergeo\": [{\"marker\": {\"colorbar\": {\"outlinewidth\": 0, \"ticks\": \"\"}}, \"type\": \"scattergeo\"}], \"scattergl\": [{\"marker\": {\"colorbar\": {\"outlinewidth\": 0, \"ticks\": \"\"}}, \"type\": \"scattergl\"}], \"scattermapbox\": [{\"marker\": {\"colorbar\": {\"outlinewidth\": 0, \"ticks\": \"\"}}, \"type\": \"scattermapbox\"}], \"scatterpolar\": [{\"marker\": {\"colorbar\": {\"outlinewidth\": 0, \"ticks\": \"\"}}, \"type\": \"scatterpolar\"}], \"scatterpolargl\": [{\"marker\": {\"colorbar\": {\"outlinewidth\": 0, \"ticks\": \"\"}}, \"type\": \"scatterpolargl\"}], \"scatterternary\": [{\"marker\": {\"colorbar\": {\"outlinewidth\": 0, \"ticks\": \"\"}}, \"type\": \"scatterternary\"}], \"surface\": [{\"colorbar\": {\"outlinewidth\": 0, \"ticks\": \"\"}, \"colorscale\": [[0.0, \"#0d0887\"], [0.1111111111111111, \"#46039f\"], [0.2222222222222222, \"#7201a8\"], [0.3333333333333333, \"#9c179e\"], [0.4444444444444444, \"#bd3786\"], [0.5555555555555556, \"#d8576b\"], [0.6666666666666666, \"#ed7953\"], [0.7777777777777778, \"#fb9f3a\"], [0.8888888888888888, \"#fdca26\"], [1.0, \"#f0f921\"]], \"type\": \"surface\"}], \"table\": [{\"cells\": {\"fill\": {\"color\": \"#EBF0F8\"}, \"line\": {\"color\": \"white\"}}, \"header\": {\"fill\": {\"color\": \"#C8D4E3\"}, \"line\": {\"color\": \"white\"}}, \"type\": \"table\"}]}, \"layout\": {\"annotationdefaults\": {\"arrowcolor\": \"#2a3f5f\", \"arrowhead\": 0, \"arrowwidth\": 1}, \"coloraxis\": {\"colorbar\": {\"outlinewidth\": 0, \"ticks\": \"\"}}, \"colorscale\": {\"diverging\": [[0, \"#8e0152\"], [0.1, \"#c51b7d\"], [0.2, \"#de77ae\"], [0.3, \"#f1b6da\"], [0.4, \"#fde0ef\"], [0.5, \"#f7f7f7\"], [0.6, \"#e6f5d0\"], [0.7, \"#b8e186\"], [0.8, \"#7fbc41\"], [0.9, \"#4d9221\"], [1, \"#276419\"]], \"sequential\": [[0.0, \"#0d0887\"], [0.1111111111111111, \"#46039f\"], [0.2222222222222222, \"#7201a8\"], [0.3333333333333333, \"#9c179e\"], [0.4444444444444444, \"#bd3786\"], [0.5555555555555556, \"#d8576b\"], [0.6666666666666666, \"#ed7953\"], [0.7777777777777778, \"#fb9f3a\"], [0.8888888888888888, \"#fdca26\"], [1.0, \"#f0f921\"]], \"sequentialminus\": [[0.0, \"#0d0887\"], [0.1111111111111111, \"#46039f\"], [0.2222222222222222, \"#7201a8\"], [0.3333333333333333, \"#9c179e\"], [0.4444444444444444, \"#bd3786\"], [0.5555555555555556, \"#d8576b\"], [0.6666666666666666, \"#ed7953\"], [0.7777777777777778, \"#fb9f3a\"], [0.8888888888888888, \"#fdca26\"], [1.0, \"#f0f921\"]]}, \"colorway\": [\"#636efa\", \"#EF553B\", \"#00cc96\", \"#ab63fa\", \"#FFA15A\", \"#19d3f3\", \"#FF6692\", \"#B6E880\", \"#FF97FF\", \"#FECB52\"], \"font\": {\"color\": \"#2a3f5f\"}, \"geo\": {\"bgcolor\": \"white\", \"lakecolor\": \"white\", \"landcolor\": \"#E5ECF6\", \"showlakes\": true, \"showland\": true, \"subunitcolor\": \"white\"}, \"hoverlabel\": {\"align\": \"left\"}, \"hovermode\": \"closest\", \"mapbox\": {\"style\": \"light\"}, \"paper_bgcolor\": \"white\", \"plot_bgcolor\": \"#E5ECF6\", \"polar\": {\"angularaxis\": {\"gridcolor\": \"white\", \"linecolor\": \"white\", \"ticks\": \"\"}, \"bgcolor\": \"#E5ECF6\", \"radialaxis\": {\"gridcolor\": \"white\", \"linecolor\": \"white\", \"ticks\": \"\"}}, \"scene\": {\"xaxis\": {\"backgroundcolor\": \"#E5ECF6\", \"gridcolor\": \"white\", \"gridwidth\": 2, \"linecolor\": \"white\", \"showbackground\": true, \"ticks\": \"\", \"zerolinecolor\": \"white\"}, \"yaxis\": {\"backgroundcolor\": \"#E5ECF6\", \"gridcolor\": \"white\", \"gridwidth\": 2, \"linecolor\": \"white\", \"showbackground\": true, \"ticks\": \"\", \"zerolinecolor\": \"white\"}, \"zaxis\": {\"backgroundcolor\": \"#E5ECF6\", \"gridcolor\": \"white\", \"gridwidth\": 2, \"linecolor\": \"white\", \"showbackground\": true, \"ticks\": \"\", \"zerolinecolor\": \"white\"}}, \"shapedefaults\": {\"line\": {\"color\": \"#2a3f5f\"}}, \"ternary\": {\"aaxis\": {\"gridcolor\": \"white\", \"linecolor\": \"white\", \"ticks\": \"\"}, \"baxis\": {\"gridcolor\": \"white\", \"linecolor\": \"white\", \"ticks\": \"\"}, \"bgcolor\": \"#E5ECF6\", \"caxis\": {\"gridcolor\": \"white\", \"linecolor\": \"white\", \"ticks\": \"\"}}, \"title\": {\"x\": 0.05}, \"xaxis\": {\"automargin\": true, \"gridcolor\": \"white\", \"linecolor\": \"white\", \"ticks\": \"\", \"title\": {\"standoff\": 15}, \"zerolinecolor\": \"white\", \"zerolinewidth\": 2}, \"yaxis\": {\"automargin\": true, \"gridcolor\": \"white\", \"linecolor\": \"white\", \"ticks\": \"\", \"title\": {\"standoff\": 15}, \"zerolinecolor\": \"white\", \"zerolinewidth\": 2}}}, \"yaxis\": {\"domain\": [0, 0.2], \"showticklabels\": false}},\n",
       "                        {\"responsive\": true}\n",
       "                    ).then(function(){\n",
       "                            \n",
       "var gd = document.getElementById('4c5220c4-db59-46c3-9759-0df11b921cfc');\n",
       "var x = new MutationObserver(function (mutations, observer) {{\n",
       "        var display = window.getComputedStyle(gd).display;\n",
       "        if (!display || display === 'none') {{\n",
       "            console.log([gd, 'removed!']);\n",
       "            Plotly.purge(gd);\n",
       "            observer.disconnect();\n",
       "        }}\n",
       "}});\n",
       "\n",
       "// Listen for the removal of the full notebook cells\n",
       "var notebookContainer = gd.closest('#notebook-container');\n",
       "if (notebookContainer) {{\n",
       "    x.observe(notebookContainer, {childList: true});\n",
       "}}\n",
       "\n",
       "// Listen for the clearing of the current output cell\n",
       "var outputEl = gd.closest('.output');\n",
       "if (outputEl) {{\n",
       "    x.observe(outputEl, {childList: true});\n",
       "}}\n",
       "\n",
       "                        })\n",
       "                };\n",
       "                });\n",
       "            </script>\n",
       "        </div>"
      ]
     },
     "metadata": {},
     "output_type": "display_data"
    }
   ],
   "source": [
    "utils.visualize([\n",
    "    ['FIRST', first],\n",
    "    ['SECOND', second],\n",
    "    ['THIRD', third],\n",
    "], cluster=50000)"
   ]
  },
  {
   "cell_type": "markdown",
   "metadata": {},
   "source": [
    "### SCORES PER RUN"
   ]
  },
  {
   "cell_type": "code",
   "execution_count": 46,
   "metadata": {},
   "outputs": [
    {
     "name": "stdout",
     "output_type": "stream",
     "text": [
      "FIRST RUN: 36\n"
     ]
    }
   ],
   "source": [
    "print('FIRST RUN:', max(first))"
   ]
  },
  {
   "cell_type": "code",
   "execution_count": 48,
   "metadata": {},
   "outputs": [
    {
     "name": "stdout",
     "output_type": "stream",
     "text": [
      "SECOND RUN: 35\n"
     ]
    }
   ],
   "source": [
    "print('SECOND RUN:', max(second))"
   ]
  },
  {
   "cell_type": "code",
   "execution_count": 47,
   "metadata": {},
   "outputs": [
    {
     "name": "stdout",
     "output_type": "stream",
     "text": [
      "THIRD RUN: 34\n"
     ]
    }
   ],
   "source": [
    "print('THIRD RUN:', max(third))"
   ]
  },
  {
   "cell_type": "markdown",
   "metadata": {},
   "source": [
    "### PLAYING WITH THE BEST POLICY"
   ]
  },
  {
   "cell_type": "code",
   "execution_count": 75,
   "metadata": {},
   "outputs": [],
   "source": [
    "# MATRIX SIZE = 2^8 * 4"
   ]
  },
  {
   "cell_type": "code",
   "execution_count": 72,
   "metadata": {},
   "outputs": [],
   "source": [
    "# ALL POSSIBLE STATES * NUMBER OF ACTIONS"
   ]
  },
  {
   "cell_type": "code",
   "execution_count": 41,
   "metadata": {},
   "outputs": [],
   "source": [
    "best_policy = utils.load('7mil_policy_0')"
   ]
  },
  {
   "cell_type": "code",
   "execution_count": 43,
   "metadata": {
    "scrolled": true
   },
   "outputs": [
    {
     "name": "stdout",
     "output_type": "stream",
     "text": [
      "[0. 0. 0. 0.]\n",
      "[0. 0. 0. 0.]\n",
      "[0. 0. 0. 0.]\n",
      "[0. 0. 0. 0.]\n",
      "[0. 0. 0. 0.]\n",
      "[0. 0. 0. 0.]\n",
      "[0. 0. 0. 0.]\n",
      "[0. 0. 0. 0.]\n",
      "[0. 0. 0. 0.]\n",
      "[0. 0. 0. 0.]\n",
      "[0. 0. 0. 0.]\n",
      "[0. 0. 0. 0.]\n",
      "[0. 0. 0. 0.]\n",
      "[0. 0. 0. 0.]\n",
      "[0. 0. 0. 0.]\n",
      "[0. 0. 0. 0.]\n",
      "[-142.85714286 -142.85714286 -142.85714286 -142.85714286]\n",
      "[ 30.50557035 -90.61482267 -98.78213643 -99.55204065]\n",
      "[-99.87085638 -99.80073592 -99.89094315   0.49960772]\n",
      "[-41.85714286 -99.63704002 -99.63704002   1.20981878]\n",
      "[-99.98841274   0.10904285 -99.96671663 -99.98647312]\n",
      "[ 30.44970238   0.36364271 -98.71738776 -99.6612572 ]\n",
      "[-9.96295996e+01  6.02989163e-02 -9.98497168e+01  6.61228123e-01]\n",
      "[ 3.06653559e+01  4.49137408e-02 -9.69695126e+01  1.21157606e+00]\n",
      "[-99.86506943 -99.89037223   1.2180864  -99.86952446]\n",
      "[  2.23271709 -98.78208168   0.35989921 -99.33018487]\n",
      "[-99.89635422 -99.80037054   0.50111579   0.13047413]\n",
      "[ 30.6612173  -99.26415543   1.28395998   1.21157185]\n",
      "[-99.84837983   0.15028787   1.21157609 -99.87085314]\n",
      "[  1.66981513   0.19921309   0.36594635 -96.98207072]\n",
      "[-9.99608563e+01  6.61065177e-02  1.34915119e-01  3.04508636e+00]\n",
      "[31.21348954  0.93271709  0.66981513  1.21162293]\n",
      "[-142.85714286 -142.85714286 -142.85714286 -142.85714286]\n",
      "[  0.36404224 -99.89078733 -99.79460085 -99.86506944]\n",
      "[-99.50038909 -96.96125229 -98.76723616  10.15607057]\n",
      "[  0.6635224  -99.49900451 -96.93971538  30.66352231]\n",
      "[-99.87085302   0.49882316 -99.8009072  -99.95507085]\n",
      "[  0.4350851    1.21982117 -99.87084096 -99.63635733]\n",
      "[-90.08837707   0.66377334 -96.96084235   2.23247868]\n",
      "[  1.233288     0.57983057 -99.50094316  30.66538969]\n",
      "[-99.95503024 -99.8916348    0.36348106 -99.8916348 ]\n",
      "[  0.49939297 -99.84838447   0.10961265 -99.86508743]\n",
      "[-9.08650849e+01 -9.08695090e+01  4.49137671e-02  3.03629600e+01]\n",
      "[ 4.99615083e-01 -9.95651468e+01  3.86396011e-02  4.04045595e+00]\n",
      "[-99.85028744   1.2117473    0.10215807 -99.86497601]\n",
      "[  0.12874407   0.12862431   0.13048996 -99.60902944]\n",
      "[-99.50163112   0.66981662   0.13048996   1.49905684]\n",
      "[0.6612296  1.2117473  1.28838415 2.23266648]\n",
      "[-142.85714286 -142.85714286 -142.85714286 -142.85714286]\n",
      "[ 10.03272207 -99.33462584 -99.49907556 -98.78201936]\n",
      "[-98.78647406 -99.50112253 -98.78206935   1.36295998]\n",
      "[  2.21174104 -99.49438907 -99.33647769   1.43048998]\n",
      "[-99.8016846    1.23249386 -99.86503351 -99.80090257]\n",
      "[-41.85714286   0.13496649 -98.7181121  -99.63838735]\n",
      "[-98.76750614   0.4417851  -98.78825229   4.03915905]\n",
      "[  1.66538361   0.42913679 -99.26600577   4.04258763]\n",
      "[-99.62826775 -99.87137577   0.44166377 -99.85056684]\n",
      "[  1.52075337 -98.78650909   0.66364733 -99.33635267]\n",
      "[-98.78825925 -98.78652549   0.43054228   1.66348697]\n",
      "[  1.42874104 -99.57120592   0.42874104   1.66364104]\n",
      "[-99.6299992    0.42879408   0.19905697 -99.87137569]\n",
      "[  1.42874104   0.5055564    1.28395998 -99.5712569 ]\n",
      "[-99.59213643   0.66364312   1.20409836   2.21213678]\n",
      "[1.42874104 0.66981513 0.43045596 1.66981513]\n",
      "[-142.85714286 -142.85714286 -142.85714286 -142.85714286]\n",
      "[  0.36998543 -99.89038313 -99.89038313 -99.88843366]\n",
      "[-112.85714286  -99.84972225  -99.63594822    0.49961363]\n",
      "[ 4.55013211e-02 -9.96301707e+01 -9.99383693e+01  9.10795099e-01]\n",
      "[-96.95952122  31.28260637 -99.50032085 -90.63652381]\n",
      "[  0.36982927   2.20540593 -99.33837822 -99.32827404]\n",
      "[-99.33018484   4.01801978 -98.79459407   0.45028336]\n",
      "[  0.43045914  33.84288367 -90.84993072   0.57404366]\n",
      "[-99.79904046 -99.63457447   1.21174312 -99.96084084]\n",
      "[  0.12915905 -99.85011482   0.13490454 -99.80038773]\n",
      "[-99.80168756 -99.8003365    0.67038496   0.50095998]\n",
      "[  0.11095954 -99.87084223   0.14989954   1.51638505]\n",
      "[-90.06670131  33.05988547   0.36542496 -90.86513643]\n",
      "[  0.66976365  10.90543016   0.37171784 -96.89151495]\n",
      "[-98.76711548  30.66352431   0.44235918   0.75491552]\n",
      "[ 0.4560405  33.03862418  1.21798055  0.57405753]\n",
      "[0. 0. 0. 0.]\n",
      "[0. 0. 0. 0.]\n",
      "[0. 0. 0. 0.]\n",
      "[0. 0. 0. 0.]\n",
      "[0. 0. 0. 0.]\n",
      "[0. 0. 0. 0.]\n",
      "[0. 0. 0. 0.]\n",
      "[0. 0. 0. 0.]\n",
      "[0. 0. 0. 0.]\n",
      "[0. 0. 0. 0.]\n",
      "[0. 0. 0. 0.]\n",
      "[0. 0. 0. 0.]\n",
      "[0. 0. 0. 0.]\n",
      "[0. 0. 0. 0.]\n",
      "[0. 0. 0. 0.]\n",
      "[0. 0. 0. 0.]\n",
      "[-142.85714286 -142.85714286 -142.85714286 -142.85714286]\n",
      "[  0.38454695 -99.84971664 -99.85028295 -99.80078269]\n",
      "[ -99.56503501 -103.55714286  -99.49402867    1.15027775]\n",
      "[  0.49961363 -99.55028294 -99.50095706   1.43052689]\n",
      "[-99.50077179   1.66404367 -99.50037235 -99.33018614]\n",
      "[  0.50728728   1.67038928 -99.33595633 -99.85028712]\n",
      "[-98.76671213   2.23328787 -98.76671213   2.23463094]\n",
      "[  1.21353028   2.21174271 -99.5649149    1.66162178]\n",
      "[-99.89038734 -99.90013486   1.23266959 -99.63462448]\n",
      "[  0.12874407 -99.08785888   0.20096093 -99.93971172]\n",
      "[-99.5497121  -99.33535677   0.66326957  10.14950902]\n",
      "[  0.66998636 -99.33445327   0.36405908   4.11099591]\n",
      "[-99.55028291   4.2716136    1.2180864  -99.33013486]\n",
      "[  1.21353028 -41.85714286   0.20094026 -99.55764082]\n",
      "[-99.49900409  10.38478825   1.2179651    1.44976532]\n",
      "[0.50540051 4.10888828 0.42913679 1.42919823]\n",
      "[0. 0. 0. 0.]\n",
      "[0. 0. 0. 0.]\n",
      "[0. 0. 0. 0.]\n",
      "[0. 0. 0. 0.]\n",
      "[0. 0. 0. 0.]\n",
      "[0. 0. 0. 0.]\n",
      "[0. 0. 0. 0.]\n",
      "[0. 0. 0. 0.]\n",
      "[0. 0. 0. 0.]\n",
      "[0. 0. 0. 0.]\n",
      "[0. 0. 0. 0.]\n",
      "[0. 0. 0. 0.]\n",
      "[0. 0. 0. 0.]\n",
      "[0. 0. 0. 0.]\n",
      "[0. 0. 0. 0.]\n",
      "[0. 0. 0. 0.]\n",
      "[-142.85714286 -142.85714286 -142.85714286 -142.85714286]\n",
      "[  1.21792918 -99.87080173 -99.77924534 -99.97004033]\n",
      "[-99.96124191 -99.98836178 -99.70538252   0.10904609]\n",
      "[  3.08205684 -99.96728715 -99.88905587   0.10907357]\n",
      "[-99.85023145   0.13491835 -99.89647461 -99.95952449]\n",
      "[  0.42875851   0.34047413 -99.8712572  -99.8502348 ]\n",
      "[-99.95508488   0.10905684 -99.86952546   0.10836519]\n",
      "[  0.429195     0.19909419 -99.85781213   0.12914237]\n",
      "[-90.86508487 -98.76745486  39.93329869 -90.86508487]\n",
      "[  1.21848455 -99.31482128  30.49909743 -96.94023577]\n",
      "[-9.08714239e+01 -9.99883618e+01  4.01174268e+00  5.97128457e-02]\n",
      "[  0.1350864  -99.54833392  10.20094413   0.15028365]\n",
      "[-90.08647447   0.49848871   4.01174268 -98.7964772 ]\n",
      "[  1.21348954   1.44332797  31.21157185 -90.86935005]\n",
      "[-99.33457451   0.44971288   2.21808497   0.52210057]\n",
      "[ 3.29461718  0.57405766 30.20094026  0.66364771]\n",
      "[-142.85714286 -142.85714286 -142.85714286 -142.85714286]\n",
      "[  1.44970238 -98.76670139 -99.55011158 -99.42595634]\n",
      "[-99.87137789 -99.65396881 -99.56531611   1.23329877]\n",
      "[  4.03272926 -98.79018122 -99.49402963   0.43045595]\n",
      "[-99.85028714   0.44972784 -99.86952127 -99.86508165]\n",
      "[  1.49836844   0.36537874 -99.57120592 -99.54971537]\n",
      "[-99.86947504   0.15028462 -99.80095395   0.66404698]\n",
      "[  2.21808497   0.13047412 -98.71737251   0.66365808]\n",
      "[-99.56507084 -99.50038904   4.05981789 -99.55023161]\n",
      "[  1.43485271 -99.55023607  12.80921773 -96.94023577]\n",
      "[-99.49907094 -99.49906011   1.93271748   0.47204147]\n",
      "[  1.43496649 -98.78651006   1.50539927   0.66122812]\n",
      "[-99.33462576   0.43491515  10.13508963 -99.50095706]\n",
      "[  1.68466422   1.21850498   1.44972797 -99.33651274]\n",
      "[-98.78837581   0.49848409   2.20405765   0.66291506]\n",
      "[ 1.43485271  0.44950902 10.19904601  0.93271255]\n",
      "[0. 0. 0. 0.]\n",
      "[0. 0. 0. 0.]\n",
      "[0. 0. 0. 0.]\n",
      "[0. 0. 0. 0.]\n",
      "[0. 0. 0. 0.]\n",
      "[0. 0. 0. 0.]\n",
      "[0. 0. 0. 0.]\n",
      "[0. 0. 0. 0.]\n",
      "[0. 0. 0. 0.]\n",
      "[0. 0. 0. 0.]\n",
      "[0. 0. 0. 0.]\n",
      "[0. 0. 0. 0.]\n",
      "[0. 0. 0. 0.]\n",
      "[0. 0. 0. 0.]\n",
      "[0. 0. 0. 0.]\n",
      "[0. 0. 0. 0.]\n",
      "[0. 0. 0. 0.]\n",
      "[0. 0. 0. 0.]\n",
      "[0. 0. 0. 0.]\n",
      "[0. 0. 0. 0.]\n",
      "[0. 0. 0. 0.]\n",
      "[0. 0. 0. 0.]\n",
      "[0. 0. 0. 0.]\n",
      "[0. 0. 0. 0.]\n",
      "[0. 0. 0. 0.]\n",
      "[0. 0. 0. 0.]\n",
      "[0. 0. 0. 0.]\n",
      "[0. 0. 0. 0.]\n",
      "[0. 0. 0. 0.]\n",
      "[0. 0. 0. 0.]\n",
      "[0. 0. 0. 0.]\n",
      "[0. 0. 0. 0.]\n",
      "[-142.85714286 -142.85714286 -142.85714286 -142.85714286]\n",
      "[  0.44971709 -99.63017085 -99.79905446 -99.89825593]\n",
      "[-99.85011629 -99.84836963 -99.87085637   0.44971709]\n",
      "[  3.03598366 -99.0892049  -99.89095718   0.20555497]\n",
      "[-99.56951045   2.21808501 -99.56951045 -99.50077179]\n",
      "[  1.23288231   4.03289912 -98.79013026 -99.54970123]\n",
      "[-98.78807142   4.06028324 -96.89095394   0.6698651 ]\n",
      "[  1.21158821   2.44594455 -99.33652814   0.66537455]\n",
      "[-99.57068512 -99.68841303   1.49905556 -99.57137773]\n",
      "[  0.36028786 -98.78207082   1.49962765 -99.64011632]\n",
      "[-99.9063572  -99.55045489 -11.55714286   1.51638505]\n",
      "[  0.38478352 -98.78651046  10.36121775   0.44949512]\n",
      "[-99.49905545   1.43496649   2.23254552 -96.72001039]\n",
      "[ 9.36427955e-02  1.66542549e+00  1.42874733e+00 -9.95003724e+01]\n",
      "[-99.49904002   1.45029877   1.45029877   1.21808963]\n",
      "[0.50095998 1.43496552 1.42874132 0.91808963]\n",
      "[0. 0. 0. 0.]\n",
      "[0. 0. 0. 0.]\n",
      "[0. 0. 0. 0.]\n",
      "[0. 0. 0. 0.]\n",
      "[0. 0. 0. 0.]\n",
      "[0. 0. 0. 0.]\n",
      "[0. 0. 0. 0.]\n",
      "[0. 0. 0. 0.]\n",
      "[0. 0. 0. 0.]\n",
      "[0. 0. 0. 0.]\n",
      "[0. 0. 0. 0.]\n",
      "[0. 0. 0. 0.]\n",
      "[0. 0. 0. 0.]\n",
      "[0. 0. 0. 0.]\n",
      "[0. 0. 0. 0.]\n",
      "[0. 0. 0. 0.]\n",
      "[0. 0. 0. 0.]\n",
      "[0. 0. 0. 0.]\n",
      "[0. 0. 0. 0.]\n",
      "[0. 0. 0. 0.]\n",
      "[0. 0. 0. 0.]\n",
      "[0. 0. 0. 0.]\n",
      "[0. 0. 0. 0.]\n",
      "[0. 0. 0. 0.]\n",
      "[0. 0. 0. 0.]\n",
      "[0. 0. 0. 0.]\n",
      "[0. 0. 0. 0.]\n",
      "[0. 0. 0. 0.]\n",
      "[0. 0. 0. 0.]\n",
      "[0. 0. 0. 0.]\n",
      "[0. 0. 0. 0.]\n",
      "[0. 0. 0. 0.]\n",
      "[0. 0. 0. 0.]\n",
      "[0. 0. 0. 0.]\n",
      "[0. 0. 0. 0.]\n",
      "[0. 0. 0. 0.]\n",
      "[0. 0. 0. 0.]\n",
      "[0. 0. 0. 0.]\n",
      "[0. 0. 0. 0.]\n",
      "[0. 0. 0. 0.]\n",
      "[0. 0. 0. 0.]\n",
      "[0. 0. 0. 0.]\n",
      "[0. 0. 0. 0.]\n",
      "[0. 0. 0. 0.]\n",
      "[0. 0. 0. 0.]\n",
      "[0. 0. 0. 0.]\n",
      "[0. 0. 0. 0.]\n",
      "[0. 0. 0. 0.]\n"
     ]
    }
   ],
   "source": [
    "for p in best_policy:\n",
    "    print(p)"
   ]
  },
  {
   "cell_type": "code",
   "execution_count": null,
   "metadata": {},
   "outputs": [],
   "source": []
  }
 ],
 "metadata": {
  "kernelspec": {
   "display_name": "Python 3",
   "language": "python",
   "name": "python3"
  },
  "language_info": {
   "codemirror_mode": {
    "name": "ipython",
    "version": 3
   },
   "file_extension": ".py",
   "mimetype": "text/x-python",
   "name": "python",
   "nbconvert_exporter": "python",
   "pygments_lexer": "ipython3",
   "version": "3.7.9"
  }
 },
 "nbformat": 4,
 "nbformat_minor": 4
}
