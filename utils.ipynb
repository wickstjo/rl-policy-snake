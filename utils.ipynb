{
 "cells": [
  {
   "cell_type": "code",
   "execution_count": 2,
   "metadata": {},
   "outputs": [],
   "source": [
    "import plotly.graph_objs as go\n",
    "import numpy as np\n",
    "import time\n",
    "import pandas as pd"
   ]
  },
  {
   "cell_type": "markdown",
   "metadata": {},
   "source": [
    "### VISUALIZE DATA"
   ]
  },
  {
   "cell_type": "code",
   "execution_count": 1,
   "metadata": {},
   "outputs": [],
   "source": [
    "def visualize(data, cluster=0):\n",
    "\n",
    "    # PLACEHOLDER CONTAINER\n",
    "    structure = []\n",
    "    \n",
    "    # LINE COLOURS\n",
    "    colours = ['#e75f5b', '#52af52', '#a93581', '#f2ae42', '#ffc0cb', '#928478']\n",
    "    \n",
    "    # CLUSTER THE DATA IF REQUESTED\n",
    "    if cluster > 0:\n",
    "        for index, block in enumerate(data):\n",
    "            data[index][1] = np.mean(np.array(block[1][1:]).reshape(-1, cluster), axis=1)\n",
    "    \n",
    "    # CREATE LINE FOR EACH COLUMN IN THE DATAFRAME\n",
    "    for index, row in enumerate(data):\n",
    "        \n",
    "        # APPEND DOT CHART\n",
    "        structure.append(go.Scatter(\n",
    "            mode='lines+markers',\n",
    "            y=row[1],\n",
    "            line=dict(width=1),\n",
    "            marker=dict(color=colours[index]),\n",
    "            opacity=0.6,\n",
    "            yaxis='y2',\n",
    "            name=row[0]\n",
    "        ))\n",
    "\n",
    "    # LAYOUT PARAMS\n",
    "    layout = go.Layout(\n",
    "        yaxis = dict(domain = [0, 0.2],\n",
    "        showticklabels=False),\n",
    "        margin=dict(l=20, r=20, t=20, b=20)\n",
    "    )\n",
    "    \n",
    "    # CREATE THE FIGURE\n",
    "    fig = go.Figure(\n",
    "        data=structure,\n",
    "        layout=layout\n",
    "    )\n",
    "    \n",
    "    # ADD BUTTON MAP\n",
    "    fig.update_layout(\n",
    "        xaxis=dict()\n",
    "    )\n",
    "    \n",
    "    # FINALLY SHOW THE GRAPH\n",
    "    fig.show()"
   ]
  },
  {
   "cell_type": "markdown",
   "metadata": {},
   "source": [
    "### SAVE & LOAD NUMPY ARRAY"
   ]
  },
  {
   "cell_type": "code",
   "execution_count": 1,
   "metadata": {},
   "outputs": [],
   "source": [
    "def save(name, data):\n",
    "    np.save('results/' + name + '.npy', data)"
   ]
  },
  {
   "cell_type": "code",
   "execution_count": 2,
   "metadata": {},
   "outputs": [],
   "source": [
    "def load(name):\n",
    "    return np.load('results/' + name + '.npy')"
   ]
  },
  {
   "cell_type": "markdown",
   "metadata": {},
   "source": [
    "### SHOW RESULTS"
   ]
  },
  {
   "cell_type": "code",
   "execution_count": 2,
   "metadata": {},
   "outputs": [],
   "source": [
    "def show_best(data):\n",
    "    \n",
    "    # CREATE NEW DATAFRAME\n",
    "    dataframe = pd.DataFrame(index=data.keys())\n",
    "    \n",
    "    # DATA CONTAINERS\n",
    "    avgs = []\n",
    "    highs = []\n",
    "\n",
    "    # LOOP IN DATA\n",
    "    for value in data:\n",
    "        highs.append(max(data[value]))\n",
    "        avgs.append(np.average(data[value]))\n",
    "    \n",
    "    # PUSH VALUES\n",
    "    dataframe['AVERAGE'] = avgs\n",
    "    dataframe['HIGHEST'] = highs\n",
    "    \n",
    "    return dataframe.sort_values(by=['HIGHEST'], ascending=False)"
   ]
  },
  {
   "cell_type": "code",
   "execution_count": null,
   "metadata": {},
   "outputs": [],
   "source": []
  }
 ],
 "metadata": {
  "kernelspec": {
   "display_name": "Python 3",
   "language": "python",
   "name": "python3"
  },
  "language_info": {
   "codemirror_mode": {
    "name": "ipython",
    "version": 3
   },
   "file_extension": ".py",
   "mimetype": "text/x-python",
   "name": "python",
   "nbconvert_exporter": "python",
   "pygments_lexer": "ipython3",
   "version": "3.7.9"
  }
 },
 "nbformat": 4,
 "nbformat_minor": 4
}
